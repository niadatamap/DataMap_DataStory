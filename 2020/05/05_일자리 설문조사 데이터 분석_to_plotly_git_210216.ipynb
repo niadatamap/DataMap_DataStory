{
 "cells": [
  {
   "cell_type": "code",
   "execution_count": null,
   "metadata": {},
   "outputs": [],
   "source": [
    "import pandas as pd\n",
    "import seaborn as sns"
   ]
  },
  {
   "cell_type": "code",
   "execution_count": null,
   "metadata": {},
   "outputs": [],
   "source": [
    "import matplotlib.pyplot as plt\n",
    "import numpy as np\n",
    "from matplotlib.ticker import MaxNLocator\n",
    "import glob, os\n",
    "from pyecharts import *\n",
    "import json\n",
    "\n",
    "import plotly.graph_objects as go\n",
    "import plotly.express as px\n",
    "import plotly.io as pio\n",
    "pio.renderers.default='notebook'"
   ]
  },
  {
   "cell_type": "code",
   "execution_count": null,
   "metadata": {},
   "outputs": [],
   "source": [
    "# matplotlib 설정하기\n",
    "\n",
    "plt.rc('font', family = '/usr/share/fonts/opentype/noto')\n",
    "plt.rcParams['axes.unicode_minus'] = False\n",
    "plt.style.use(\"ggplot\")"
   ]
  },
  {
   "cell_type": "code",
   "execution_count": null,
   "metadata": {},
   "outputs": [],
   "source": [
    "data_file = \"/home/datastory/05.경기도 일자리 설문조사 데이터 분석/TC_JB_QESTNAR_ANSWER.csv\"\n",
    "\n",
    "df = pd.read_csv(data_file, encoding = 'utf-8')"
   ]
  },
  {
   "cell_type": "code",
   "execution_count": null,
   "metadata": {},
   "outputs": [],
   "source": [
    "df['질문명'] = df['질문명'].str.replace(\"|\", \"\")\n",
    "df['질문명']"
   ]
  },
  {
   "cell_type": "code",
   "execution_count": null,
   "metadata": {},
   "outputs": [],
   "source": [
    "df = df.drop([\"설문조사번호\", '우편번호'], axis = 1)"
   ]
  },
  {
   "cell_type": "code",
   "execution_count": null,
   "metadata": {},
   "outputs": [],
   "source": [
    "df.columns"
   ]
  },
  {
   "cell_type": "code",
   "execution_count": null,
   "metadata": {},
   "outputs": [],
   "source": [
    "df.isna().sum()"
   ]
  },
  {
   "cell_type": "code",
   "execution_count": null,
   "metadata": {},
   "outputs": [],
   "source": [
    "df.dropna(inplace=True)\n",
    "df.isna().sum()"
   ]
  },
  {
   "cell_type": "code",
   "execution_count": null,
   "metadata": {},
   "outputs": [],
   "source": [
    "len(df)"
   ]
  },
  {
   "cell_type": "code",
   "execution_count": null,
   "metadata": {},
   "outputs": [],
   "source": [
    "df['시도명'].unique()"
   ]
  },
  {
   "cell_type": "code",
   "execution_count": null,
   "metadata": {},
   "outputs": [],
   "source": [
    "df"
   ]
  },
  {
   "cell_type": "code",
   "execution_count": null,
   "metadata": {},
   "outputs": [],
   "source": [
    "df = df.drop(['설문조사답변번호', '회원유형명'], axis = 1)"
   ]
  },
  {
   "cell_type": "code",
   "execution_count": null,
   "metadata": {},
   "outputs": [],
   "source": [
    "df['설문명'].unique()"
   ]
  },
  {
   "cell_type": "code",
   "execution_count": null,
   "metadata": {},
   "outputs": [],
   "source": [
    "df"
   ]
  },
  {
   "cell_type": "code",
   "execution_count": null,
   "metadata": {},
   "outputs": [],
   "source": [
    "labels = ['여성', '남성']"
   ]
  },
  {
   "cell_type": "markdown",
   "metadata": {},
   "source": [
    "### 설문조사 남녀 참여비율"
   ]
  },
  {
   "cell_type": "code",
   "execution_count": null,
   "metadata": {},
   "outputs": [],
   "source": [
    "gender_ratio = df['성별코드'].value_counts()\n",
    "gender_ratio.values"
   ]
  },
  {
   "cell_type": "code",
   "execution_count": null,
   "metadata": {},
   "outputs": [],
   "source": [
    "img_1_1 = px.pie(df, \n",
    "                 values=list(gender_ratio.values), \n",
    "                 names=labels) \n",
    "\n",
    "img_1_1.update_traces(textposition='inside', textinfo='percent+label')\n",
    "\n",
    "img_1_1.update_layout(\n",
    "    title={\n",
    "        'text': \"설문조사 남녀 참여비율\",\n",
    "        'y':0.95,\n",
    "        'x':0.5,\n",
    "        'xanchor': 'center',\n",
    "        'yanchor': 'top'},\n",
    "        font=dict(\n",
    "            family=\"Noto Sans KR\",\n",
    "            size=12\n",
    "        ),\n",
    "    showlegend=False\n",
    ")\n",
    "# png 추출\n",
    "\n",
    "img_1_1.write_image(\"/home/datastory/05.경기도 일자리 설문조사 데이터 분석/05/img_1_1.png\")\n",
    "\n",
    "\n",
    "# json 추출 \n",
    "\n",
    "img_1_1_json = img_1_1.to_json()\n",
    "\n",
    "img_1_1_json_obj = json.loads(img_1_1_json, encoding=\"utf-8\")\n",
    "\n",
    "with open('/home/datastory/05.경기도 일자리 설문조사 데이터 분석/05/img_1_1.json', 'w', encoding='utf-8') as make_file:\n",
    "    json.dump(img_1_1_json_obj, make_file, indent=\"\\t\", ensure_ascii=False)\n",
    "    \n",
    "\n",
    "img_1_1.show()"
   ]
  },
  {
   "cell_type": "markdown",
   "metadata": {},
   "source": [
    "### 설문조사 참여 출생년도 분포"
   ]
  },
  {
   "cell_type": "code",
   "execution_count": null,
   "metadata": {},
   "outputs": [],
   "source": [
    "df[df['출생년도'] > 1980]"
   ]
  },
  {
   "cell_type": "code",
   "execution_count": null,
   "metadata": {},
   "outputs": [],
   "source": [
    "born_year = sorted(list(df[df['출생년도'] > 1980]['출생년도'].value_counts().index))\n",
    "born_year"
   ]
  },
  {
   "cell_type": "code",
   "execution_count": null,
   "metadata": {},
   "outputs": [],
   "source": [
    "year_count = list(df[df['출생년도'] > 1980].groupby('출생년도').count()['설문명'])\n",
    "year_count[::-1]"
   ]
  },
  {
   "cell_type": "code",
   "execution_count": null,
   "metadata": {},
   "outputs": [],
   "source": [
    "born_year_count = df[df['출생년도'] > 1980]['출생년도'].value_counts()\n",
    "born_year_count.values"
   ]
  },
  {
   "cell_type": "code",
   "execution_count": null,
   "metadata": {},
   "outputs": [],
   "source": [
    "img_1_2 = px.histogram(df[df['출생년도'] > 1980], y=\"출생년도\", color=\"출생년도\", orientation='h')\n",
    "\n",
    "img_1_2.update_layout(\n",
    "    coloraxis_showscale = False,\n",
    "    showlegend=False,\n",
    "    title_text=\"\"\"설문조사에 참여한 출생년도 분포\"\"\",\n",
    "    title_x=0.5,\n",
    "    xaxis_title=\"참여자 수\",\n",
    "    yaxis_title=\"출생년도\",\n",
    "    font=dict(\n",
    "        family=\"Noto Sans KR\",\n",
    "        size=12,\n",
    "    )\n",
    ")\n",
    "\n",
    "img_1_2.update_yaxes(categoryorder=\"trace\")\n",
    "\n",
    "# png 추출\n",
    "\n",
    "img_1_2.write_image(\"/home/datastory/05.경기도 일자리 설문조사 데이터 분석/05/img_1_2.png\")\n",
    "\n",
    "\n",
    "# json 추출 \n",
    "\n",
    "img_1_2_json = img_1_2.to_json()\n",
    "\n",
    "img_1_2_json_obj = json.loads(img_1_2_json, encoding=\"utf-8\")\n",
    "\n",
    "with open('/home/datastory/05.경기도 일자리 설문조사 데이터 분석/05/img_1_2.json', 'w', encoding='utf-8') as make_file:\n",
    "    json.dump(img_1_2_json_obj, make_file, indent=\"\\t\", ensure_ascii=False)\n",
    "    \n",
    "img_1_2.show()"
   ]
  },
  {
   "cell_type": "markdown",
   "metadata": {},
   "source": [
    "### 설문조사 참여 직업 분포"
   ]
  },
  {
   "cell_type": "code",
   "execution_count": null,
   "metadata": {},
   "outputs": [],
   "source": [
    "img_1_3 = px.histogram(df, y=\"직업명\", color=\"직업명\", orientation='h')\n",
    "\n",
    "img_1_3.update_layout(\n",
    "    coloraxis_showscale = False,\n",
    "    showlegend=False,\n",
    "    title_text=\"\"\"설문조사에 참여한 직업 분포\"\"\",\n",
    "    title_x=0.5,\n",
    "    xaxis_title=\"참여자 수\",\n",
    "    yaxis_title=\"직업\",\n",
    "    font=dict(\n",
    "        family=\"Noto Sans KR\",\n",
    "        size=12,\n",
    "    )\n",
    ")\n",
    "\n",
    "img_1_3.update_yaxes(categoryorder=\"trace\")\n",
    "\n",
    "# png 추출\n",
    "\n",
    "img_1_3.write_image(\"/home/datastory/05.경기도 일자리 설문조사 데이터 분석/05/img_1_3.png\")\n",
    "\n",
    "\n",
    "# json 추출 \n",
    "\n",
    "img_1_3_json = img_1_3.to_json()\n",
    "\n",
    "img_1_3_json_obj = json.loads(img_1_3_json, encoding=\"utf-8\")\n",
    "\n",
    "with open('/home/datastory/05.경기도 일자리 설문조사 데이터 분석/05/img_1_3.json', 'w', encoding='utf-8') as make_file:\n",
    "    json.dump(img_1_3_json_obj, make_file, indent=\"\\t\", ensure_ascii=False)\n",
    "\n",
    "img_1_3.show()"
   ]
  },
  {
   "cell_type": "markdown",
   "metadata": {},
   "source": [
    "### 설문조사 참여 이유 분포"
   ]
  },
  {
   "cell_type": "code",
   "execution_count": null,
   "metadata": {},
   "outputs": [],
   "source": [
    "img_1_4 = px.pie(df, \n",
    "                 values=df.groupby('가입목표명').count()['설문명'], \n",
    "                 names=list(df.groupby('가입목표명').count()['설문명'].index)) \n",
    "\n",
    "img_1_4.update_traces(textposition='inside', textinfo='percent+label')\n",
    "\n",
    "img_1_4.update_layout(\n",
    "    title={\n",
    "        'text': \"참여 이유\",\n",
    "        'y':0.95,\n",
    "        'x':0.5,\n",
    "        'xanchor': 'center',\n",
    "        'yanchor': 'top'},\n",
    "        font=dict(\n",
    "            family=\"Noto Sans KR\",\n",
    "            size=12\n",
    "        ),\n",
    "    showlegend=False\n",
    ")\n",
    "\n",
    "# png 추출\n",
    "\n",
    "img_1_4.write_image(\"/home/datastory/05.경기도 일자리 설문조사 데이터 분석/05/img_1_4.png\")\n",
    "\n",
    "\n",
    "# json 추출 \n",
    "\n",
    "img_1_4_json = img_1_4.to_json()\n",
    "\n",
    "img_1_4_json_obj = json.loads(img_1_4_json, encoding=\"utf-8\")\n",
    "\n",
    "with open('/home/datastory/05.경기도 일자리 설문조사 데이터 분석/05/img_1_4.json', 'w', encoding='utf-8') as make_file:\n",
    "    json.dump(img_1_4_json_obj, make_file, indent=\"\\t\", ensure_ascii=False)\n",
    "\n",
    "\n",
    "img_1_4.show()\n"
   ]
  },
  {
   "cell_type": "markdown",
   "metadata": {},
   "source": [
    "### 설문조사 가입경로"
   ]
  },
  {
   "cell_type": "code",
   "execution_count": null,
   "metadata": {
    "scrolled": true
   },
   "outputs": [],
   "source": [
    "df['가입경로명'].value_counts()"
   ]
  },
  {
   "cell_type": "code",
   "execution_count": null,
   "metadata": {},
   "outputs": [],
   "source": [
    "img_1_5 = px.histogram(df['가입경로명'], \n",
    "                       y=\"가입경로명\", \n",
    "                       color=\"가입경로명\", \n",
    "                       orientation='h')\n",
    "\n",
    "img_1_5.update_layout(\n",
    "    coloraxis_showscale = False,\n",
    "    showlegend=False,\n",
    "    title_text=\"\"\"설문조사 가입경로명\"\"\",\n",
    "    title_x=0.5,\n",
    "    xaxis_title=\"참여자 수\",\n",
    "    yaxis_title=\"설문명\",\n",
    "    font=dict(\n",
    "        family=\"Noto Sans KR\",\n",
    "        size=12,\n",
    "    )\n",
    ")\n",
    "\n",
    "img_1_5.update_yaxes(categoryorder=\"trace\")\n",
    "\n",
    "# png 추출\n",
    "\n",
    "img_1_5.write_image(\"/home/datastory/05.경기도 일자리 설문조사 데이터 분석/05/img_1_5.png\")\n",
    "\n",
    "\n",
    "# json 추출 \n",
    "\n",
    "img_1_5_json = img_1_5.to_json()\n",
    "\n",
    "img_1_5_json_obj = json.loads(img_1_5_json, encoding=\"utf-8\")\n",
    "\n",
    "with open('/home/datastory/05.경기도 일자리 설문조사 데이터 분석/05/img_1_5.json', 'w', encoding='utf-8') as make_file:\n",
    "    json.dump(img_1_5_json_obj, make_file, indent=\"\\t\", ensure_ascii=False)\n",
    "\n",
    "\n",
    "img_1_5.show()\n"
   ]
  },
  {
   "cell_type": "markdown",
   "metadata": {},
   "source": [
    "### 설문명별 참여인원 통계 (막대)\n"
   ]
  },
  {
   "cell_type": "code",
   "execution_count": null,
   "metadata": {},
   "outputs": [],
   "source": [
    "df['설문명'].unique()"
   ]
  },
  {
   "cell_type": "code",
   "execution_count": null,
   "metadata": {},
   "outputs": [],
   "source": [
    "df.groupby('설문명').count()['질문명']"
   ]
  },
  {
   "cell_type": "code",
   "execution_count": null,
   "metadata": {},
   "outputs": [],
   "source": [
    "img_1_6 = px.histogram(df['설문명'], \n",
    "                       y=\"설문명\", \n",
    "                       color=\"설문명\", \n",
    "                       orientation='h')\n",
    "\n",
    "img_1_6.update_layout(\n",
    "    coloraxis_showscale = False,\n",
    "    showlegend=False,\n",
    "    title_text=\"\"\"설문명별 참여인원 통계\"\"\",\n",
    "    title_x=0.5,\n",
    "    xaxis_title=\"참여자 수\",\n",
    "    yaxis_title=\"설문명\",\n",
    "    font=dict(\n",
    "        family=\"Noto Sans KR\",\n",
    "        size=12,\n",
    "    )\n",
    ")\n",
    "\n",
    "img_1_6.update_yaxes(categoryorder=\"trace\")\n",
    "\n",
    "# png 추출\n",
    "\n",
    "img_1_6.write_image(\"/home/datastory/05.경기도 일자리 설문조사 데이터 분석/05/img_1_6.png\")\n",
    "\n",
    "\n",
    "# json 추출 \n",
    "\n",
    "img_1_6_json = img_1_6.to_json()\n",
    "\n",
    "img_1_6_json_obj = json.loads(img_1_6_json, encoding=\"utf-8\")\n",
    "\n",
    "with open('/home/datastory/05.경기도 일자리 설문조사 데이터 분석/05/img_1_6.json', 'w', encoding='utf-8') as make_file:\n",
    "    json.dump(img_1_6_json_obj, make_file, indent=\"\\t\", ensure_ascii=False)\n",
    "\n",
    "img_1_6.show()\n"
   ]
  },
  {
   "cell_type": "markdown",
   "metadata": {},
   "source": [
    "### '정규과정 설문조사에 참여한 인원 연령 분포"
   ]
  },
  {
   "cell_type": "code",
   "execution_count": null,
   "metadata": {},
   "outputs": [],
   "source": [
    "from datetime import datetime\n",
    "\n",
    "df['나이'] = (datetime.today().year - df['출생년도']+1)\n",
    "df['나이']"
   ]
  },
  {
   "cell_type": "code",
   "execution_count": null,
   "metadata": {},
   "outputs": [],
   "source": [
    "정규과정설문_df = df[df['설문명'] == '정규과정 설문']\n",
    "정규과정설문_df"
   ]
  },
  {
   "cell_type": "code",
   "execution_count": null,
   "metadata": {},
   "outputs": [],
   "source": [
    "print(정규과정설문_df['나이'].min())\n",
    "print(정규과정설문_df['나이'].max())"
   ]
  },
  {
   "cell_type": "code",
   "execution_count": null,
   "metadata": {},
   "outputs": [],
   "source": [
    "def age(x):\n",
    "    if 10 <= x < 20:\n",
    "        return '10대'\n",
    "    elif 20 <= x < 30:\n",
    "        return '20대'\n",
    "    elif 30 <= x < 40:\n",
    "        return '30대'\n",
    "    elif 40 <= x < 50:\n",
    "        return '40대'\n",
    "    elif 50 <= x < 60:\n",
    "        return '50대'\n",
    "    elif 60 <= x < 70:\n",
    "        return '60대'\n",
    "    elif 70 <= x < 80:\n",
    "        return '70대'\n",
    "    elif 80 <= x:\n",
    "        return '80대'\n",
    "\n",
    "정규과정설문_df['연령대'] = 정규과정설문_df['나이'].apply(lambda x: age(x))\n",
    "\n",
    "정규과정설문_df.head()    "
   ]
  },
  {
   "cell_type": "code",
   "execution_count": null,
   "metadata": {},
   "outputs": [],
   "source": [
    "img_2_1 = px.histogram(정규과정설문_df[정규과정설문_df['출생년도'] > 1980], y=\"연령대\", color=\"연령대\", orientation='h')\n",
    "\n",
    "img_2_1.update_layout(\n",
    "    coloraxis_showscale = False,\n",
    "    showlegend=False,\n",
    "    title_text=\"\"\"'정규과정' 설문조사에 참여한 인원 연령대 분포\"\"\",\n",
    "    title_x=0.5,\n",
    "    xaxis_title=\"참여자 수\",\n",
    "    yaxis_title=\"연령대\",\n",
    "    font=dict(\n",
    "        family=\"Noto Sans KR\",\n",
    "        size=12,\n",
    "    )\n",
    ")\n",
    "\n",
    "img_2_1.update_yaxes(categoryorder=\"trace\")\n",
    "\n",
    "# png 추출\n",
    "\n",
    "img_2_1.write_image(\"/home/datastory/05.경기도 일자리 설문조사 데이터 분석/05/img_2_1.png\")\n",
    "\n",
    "\n",
    "# json 추출 \n",
    "\n",
    "img_2_1_json = img_2_1.to_json()\n",
    "\n",
    "img_2_1_json_obj = json.loads(img_2_1_json, encoding=\"utf-8\")\n",
    "\n",
    "with open('/home/datastory/05.경기도 일자리 설문조사 데이터 분석/05/img_2_1.json', 'w', encoding='utf-8') as make_file:\n",
    "    json.dump(img_2_1_json_obj, make_file, indent=\"\\t\", ensure_ascii=False)\n",
    "\n",
    "\n",
    "img_2_1.show()"
   ]
  },
  {
   "cell_type": "markdown",
   "metadata": {},
   "source": [
    "### '진로코치; 진로교육 설문지' 설문조사에 참여한 인원 연령 분포\n"
   ]
  },
  {
   "cell_type": "code",
   "execution_count": null,
   "metadata": {},
   "outputs": [],
   "source": [
    "df['설문명'].unique()"
   ]
  },
  {
   "cell_type": "code",
   "execution_count": null,
   "metadata": {},
   "outputs": [],
   "source": [
    "진로_df = df[df['설문명'] == '진로코치;진로교육 설문지']\n",
    "진로_df"
   ]
  },
  {
   "cell_type": "code",
   "execution_count": null,
   "metadata": {},
   "outputs": [],
   "source": [
    "print(진로_df['나이'].min())\n",
    "print(진로_df['나이'].max())"
   ]
  },
  {
   "cell_type": "code",
   "execution_count": null,
   "metadata": {},
   "outputs": [],
   "source": [
    "진로_df['연령대'] = 진로_df['나이'].apply(lambda x: age(x))\n",
    "\n",
    "진로_df.head()    "
   ]
  },
  {
   "cell_type": "code",
   "execution_count": null,
   "metadata": {},
   "outputs": [],
   "source": [
    "img_2_2 = px.histogram(진로_df, y='연령대', color=\"연령대\", orientation='h')\n",
    "\n",
    "img_2_2.update_layout(\n",
    "    coloraxis_showscale = False,\n",
    "    showlegend=False,\n",
    "    title_text=\"\"\"'진로코치;진로교육 설문지' 설문조사에 참여한 인원 연령대 분포\"\"\",\n",
    "    title_x=0.5,\n",
    "    xaxis_title=\"참여자 수\",\n",
    "    yaxis=dict(\n",
    "        {'categoryorder':'category descending'},\n",
    "        title_text='연령대'\n",
    "    ),\n",
    "    font=dict(\n",
    "        family=\"Noto Sans KR\",\n",
    "        size=12,\n",
    "    )\n",
    ")\n",
    "\n",
    "# png 추출\n",
    "\n",
    "img_2_2.write_image(\"/home/datastory/05.경기도 일자리 설문조사 데이터 분석/05/img_2_2.png\")\n",
    "\n",
    "\n",
    "# json 추출 \n",
    "\n",
    "img_2_2_json = img_2_2.to_json()\n",
    "\n",
    "img_2_2_json_obj = json.loads(img_2_2_json, encoding=\"utf-8\")\n",
    "\n",
    "with open('/home/datastory/05.경기도 일자리 설문조사 데이터 분석/05/img_2_2.json', 'w', encoding='utf-8') as make_file:\n",
    "    json.dump(img_2_2_json_obj, make_file, indent=\"\\t\", ensure_ascii=False)\n",
    "\n",
    "\n",
    "img_2_2.show()"
   ]
  },
  {
   "cell_type": "markdown",
   "metadata": {},
   "source": [
    "### '농협대 설문지' 설문조사에 참여한 인원 연령 분포\n"
   ]
  },
  {
   "cell_type": "code",
   "execution_count": null,
   "metadata": {},
   "outputs": [],
   "source": [
    "농협대_df = df[df['설문명'] == '농협대 설문지']"
   ]
  },
  {
   "cell_type": "code",
   "execution_count": null,
   "metadata": {},
   "outputs": [],
   "source": [
    "print(농협대_df['나이'].min())\n",
    "print(농협대_df['나이'].max())"
   ]
  },
  {
   "cell_type": "code",
   "execution_count": null,
   "metadata": {},
   "outputs": [],
   "source": [
    "농협대_df['연령대'] = 농협대_df['나이'].apply(lambda x: age(x))\n",
    "\n",
    "농협대_df.head()    "
   ]
  },
  {
   "cell_type": "code",
   "execution_count": null,
   "metadata": {},
   "outputs": [],
   "source": [
    "img_2_3 = px.histogram(농협대_df, y=\"연령대\", color=\"연령대\", orientation='h')\n",
    "\n",
    "img_2_3.update_layout(\n",
    "    coloraxis_showscale = False,\n",
    "    showlegend=False,\n",
    "    title_text=\"\"\"'농협대 설문지' 설문조사에 참여한 인원 연령대 분포\"\"\",\n",
    "    title_x=0.5,\n",
    "    xaxis_title=\"참여자 수\",\n",
    "    yaxis=dict(\n",
    "        {'categoryorder':'category descending'},\n",
    "        title_text='연령대'\n",
    "    ),\n",
    "    font=dict(\n",
    "        family=\"Noto Sans KR\",\n",
    "        size=12,\n",
    "    )\n",
    ")\n",
    "\n",
    "\n",
    "# png 추출\n",
    "\n",
    "img_2_3.write_image(\"/home/datastory/05.경기도 일자리 설문조사 데이터 분석/05/img_2_3.png\")\n",
    "\n",
    "\n",
    "# json 추출 \n",
    "\n",
    "img_2_3_json = img_2_3.to_json()\n",
    "\n",
    "img_2_3_json_obj = json.loads(img_2_3_json, encoding=\"utf-8\")\n",
    "\n",
    "with open('/home/datastory/05.경기도 일자리 설문조사 데이터 분석/05/img_2_3.json', 'w', encoding='utf-8') as make_file:\n",
    "    json.dump(img_2_3_json_obj, make_file, indent=\"\\t\", ensure_ascii=False)\n",
    "\n",
    "\n",
    "img_2_3.show()"
   ]
  },
  {
   "cell_type": "markdown",
   "metadata": {},
   "source": [
    "### 정규과정 설문조사 분석 결과"
   ]
  },
  {
   "cell_type": "code",
   "execution_count": null,
   "metadata": {},
   "outputs": [],
   "source": [
    "정규과정설문_df['성별코드'].value_counts()"
   ]
  },
  {
   "cell_type": "markdown",
   "metadata": {},
   "source": [
    "### 설문조사 남녀 참여비율"
   ]
  },
  {
   "cell_type": "code",
   "execution_count": null,
   "metadata": {},
   "outputs": [],
   "source": [
    "img_3_1 = px.pie(정규과정설문_df, \n",
    "                 values=정규과정설문_df['성별코드'].value_counts(), \n",
    "                 names=labels) \n",
    "\n",
    "img_3_1.update_traces(textposition='inside', textinfo='percent+label')\n",
    "\n",
    "img_3_1.update_layout(\n",
    "    title={\n",
    "        'text': \"정규과정 설문조사 남녀 참여비율\",\n",
    "        'y':0.95,\n",
    "        'x':0.5,\n",
    "        'xanchor': 'center',\n",
    "        'yanchor': 'top'},\n",
    "        font=dict(\n",
    "            family=\"Noto Sans KR\",\n",
    "            size=12\n",
    "        ),\n",
    "    showlegend=False\n",
    ")\n",
    "\n",
    "# png 추출\n",
    "\n",
    "img_3_1.write_image(\"/home/datastory/05.경기도 일자리 설문조사 데이터 분석/05/img_3_1.png\")\n",
    "\n",
    "\n",
    "# json 추출 \n",
    "\n",
    "img_3_1_json = img_3_1.to_json()\n",
    "\n",
    "img_3_1_json_obj = json.loads(img_3_1_json, encoding=\"utf-8\")\n",
    "\n",
    "with open('/home/datastory/05.경기도 일자리 설문조사 데이터 분석/05/img_3_1.json', 'w', encoding='utf-8') as make_file:\n",
    "    json.dump(img_3_1_json_obj, make_file, indent=\"\\t\", ensure_ascii=False)\n",
    "    \n",
    "\n",
    "\n",
    "img_3_1.show()"
   ]
  },
  {
   "cell_type": "markdown",
   "metadata": {},
   "source": [
    "### 설문조사 참여 출생년도 분포"
   ]
  },
  {
   "cell_type": "code",
   "execution_count": null,
   "metadata": {},
   "outputs": [],
   "source": [
    "정규과정설문_df[정규과정설문_df['출생년도'] > 1980]"
   ]
  },
  {
   "cell_type": "code",
   "execution_count": null,
   "metadata": {},
   "outputs": [],
   "source": [
    "정규과정설문_df.columns"
   ]
  },
  {
   "cell_type": "code",
   "execution_count": null,
   "metadata": {},
   "outputs": [],
   "source": [
    "born_year_count = 정규과정설문_df[정규과정설문_df['출생년도'] > 1980]['출생년도'].value_counts()\n",
    "born_year_count.values"
   ]
  },
  {
   "cell_type": "code",
   "execution_count": null,
   "metadata": {},
   "outputs": [],
   "source": [
    "img_3_2 = px.histogram(정규과정설문_df[정규과정설문_df['출생년도'] > 1980], y=\"출생년도\", color=\"출생년도\", orientation='h')\n",
    "\n",
    "img_3_2.update_layout(\n",
    "    coloraxis_showscale = False,\n",
    "    showlegend=False,\n",
    "    title_text=\"\"\"정규과정 설문조사에 참여한 출생년도 분포\"\"\",\n",
    "    title_x=0.5,\n",
    "    xaxis_title=\"참여자 수\",\n",
    "    yaxis_title=\"출생년도\",\n",
    "    font=dict(\n",
    "        family=\"Noto Sans KR\",\n",
    "        size=12\n",
    "    )\n",
    ")\n",
    "\n",
    "img_3_2.update_yaxes(categoryorder=\"trace\")\n",
    "\n",
    "# png 추출\n",
    "\n",
    "img_3_2.write_image(\"/home/datastory/05.경기도 일자리 설문조사 데이터 분석/05/img_3_2.png\")\n",
    "\n",
    "\n",
    "# json 추출 \n",
    "\n",
    "img_3_2_json = img_3_2.to_json()\n",
    "\n",
    "img_3_2_json_obj = json.loads(img_3_2_json, encoding=\"utf-8\")\n",
    "\n",
    "with open('/home/datastory/05.경기도 일자리 설문조사 데이터 분석/05/img_3_2.json', 'w', encoding='utf-8') as make_file:\n",
    "    json.dump(img_3_2_json_obj, make_file, indent=\"\\t\", ensure_ascii=False)\n",
    "\n",
    "\n",
    "img_3_2.show()"
   ]
  },
  {
   "cell_type": "markdown",
   "metadata": {},
   "source": [
    "### 설문조사 참여 직업 분포 (막대)"
   ]
  },
  {
   "cell_type": "code",
   "execution_count": null,
   "metadata": {},
   "outputs": [],
   "source": [
    "img_3_3 = px.histogram(정규과정설문_df, y=\"직업명\", color=\"직업명\", orientation='h')\n",
    "\n",
    "img_3_3.update_layout(\n",
    "    coloraxis_showscale = False,\n",
    "    showlegend=False,\n",
    "    title_text=\"\"\"정규과정 설문조사 참여 직업 분포\"\"\",\n",
    "    title_x=0.5,\n",
    "    xaxis_title=\"참여자 수\",\n",
    "    yaxis_title=\"직업\",\n",
    "    font=dict(\n",
    "        family=\"Noto Sans KR\",\n",
    "        size=12\n",
    "    )\n",
    ")\n",
    "\n",
    "img_3_3.update_yaxes(categoryorder=\"trace\")\n",
    "\n",
    "\n",
    "# png 추출\n",
    "\n",
    "img_3_3.write_image(\"/home/datastory/05.경기도 일자리 설문조사 데이터 분석/05/img_3_3.png\")\n",
    "\n",
    "\n",
    "# json 추출 \n",
    "\n",
    "img_3_3_json = img_3_3.to_json()\n",
    "\n",
    "img_3_3_json_obj = json.loads(img_3_3_json, encoding=\"utf-8\")\n",
    "\n",
    "with open('/home/datastory/05.경기도 일자리 설문조사 데이터 분석/05/img_3_3.json', 'w', encoding='utf-8') as make_file:\n",
    "    json.dump(img_3_3_json_obj, make_file, indent=\"\\t\", ensure_ascii=False)\n",
    "    \n",
    "\n",
    "img_3_3.show()"
   ]
  },
  {
   "cell_type": "markdown",
   "metadata": {},
   "source": [
    "### 설문조사 가입경로 통계 (막대) "
   ]
  },
  {
   "cell_type": "code",
   "execution_count": null,
   "metadata": {},
   "outputs": [],
   "source": [
    "img_3_4 = px.histogram(정규과정설문_df, \n",
    "                       y=\"가입경로명\", \n",
    "                       color=\"가입경로명\", \n",
    "                       orientation='h')\n",
    "\n",
    "img_3_4.update_layout(\n",
    "    coloraxis_showscale = False,\n",
    "    showlegend=False,\n",
    "    title_text=\"\"\"정규과정 설문조사 가입경로 통계\"\"\",\n",
    "    title_x=0.5,\n",
    "    xaxis_title=\"참여자 수\",\n",
    "    yaxis_title=\"설문명\",\n",
    "    font=dict(\n",
    "        family=\"Noto Sans KR\",\n",
    "        size=12\n",
    "    )\n",
    ")\n",
    "\n",
    "img_3_4.update_yaxes(categoryorder=\"trace\")\n",
    "\n",
    "\n",
    "# png 추출\n",
    "\n",
    "img_3_4.write_image(\"/home/datastory/05.경기도 일자리 설문조사 데이터 분석/05/img_3_4.png\")\n",
    "\n",
    "\n",
    "# json 추출 \n",
    "\n",
    "img_3_4_json = img_3_4.to_json()\n",
    "\n",
    "img_3_4_json_obj = json.loads(img_3_4_json, encoding=\"utf-8\")\n",
    "\n",
    "with open('/home/datastory/05.경기도 일자리 설문조사 데이터 분석/05/img_3_4.json', 'w', encoding='utf-8') as make_file:\n",
    "    json.dump(img_3_4_json_obj, make_file, indent=\"\\t\", ensure_ascii=False)\n",
    "\n",
    "\n",
    "\n",
    "img_3_4.show()\n"
   ]
  },
  {
   "cell_type": "markdown",
   "metadata": {},
   "source": [
    "### 정규과정 설문조사 가입목표 통계 (막대)"
   ]
  },
  {
   "cell_type": "code",
   "execution_count": null,
   "metadata": {},
   "outputs": [],
   "source": [
    "img_3_5 = px.histogram(정규과정설문_df, \n",
    "                       y=\"가입목표명\", \n",
    "                       color=\"가입목표명\", \n",
    "                       orientation='h')\n",
    "\n",
    "img_3_5.update_layout(\n",
    "    coloraxis_showscale = False,\n",
    "    showlegend=False,\n",
    "    title_text=\"\"\"정규과정 설문조사 가입목표 통계\"\"\",\n",
    "    title_x=0.5,\n",
    "    xaxis_title=\"참여자 수\",\n",
    "    yaxis_title=\"설문명\",\n",
    "    font=dict(\n",
    "        family=\"Noto Sans KR\",\n",
    "        size=12\n",
    "    )\n",
    ")\n",
    "\n",
    "img_3_5.update_yaxes(categoryorder=\"trace\")\n",
    "\n",
    "# png 추출\n",
    "\n",
    "img_3_5.write_image(\"/home/datastory/05.경기도 일자리 설문조사 데이터 분석/05/img_3_5.png\")\n",
    "\n",
    "\n",
    "# json 추출 \n",
    "\n",
    "img_3_5_json = img_3_5.to_json()\n",
    "\n",
    "img_3_5_json_obj = json.loads(img_3_5_json, encoding=\"utf-8\")\n",
    "\n",
    "with open('/home/datastory/05.경기도 일자리 설문조사 데이터 분석/05/img_3_5.json', 'w', encoding='utf-8') as make_file:\n",
    "    json.dump(img_3_5_json_obj, make_file, indent=\"\\t\", ensure_ascii=False)\n",
    "\n",
    "\n",
    "img_3_5.show()\n"
   ]
  },
  {
   "cell_type": "code",
   "execution_count": null,
   "metadata": {},
   "outputs": [],
   "source": [
    "list(정규과정설문_df['질문명'].unique())"
   ]
  },
  {
   "cell_type": "code",
   "execution_count": null,
   "metadata": {},
   "outputs": [],
   "source": [
    "questions = [\n",
    "    '사이트 게시판 및 학습지원센터 등을 통한 운영진의 응대(질의응답; 불편사항 처리)에 만족하십니까?',\n",
    "    '꿈날개의 홈페이지 이용에 만족하십니까?',\n",
    "    '평가(퀴즈; 최종 시험; 과제) 난이도는 적절하였습니까?',\n",
    "    '운영진에 의한 학습독려(메일; 문자; 전화독려)가 학습진행에 도움이 되었습니까?',\n",
    "    '본인의 수강목적에 적합한 학습내용이었습니까?',\n",
    "    '다시 신청한다면; 그 이유는 무엇입니까? (복수응답 가능)',\n",
    "    '본 과정을 학습한 이후에 다른 온라인교육 과정도 꿈날개에서 다시 수강신청 하시겠습니까?',\n",
    "    '본 교육과정이 여러분의 경력개발 또는 취·창업에 도움이 되었습니까?',\n",
    "    '이 과정을 다른 분들에게도 추천하실 의향이 있으십니까?',\n",
    "    '학습지원(질문답변; 과제첨삭 등)에 만족하십니까?', \n",
    "    '다시 신청하지 않는다면; 그 이유는 무엇입니까? (복수응답 가능)'\n",
    "]"
   ]
  },
  {
   "cell_type": "code",
   "execution_count": null,
   "metadata": {},
   "outputs": [],
   "source": [
    "정규과정설문_df['질문명']"
   ]
  },
  {
   "cell_type": "code",
   "execution_count": null,
   "metadata": {},
   "outputs": [],
   "source": [
    "정규과정설문_df[정규과정설문_df['질문명']=='평가(퀴즈; 최종 시험; 과제) 난이도는 적절하였습니까?']['답변항목명']"
   ]
  },
  {
   "cell_type": "code",
   "execution_count": null,
   "metadata": {},
   "outputs": [],
   "source": [
    "for i, question in enumerate(questions):\n",
    "    img_3_6_to_16 = px.histogram(\n",
    "        정규과정설문_df[정규과정설문_df['질문명']==question]['답변항목명'], \n",
    "        y=\"답변항목명\",\n",
    "        color=\"답변항목명\", \n",
    "        orientation='h'\n",
    "    )\n",
    "    \n",
    "    img_3_6_to_16.update_layout(\n",
    "        title_text=\"%s<br>에 대한 답변 통계\" %(question),\n",
    "        title_x=0.5,\n",
    "        yaxis_title=\"답변항목명\",\n",
    "        xaxis_title=\"응답자 수\",\n",
    "        font=dict(\n",
    "            family=\"Noto Sans KR\",\n",
    "            size=12,\n",
    "        ),    \n",
    "        coloraxis_showscale = False,\n",
    "        showlegend=False,\n",
    ")\n",
    "    # png 추출\n",
    "\n",
    "    img_3_6_to_16.write_image(\"/home/datastory/05.경기도 일자리 설문조사 데이터 분석/05/img_3_%d.png\" %(i+6))\n",
    "\n",
    "\n",
    "    # json 추출 \n",
    "\n",
    "    img_3_6_to_16_json = img_3_6_to_16.to_json()\n",
    "\n",
    "    img_3_6_to_16_json_obj = json.loads(img_3_6_to_16_json, encoding=\"utf-8\")\n",
    "\n",
    "    with open('/home/datastory/05.경기도 일자리 설문조사 데이터 분석/05/img_3_%d.json' %(i+6), 'w', encoding='utf-8') as make_file:\n",
    "        json.dump(img_3_6_to_16_json_obj, make_file, indent=\"\\t\", ensure_ascii=False)\n",
    "\n",
    "    img_3_6_to_16.show()"
   ]
  },
  {
   "cell_type": "code",
   "execution_count": null,
   "metadata": {},
   "outputs": [],
   "source": [
    "img_3_6 = px.histogram(\n",
    "        정규과정설문_df[정규과정설문_df['질문명']==questions[0]]['답변항목명'], \n",
    "        y=\"답변항목명\",\n",
    "        color=\"답변항목명\", \n",
    "        orientation='h'\n",
    ")\n",
    "    \n",
    "img_3_6.update_layout(\n",
    "    title_text=\"사이트 게시판 및 학습지원센터 등을 통한<br>운영진의 응대(질의응답; 불편사항 처리)에<br>만족하십니까? 에 대한 답변 통계\",\n",
    "    title_x=0.5,\n",
    "    title_y=0.97,\n",
    "    yaxis_title=\"답변항목명\",\n",
    "    xaxis_title=\"응답자 수\",\n",
    "    font=dict(\n",
    "        family=\"Noto Sans KR\",\n",
    "        size=12,\n",
    "    ),    \n",
    "    coloraxis_showscale = False,\n",
    "    showlegend=False,\n",
    ")\n",
    "\n",
    "img_3_6.write_image(\"/home/datastory/05.경기도 일자리 설문조사 데이터 분석/05/img_3_6.png\")\n",
    "\n",
    "img_3_6_json = img_3_6.to_json()\n",
    "\n",
    "img_3_6_json_obj = json.loads(img_3_6_json, encoding=\"utf-8\")\n",
    "\n",
    "with open('/home/datastory/05.경기도 일자리 설문조사 데이터 분석/05/img_3_6.json', 'w', encoding='utf-8') as make_file:\n",
    "    json.dump(img_3_6_json_obj, make_file, indent=\"\\t\", ensure_ascii=False)\n",
    "\n",
    "img_3_6.show()"
   ]
  },
  {
   "cell_type": "code",
   "execution_count": null,
   "metadata": {},
   "outputs": [],
   "source": [
    "img_3_9 = px.histogram(\n",
    "        정규과정설문_df[정규과정설문_df['질문명']==questions[3]]['답변항목명'], \n",
    "        y=\"답변항목명\",\n",
    "        color=\"답변항목명\", \n",
    "        orientation='h'\n",
    ")\n",
    "    \n",
    "img_3_9.update_layout(\n",
    "    title_text=\"운영진에 의한 학습독려(메일;문자;전화독려)가<br>학습진행에 도움이 되었습니까?<br>에 대한 답변 통계\",\n",
    "    title_x=0.5,\n",
    "    title_y=0.97,\n",
    "    yaxis_title=\"답변항목명\",\n",
    "    xaxis_title=\"응답자 수\",\n",
    "    font=dict(\n",
    "        family=\"Noto Sans KR\",\n",
    "        size=12,\n",
    "    ),    \n",
    "    coloraxis_showscale = False,\n",
    "    showlegend=False,\n",
    ")\n",
    "\n",
    "img_3_9.write_image(\"/home/datastory/05.경기도 일자리 설문조사 데이터 분석/05/img_3_9.png\")\n",
    "\n",
    "img_3_9_json = img_3_9.to_json()\n",
    "\n",
    "img_3_9_json_obj = json.loads(img_3_9_json, encoding=\"utf-8\")\n",
    "\n",
    "with open('/home/datastory/05.경기도 일자리 설문조사 데이터 분석/05/img_3_9.json', 'w', encoding='utf-8') as make_file:\n",
    "    json.dump(img_3_9_json_obj, make_file, indent=\"\\t\", ensure_ascii=False)\n",
    "\n",
    "img_3_9.show()"
   ]
  },
  {
   "cell_type": "code",
   "execution_count": null,
   "metadata": {},
   "outputs": [],
   "source": [
    "img_3_12 = px.histogram(\n",
    "        정규과정설문_df[정규과정설문_df['질문명']==questions[6]]['답변항목명'], \n",
    "        y=\"답변항목명\",\n",
    "        color=\"답변항목명\", \n",
    "        orientation='h'\n",
    ")\n",
    "    \n",
    "img_3_12.update_layout(\n",
    "    title_text=\"본 과정을 학습한 이후에 다른 온라인교육 과정도<br>꿈날개에서 다시 수정신청 하시겠습니까?<br>에 대한 답변 통계\",\n",
    "    title_x=0.5,\n",
    "    title_y=0.97,\n",
    "    yaxis_title=\"답변항목명\",\n",
    "    xaxis_title=\"응답자 수\",\n",
    "    font=dict(\n",
    "        family=\"Noto Sans KR\",\n",
    "        size=12,\n",
    "    ),    \n",
    "    coloraxis_showscale = False,\n",
    "    showlegend=False,\n",
    ")\n",
    "\n",
    "img_3_12.write_image(\"/home/datastory/05.경기도 일자리 설문조사 데이터 분석/05/img_3_12.png\")\n",
    "\n",
    "img_3_12_json = img_3_12.to_json()\n",
    "\n",
    "img_3_12_json_obj = json.loads(img_3_12_json, encoding=\"utf-8\")\n",
    "\n",
    "with open('/home/datastory/05.경기도 일자리 설문조사 데이터 분석/05/img_3_12.json', 'w', encoding='utf-8') as make_file:\n",
    "    json.dump(img_3_12_json_obj, make_file, indent=\"\\t\", ensure_ascii=False)\n",
    "\n",
    "img_3_12.show()"
   ]
  },
  {
   "cell_type": "markdown",
   "metadata": {},
   "source": [
    "### 진로코치; 진로교육 설문조사 분석 결과"
   ]
  },
  {
   "cell_type": "code",
   "execution_count": null,
   "metadata": {
    "scrolled": true
   },
   "outputs": [],
   "source": [
    "진로_df['성별코드'].value_counts()"
   ]
  },
  {
   "cell_type": "markdown",
   "metadata": {},
   "source": [
    "### 설문조사 남녀 참여비율"
   ]
  },
  {
   "cell_type": "code",
   "execution_count": null,
   "metadata": {},
   "outputs": [],
   "source": [
    "img_4_1 = px.pie(진로_df, \n",
    "                 values=진로_df['성별코드'].value_counts(), \n",
    "                 names=labels) \n",
    "\n",
    "img_4_1.update_traces(textposition='inside', textinfo='percent+label')\n",
    "\n",
    "img_4_1.update_layout(\n",
    "    title={\n",
    "        'text': \"진로코치;진로교육 설문조사 남녀 참여비율\",\n",
    "        'y':0.95,\n",
    "        'x':0.5,\n",
    "        'xanchor': 'center',\n",
    "        'yanchor': 'top'},\n",
    "        font=dict(\n",
    "            family=\"Noto Sans KR\",\n",
    "            size=12\n",
    "        ),\n",
    "    showlegend=False\n",
    ")\n",
    "# png 추출\n",
    "\n",
    "img_4_1.write_image(\"/home/datastory/05.경기도 일자리 설문조사 데이터 분석/05/img_4_1.png\")\n",
    "\n",
    "\n",
    "# json 추출 \n",
    "\n",
    "img_4_1_json = img_4_1.to_json()\n",
    "\n",
    "img_4_1_json_obj = json.loads(img_4_1_json, encoding=\"utf-8\")\n",
    "\n",
    "with open('/home/datastory/05.경기도 일자리 설문조사 데이터 분석/05/img_4_1.json', 'w', encoding='utf-8') as make_file:\n",
    "    json.dump(img_4_1_json_obj, make_file, indent=\"\\t\", ensure_ascii=False)\n",
    "    \n",
    "\n",
    "\n",
    "\n",
    "img_4_1.show()"
   ]
  },
  {
   "cell_type": "markdown",
   "metadata": {},
   "source": [
    "###  설문조사 참여 출생년도 분포"
   ]
  },
  {
   "cell_type": "code",
   "execution_count": null,
   "metadata": {},
   "outputs": [],
   "source": [
    "진로_df[진로_df['출생년도'] > 1980]"
   ]
  },
  {
   "cell_type": "code",
   "execution_count": null,
   "metadata": {},
   "outputs": [],
   "source": [
    "img_4_2 = px.histogram(\n",
    "    진로_df[진로_df['출생년도'] > 1980], \n",
    "    y='출생년도', \n",
    "    color='출생년도', \n",
    "    orientation='h'\n",
    ")\n",
    "\n",
    "img_4_2.update_layout(\n",
    "    coloraxis_showscale = False,\n",
    "    showlegend=False,\n",
    "    title_text=\"\"\"진로코치; 진로교육 설문조사에 참여한 출생년도 분포\"\"\",\n",
    "    title_x=0.5,\n",
    "    xaxis_title=\"참여자 수\",\n",
    "    yaxis_title= \"출생년도\",\n",
    "    font=dict(\n",
    "        family=\"Noto Sans KR\",\n",
    "        size=12\n",
    "    )\n",
    ")\n",
    "\n",
    "img_4_2.update_yaxes(categoryorder=\"trace\")\n",
    "\n",
    "# png 추출\n",
    "\n",
    "img_4_2.write_image(\"/home/datastory/05.경기도 일자리 설문조사 데이터 분석/05/img_4_2.png\")\n",
    "\n",
    "\n",
    "# json 추출 \n",
    "\n",
    "img_4_2_json = img_4_2.to_json()\n",
    "\n",
    "img_4_2_json_obj = json.loads(img_4_2_json, encoding=\"utf-8\")\n",
    "\n",
    "with open('/home/datastory/05.경기도 일자리 설문조사 데이터 분석/05/img_4_2.json', 'w', encoding='utf-8') as make_file:\n",
    "    json.dump(img_4_2_json_obj, make_file, indent=\"\\t\", ensure_ascii=False)\n",
    "\n",
    "img_4_2.show()"
   ]
  },
  {
   "cell_type": "code",
   "execution_count": null,
   "metadata": {},
   "outputs": [],
   "source": [
    "category = [ \"직업명\", \"가입목표명\", \"가입경로명\"]\n",
    "plot = [\"참여 직업 분포\", \"가입목표 통계\", \"가입경로 통계\"]"
   ]
  },
  {
   "cell_type": "code",
   "execution_count": null,
   "metadata": {},
   "outputs": [],
   "source": [
    "진로_df[진로_df['출생년도'] > 1980]['출생년도']"
   ]
  },
  {
   "cell_type": "code",
   "execution_count": null,
   "metadata": {},
   "outputs": [],
   "source": [
    "진로_df[진로_df['출생년도'] > 1980]['직업명']"
   ]
  },
  {
   "cell_type": "code",
   "execution_count": null,
   "metadata": {},
   "outputs": [],
   "source": [
    "for i, keyword in enumerate(category):\n",
    "    img_4_3_to_5 = px.histogram(\n",
    "        진로_df[keyword], \n",
    "        y=keyword, \n",
    "        color=keyword, \n",
    "        orientation='h'\n",
    "    )\n",
    "    \n",
    "    img_4_3_to_5.update_layout(\n",
    "        coloraxis_showscale = False,\n",
    "        showlegend=False,\n",
    "        title_text=\"\"\"진로코치; 진로교육 설문조사에 참여한 \"\"\"+ plot[i],\n",
    "        title_x=0.5,\n",
    "        xaxis_title=\"참여자 수\",\n",
    "        yaxis_title= keyword,\n",
    "        font=dict(\n",
    "            family=\"Noto Sans KR\",\n",
    "            size=12\n",
    "        )\n",
    "    )\n",
    "\n",
    "    img_4_3_to_5.update_yaxes(categoryorder=\"trace\")\n",
    "    \n",
    "    # png 추출\n",
    "\n",
    "    img_4_3_to_5.write_image(\"/home/datastory/05.경기도 일자리 설문조사 데이터 분석/05/img_4_%d.png\" %(i+3))\n",
    "\n",
    "\n",
    "    # json 추출 \n",
    "\n",
    "    img_4_3_to_5_json = img_4_3_to_5.to_json()\n",
    "\n",
    "    img_4_3_to_5_json_obj = json.loads(img_4_3_to_5_json, encoding=\"utf-8\")\n",
    "\n",
    "    with open('/home/datastory/05.경기도 일자리 설문조사 데이터 분석/05/img_4_%d.json' %(i+3), 'w', encoding='utf-8') as make_file:\n",
    "        json.dump(img_4_3_to_5_json_obj, make_file, indent=\"\\t\", ensure_ascii=False)\n",
    "    \n",
    "    img_4_3_to_5.show()\n"
   ]
  },
  {
   "cell_type": "code",
   "execution_count": null,
   "metadata": {},
   "outputs": [],
   "source": [
    "진로_df"
   ]
  },
  {
   "cell_type": "code",
   "execution_count": null,
   "metadata": {},
   "outputs": [],
   "source": [
    "list(진로_df['질문명'].unique())"
   ]
  },
  {
   "cell_type": "code",
   "execution_count": null,
   "metadata": {},
   "outputs": [],
   "source": [
    "for i, question in enumerate(list(진로_df['질문명'].unique())):\n",
    "    img_4_6_to_10 = px.histogram(\n",
    "        진로_df[진로_df['질문명']==question]['답변항목명'], \n",
    "        y=\"답변항목명\",\n",
    "        color=\"답변항목명\", \n",
    "        orientation='h'\n",
    "    )\n",
    "    \n",
    "    img_4_6_to_10.update_layout(\n",
    "        title_text=\"%s<br>에 대한 답변 통계\" %(question),\n",
    "        title_x=0.5,\n",
    "        yaxis_title=\"답변항목명\",\n",
    "        xaxis_title=\"응답자 수\",\n",
    "        font=dict(\n",
    "            family=\"Noto Sans KR\",\n",
    "            size=12,\n",
    "        ),    \n",
    "        coloraxis_showscale = False,\n",
    "        showlegend=False,\n",
    ")\n",
    "        # png 추출\n",
    "\n",
    "    img_4_6_to_10.write_image(\"/home/datastory/05.경기도 일자리 설문조사 데이터 분석/05/img_4_%d.png\" %(i+6))\n",
    "\n",
    "\n",
    "    # json 추출 \n",
    "\n",
    "    img_4_6_to_10_json = img_4_6_to_10.to_json()\n",
    "\n",
    "    img_4_6_to_10_json_obj = json.loads(img_4_6_to_10_json, encoding=\"utf-8\")\n",
    "\n",
    "    with open('/home/datastory/05.경기도 일자리 설문조사 데이터 분석/05/img_4_%d.json' %(i+6), 'w', encoding='utf-8') as make_file:\n",
    "        json.dump(img_4_6_to_10_json_obj, make_file, indent=\"\\t\", ensure_ascii=False)\n",
    "\n",
    "    img_4_6_to_10.show()"
   ]
  },
  {
   "cell_type": "markdown",
   "metadata": {},
   "source": [
    "### 농협대 설문조사 분석 결과"
   ]
  },
  {
   "cell_type": "code",
   "execution_count": null,
   "metadata": {},
   "outputs": [],
   "source": [
    "농협대_df['성별코드'].value_counts()"
   ]
  },
  {
   "cell_type": "markdown",
   "metadata": {},
   "source": [
    "### 설문조사 남녀 참여비율"
   ]
  },
  {
   "cell_type": "code",
   "execution_count": null,
   "metadata": {},
   "outputs": [],
   "source": [
    "img_5_1 = px.pie(농협대_df, \n",
    "                 values=농협대_df['성별코드'].value_counts(), \n",
    "                 names=['남성','여성']) \n",
    "\n",
    "img_5_1.update_traces(textposition='inside', textinfo='percent+label')\n",
    "\n",
    "img_5_1.update_layout(\n",
    "    title={\n",
    "        'text': \"농협대 설문조사 남녀 참여비율\",\n",
    "        'y':0.95,\n",
    "        'x':0.5,\n",
    "        'xanchor': 'center',\n",
    "        'yanchor': 'top'},\n",
    "        font=dict(\n",
    "            family=\"Noto Sans KR\",\n",
    "            size=12\n",
    "        ),\n",
    "    showlegend=False\n",
    ")\n",
    "\n",
    "# png 추출\n",
    "\n",
    "img_5_1.write_image(\"/home/datastory/05.경기도 일자리 설문조사 데이터 분석/05/img_5_1.png\")\n",
    "\n",
    "\n",
    "# json 추출 \n",
    "\n",
    "img_5_1_json = img_5_1.to_json()\n",
    "\n",
    "img_5_1_json_obj = json.loads(img_5_1_json, encoding=\"utf-8\")\n",
    "\n",
    "with open('/home/datastory/05.경기도 일자리 설문조사 데이터 분석/05/img_5_1.json', 'w', encoding='utf-8') as make_file:\n",
    "    json.dump(img_5_1_json_obj, make_file, indent=\"\\t\", ensure_ascii=False)\n",
    "    \n",
    "\n",
    "\n",
    "img_5_1.show()"
   ]
  },
  {
   "cell_type": "markdown",
   "metadata": {},
   "source": [
    "### 설문조사 참여 출생년도 분포"
   ]
  },
  {
   "cell_type": "code",
   "execution_count": null,
   "metadata": {},
   "outputs": [],
   "source": [
    "농협대_df[농협대_df['출생년도'] > 1980]"
   ]
  },
  {
   "cell_type": "code",
   "execution_count": null,
   "metadata": {},
   "outputs": [],
   "source": [
    "img_5_2 = px.histogram(\n",
    "    농협대_df[농협대_df['출생년도'] > 1980], \n",
    "    y='출생년도', \n",
    "    color='출생년도', \n",
    "    orientation='h'\n",
    ")\n",
    "\n",
    "img_5_2.update_layout(\n",
    "    coloraxis_showscale = False,\n",
    "    showlegend=False,\n",
    "    title_text=\"\"\"농협대 설문조사에 참여한 출생년도 분포\"\"\",\n",
    "    title_x=0.5,\n",
    "    xaxis_title=\"참여자 수\",\n",
    "    yaxis_title= keyword,\n",
    "    font=dict(\n",
    "        family=\"Noto Sans KR\",\n",
    "        size=12\n",
    "    )\n",
    ")\n",
    "\n",
    "img_5_2.update_yaxes(categoryorder=\"trace\")\n",
    "\n",
    "# png 추출\n",
    "\n",
    "img_5_2.write_image(\"/home/datastory/05.경기도 일자리 설문조사 데이터 분석/05/img_5_2.png\")\n",
    "\n",
    "\n",
    "# json 추출 \n",
    "\n",
    "img_5_2_json = img_5_2.to_json()\n",
    "\n",
    "img_5_2_json_obj = json.loads(img_5_2_json, encoding=\"utf-8\")\n",
    "\n",
    "with open('/home/datastory/05.경기도 일자리 설문조사 데이터 분석/05/img_5_2.json', 'w', encoding='utf-8') as make_file:\n",
    "    json.dump(img_5_2_json_obj, make_file, indent=\"\\t\", ensure_ascii=False)\n",
    "\n",
    "img_5_2.show()"
   ]
  },
  {
   "cell_type": "code",
   "execution_count": null,
   "metadata": {},
   "outputs": [],
   "source": [
    "category = [ \"직업명\", \"가입목표명\", \"가입경로명\"]\n",
    "plot = [\"참여 직업 분포\", \"가입목표 통계\", \"가입경로 통계\"]"
   ]
  },
  {
   "cell_type": "code",
   "execution_count": null,
   "metadata": {},
   "outputs": [],
   "source": [
    "for i, keyword in enumerate(category):\n",
    "    img_5_3_to_5 = px.histogram(\n",
    "        농협대_df[keyword], \n",
    "        y=keyword, \n",
    "        color=keyword, \n",
    "        orientation='h'\n",
    "    )\n",
    "    \n",
    "    img_5_3_to_5.update_layout(\n",
    "        coloraxis_showscale = False,\n",
    "        showlegend=False,\n",
    "        title_text=\"\"\"농협대 설문조사에 참여한 \"\"\"+ plot[i],\n",
    "        title_x=0.5,\n",
    "        xaxis_title=\"참여자 수\",\n",
    "        yaxis_title= keyword,\n",
    "        font=dict(\n",
    "            family=\"Noto Sans KR\",\n",
    "            size=12\n",
    "        )\n",
    "    )\n",
    "\n",
    "    img_5_3_to_5.update_yaxes(categoryorder=\"trace\")\n",
    "    \n",
    "    # png 추출\n",
    "\n",
    "    img_5_3_to_5.write_image(\"/home/datastory/05.경기도 일자리 설문조사 데이터 분석/05/img_5_%d.png\" %(i+3))\n",
    "\n",
    "\n",
    "    # json 추출 \n",
    "\n",
    "    img_5_3_to_5_json = img_5_3_to_5.to_json()\n",
    "\n",
    "    img_5_3_to_5_json_obj = json.loads(img_5_3_to_5_json, encoding=\"utf-8\")\n",
    "\n",
    "    with open('/home/datastory/05.경기도 일자리 설문조사 데이터 분석/05/img_5_%d.json' %(i+3), 'w', encoding='utf-8') as make_file:\n",
    "        json.dump(img_5_3_to_5_json_obj, make_file, indent=\"\\t\", ensure_ascii=False)\n",
    "    \n",
    "    img_5_3_to_5.show()\n"
   ]
  },
  {
   "cell_type": "code",
   "execution_count": null,
   "metadata": {
    "scrolled": true
   },
   "outputs": [],
   "source": [
    "농협대_df"
   ]
  },
  {
   "cell_type": "code",
   "execution_count": null,
   "metadata": {},
   "outputs": [],
   "source": [
    "list(농협대_df['질문명'].unique())"
   ]
  },
  {
   "cell_type": "code",
   "execution_count": null,
   "metadata": {},
   "outputs": [],
   "source": [
    "questions_농협대 = [\n",
    "    '본 교육과정에 전반적으로 만족하셨습니까?',\n",
    "    '본인의 수강목적에 적합한 학습내용이었습니까?',\n",
    "    '평가(퀴즈; 최종 시험; 과제) 난이도는 적절하였습니까?',\n",
    "    '운영진에 의한 학습독려(메일; 문자; 전화독려)가 학습진행에 도움이 되었습니까?',\n",
    "    '사이트 게시판 및 학습지원센터 등을 통한 운영진의 응대(질의응답; 불편사항 처리)에 만족하십니까?',\n",
    "    '꿈날개의 홈페이지 이용에 만족하십니까?',\n",
    "    '본 교육과정이 여러분의 학습능력 향상 또는 경력개발에 도움이 되었습니까?',\n",
    "    '다시 신청한다면; 그 이유는 무엇입니까? (복수응답 가능)',\n",
    "    '다시 신청하지 않는다면; 그 이유는 무엇입니까? (복수응답 가능)'\n",
    "\n",
    "]"
   ]
  },
  {
   "cell_type": "code",
   "execution_count": null,
   "metadata": {},
   "outputs": [],
   "source": [
    "for i, question in enumerate(questions_농협대):\n",
    "    img_5_6_to_14 = px.histogram(\n",
    "        농협대_df[농협대_df['질문명']==question]['답변항목명'], \n",
    "        y=\"답변항목명\",\n",
    "        color=\"답변항목명\", \n",
    "        orientation='h'\n",
    "    )\n",
    "    \n",
    "    img_5_6_to_14.update_layout(\n",
    "        title_text=\"%s<br>에 대한 답변 통계\" %(question),\n",
    "        title_x=0.5,\n",
    "        yaxis_title=\"답변항목명\",\n",
    "        xaxis_title=\"응답자 수\",\n",
    "        font=dict(\n",
    "            family=\"Noto Sans KR\",\n",
    "            size=12,\n",
    "        ),    \n",
    "        coloraxis_showscale = False,\n",
    "        showlegend=False,\n",
    ")\n",
    "    # png 추출\n",
    "\n",
    "    img_5_6_to_14.write_image(\"/home/datastory/05.경기도 일자리 설문조사 데이터 분석/05/img_5_%d.png\" %(i+6))\n",
    "\n",
    "\n",
    "    # json 추출 \n",
    "\n",
    "    img_5_6_to_14_json = img_5_6_to_14.to_json()\n",
    "\n",
    "    img_5_6_to_14_json_obj = json.loads(img_5_6_to_14_json, encoding=\"utf-8\")\n",
    "\n",
    "    with open('/home/datastory/05.경기도 일자리 설문조사 데이터 분석/05/img_5_%d.json' %(i+6), 'w', encoding='utf-8') as make_file:\n",
    "        json.dump(img_5_6_to_14_json_obj, make_file, indent=\"\\t\", ensure_ascii=False)\n",
    "\n",
    "    img_5_6_to_14.show()"
   ]
  },
  {
   "cell_type": "code",
   "execution_count": null,
   "metadata": {},
   "outputs": [],
   "source": [
    "img_5_9 = px.histogram(\n",
    "        농협대_df[농협대_df['질문명']==questions_농협대[3]]['답변항목명'], \n",
    "        y=\"답변항목명\",\n",
    "        color=\"답변항목명\", \n",
    "        orientation='h'\n",
    ")\n",
    "    \n",
    "img_5_9.update_layout(\n",
    "    title_text=\"운영진에 의한 학습독려(메일;문자;전화독려)가<br>학습진행에 도움이 되었습니까?<br>에 대한 답변 통계\",\n",
    "    title_x=0.5,\n",
    "    title_y=0.97,\n",
    "    yaxis_title=\"답변항목명\",\n",
    "    xaxis_title=\"응답자 수\",\n",
    "    font=dict(\n",
    "        family=\"Noto Sans KR\",\n",
    "        size=12,\n",
    "    ),    \n",
    "    coloraxis_showscale = False,\n",
    "    showlegend=False,\n",
    ")\n",
    "\n",
    "img_5_9.write_image(\"/home/datastory/05.경기도 일자리 설문조사 데이터 분석/05/img_5_9.png\")\n",
    "\n",
    "img_5_9_json = img_5_9.to_json()\n",
    "\n",
    "img_5_9_json_obj = json.loads(img_5_9_json, encoding=\"utf-8\")\n",
    "\n",
    "with open('/home/datastory/05.경기도 일자리 설문조사 데이터 분석/05/img_5_9.json', 'w', encoding='utf-8') as make_file:\n",
    "    json.dump(img_5_9_json_obj, make_file, indent=\"\\t\", ensure_ascii=False)\n",
    "\n",
    "img_5_9.show()"
   ]
  },
  {
   "cell_type": "code",
   "execution_count": null,
   "metadata": {},
   "outputs": [],
   "source": [
    "img_5_10 = px.histogram(\n",
    "        농협대_df[농협대_df['질문명']==questions_농협대[4]]['답변항목명'], \n",
    "        y=\"답변항목명\",\n",
    "        color=\"답변항목명\", \n",
    "        orientation='h'\n",
    ")\n",
    "    \n",
    "img_5_10.update_layout(\n",
    "    title_text=\"사이트 게시판 및 학습지원센터 등을 통한 운영진의 응대<br>(질의응답; 불편사항 처리)에 만족하십니까? 에 대한 답변 통계\",\n",
    "    title_x=0.5,\n",
    "    yaxis_title=\"답변항목명\",\n",
    "    xaxis_title=\"응답자 수\",\n",
    "    font=dict(\n",
    "        family=\"Noto Sans KR\",\n",
    "        size=12,\n",
    "    ),    \n",
    "    coloraxis_showscale = False,\n",
    "    showlegend=False,\n",
    ")\n",
    "\n",
    "img_5_10.write_image(\"/home/datastory/05.경기도 일자리 설문조사 데이터 분석/05/img_5_10.png\")\n",
    "\n",
    "img_5_10_json = img_5_10.to_json()\n",
    "\n",
    "img_5_10_json_obj = json.loads(img_5_10_json, encoding=\"utf-8\")\n",
    "\n",
    "with open('/home/datastory/05.경기도 일자리 설문조사 데이터 분석/05/img_5_10.json', 'w', encoding='utf-8') as make_file:\n",
    "    json.dump(img_5_10_json_obj, make_file, indent=\"\\t\", ensure_ascii=False)\n",
    "\n",
    "img_5_10.show()"
   ]
  },
  {
   "cell_type": "code",
   "execution_count": null,
   "metadata": {},
   "outputs": [],
   "source": [
    "img_5_12 = px.histogram(\n",
    "        농협대_df[농협대_df['질문명']==questions_농협대[6]]['답변항목명'], \n",
    "        y=\"답변항목명\",\n",
    "        color=\"답변항목명\", \n",
    "        orientation='h'\n",
    ")\n",
    "    \n",
    "img_5_12.update_layout(\n",
    "    title_text=\"본 교육과정이 여러분의 학습능력 향상 또는 경력개발에<br>도움이 되었습니까? 에 대한 답변 통계\",\n",
    "    title_x=0.5,\n",
    "    yaxis_title=\"답변항목명\",\n",
    "    xaxis_title=\"응답자 수\",\n",
    "    font=dict(\n",
    "        family=\"Noto Sans KR\",\n",
    "        size=12,\n",
    "    ),    \n",
    "    coloraxis_showscale = False,\n",
    "    showlegend=False,\n",
    ")\n",
    "\n",
    "img_5_12.write_image(\"/home/datastory/05.경기도 일자리 설문조사 데이터 분석/05/img_5_12.png\")\n",
    "\n",
    "img_5_12_json = img_5_12.to_json()\n",
    "\n",
    "img_5_12_json_obj = json.loads(img_5_12_json, encoding=\"utf-8\")\n",
    "\n",
    "with open('/home/datastory/05.경기도 일자리 설문조사 데이터 분석/05/img_5_12.json', 'w', encoding='utf-8') as make_file:\n",
    "    json.dump(img_5_12_json_obj, make_file, indent=\"\\t\", ensure_ascii=False)\n",
    "\n",
    "img_5_12.show()"
   ]
  },
  {
   "cell_type": "code",
   "execution_count": null,
   "metadata": {},
   "outputs": [],
   "source": []
  }
 ],
 "metadata": {
  "kernelspec": {
   "display_name": "Python 3",
   "language": "python",
   "name": "python3"
  },
  "language_info": {
   "codemirror_mode": {
    "name": "ipython",
    "version": 3
   },
   "file_extension": ".py",
   "mimetype": "text/x-python",
   "name": "python",
   "nbconvert_exporter": "python",
   "pygments_lexer": "ipython3",
   "version": "3.7.6"
  }
 },
 "nbformat": 4,
 "nbformat_minor": 4
}
