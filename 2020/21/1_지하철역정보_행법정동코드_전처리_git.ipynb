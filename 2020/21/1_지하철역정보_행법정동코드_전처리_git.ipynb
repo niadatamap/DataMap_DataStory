{
 "cells": [
  {
   "cell_type": "code",
   "execution_count": 1,
   "metadata": {},
   "outputs": [],
   "source": [
    "# Import Library\n",
    "import pandas as pd\n",
    "import numpy as np\n",
    "from pandas import Series, DataFrame\n",
    "\n",
    "# 경고 무시\n",
    "import warnings\n",
    "warnings.filterwarnings('ignore')"
   ]
  },
  {
   "cell_type": "markdown",
   "metadata": {},
   "source": [
    "### 1.1 지하철 역 정보 set 전처리"
   ]
  },
  {
   "cell_type": "markdown",
   "metadata": {},
   "source": [
    "#### 지하철역 정보 set 재인코딩 후 저장"
   ]
  },
  {
   "cell_type": "code",
   "execution_count": 2,
   "metadata": {},
   "outputs": [
    {
     "data": {
      "text/plain": [
       "\"\\nsta_info = pd.read_csv('지하철 역 정보.csv', encoding='utf-8')\\nsta_info.to_csv('지하철 역 정보.csv', index=False, encoding='utf-8-sig')\\n\""
      ]
     },
     "execution_count": 2,
     "metadata": {},
     "output_type": "execute_result"
    }
   ],
   "source": [
    "\"\"\"\n",
    "sta_info = pd.read_csv('지하철 역 정보.csv', encoding='utf-8')\n",
    "sta_info.to_csv('지하철 역 정보.csv', index=False, encoding='utf-8-sig')\n",
    "\"\"\""
   ]
  },
  {
   "cell_type": "code",
   "execution_count": 3,
   "metadata": {},
   "outputs": [
    {
     "name": "stdout",
     "output_type": "stream",
     "text": [
      "<class 'pandas.core.frame.DataFrame'>\n",
      "RangeIndex: 1014 entries, 0 to 1013\n",
      "Data columns (total 40 columns):\n",
      "SBW_STATN_ID                 1014 non-null int64\n",
      "SBW_STATN_NM                 1014 non-null object\n",
      "SBW_STATN_NCNAM              213 non-null object\n",
      "SBW_STATN_XCRD               1014 non-null int64\n",
      "SBW_STATN_YCRD               1014 non-null int64\n",
      "NEXT_STATN_ID1               1014 non-null int64\n",
      "NEXT_STATN_NM1               973 non-null object\n",
      "NEXT_STATN_ID2               1014 non-null int64\n",
      "NEXT_STATN_NM2               8 non-null object\n",
      "BFR_STATN_ID1                1014 non-null int64\n",
      "BFR_STATN_NM1                980 non-null object\n",
      "BFR_STATN_ID2                1014 non-null int64\n",
      "BFR_STATN_NM2                2 non-null object\n",
      "TRSF_STATN_ID1               1014 non-null int64\n",
      "TRSF_ROUTE_ID1               1014 non-null int64\n",
      "TRSF_STATN_ID2               1014 non-null int64\n",
      "TRSF_ROUTE_ID2               1014 non-null int64\n",
      "TRSF_STATN_ID3               1014 non-null int64\n",
      "TRSF_ROUTE_ID3               1014 non-null int64\n",
      "ROUTE_NO                     1014 non-null int64\n",
      "SBW_STATN_TRSF_STATN_INFO    1014 non-null int64\n",
      "SBW_STATN_FOM_INFO           1014 non-null int64\n",
      "SBW_STATN_PTF_INFO           1014 non-null int64\n",
      "SBW_STATN_TLROM_INFO         1014 non-null int64\n",
      "SBW_STATN_CRSG_INFO          1014 non-null int64\n",
      "SBW_STATN_MTPL_INFO          1014 non-null int64\n",
      "SBW_STATN_SPT_PBSC_INFO      1014 non-null int64\n",
      "BIKE_CSTD_CNT                1014 non-null int64\n",
      "SBW_STATN_ADDR               1014 non-null object\n",
      "SBW_STATN_TLNO               1014 non-null object\n",
      "SBW_STATN_GFD_INFO           1014 non-null int64\n",
      "CITY_CD                      1014 non-null int64\n",
      "ROAD_NM_ADDR                 950 non-null object\n",
      "DATA_CONNO                   1014 non-null int64\n",
      "OPERT_TPCD                   1014 non-null object\n",
      "OCCRR_DTM                    1014 non-null float64\n",
      "CNTCT_BGN_DTM                1014 non-null float64\n",
      "CNTCT_PRCES_DTM              1014 non-null float64\n",
      "CNTCT_PRCES_STCD             1014 non-null object\n",
      "TRNSA_ID                     1014 non-null object\n",
      "dtypes: float64(3), int64(25), object(12)\n",
      "memory usage: 317.0+ KB\n"
     ]
    }
   ],
   "source": [
    "# Loading Data\n",
    "sta_info = pd.read_csv('지하철 역 정보.csv')\n",
    "sta_info.info()"
   ]
  },
  {
   "cell_type": "code",
   "execution_count": 4,
   "metadata": {},
   "outputs": [
    {
     "name": "stdout",
     "output_type": "stream",
     "text": [
      "<class 'pandas.core.frame.DataFrame'>\n",
      "RangeIndex: 1014 entries, 0 to 1013\n",
      "Data columns (total 2 columns):\n",
      "SBW_STATN_NM      1014 non-null object\n",
      "SBW_STATN_ADDR    1014 non-null object\n",
      "dtypes: object(2)\n",
      "memory usage: 15.9+ KB\n"
     ]
    }
   ],
   "source": [
    "# 역이름, 역주소\n",
    "col = ['SBW_STATN_NM','SBW_STATN_ADDR']\n",
    "sta_addr = sta_info[col]\n",
    "sta_addr.info()"
   ]
  },
  {
   "cell_type": "code",
   "execution_count": 5,
   "metadata": {},
   "outputs": [
    {
     "data": {
      "text/plain": [
       "\"\\n# 역코드 데이터타입 변환(int64 -> int32)\\nsta_addr['SBW_STATN_ID'] = sta_addr['SBW_STATN_ID'].astype('int32')\\nsta_addr.info()\\n\""
      ]
     },
     "execution_count": 5,
     "metadata": {},
     "output_type": "execute_result"
    }
   ],
   "source": [
    "\"\"\"\n",
    "# 역코드 데이터타입 변환(int64 -> int32)\n",
    "sta_addr['SBW_STATN_ID'] = sta_addr['SBW_STATN_ID'].astype('int32')\n",
    "sta_addr.info()\n",
    "\"\"\""
   ]
  },
  {
   "cell_type": "code",
   "execution_count": 6,
   "metadata": {},
   "outputs": [
    {
     "data": {
      "text/html": [
       "<div>\n",
       "<style scoped>\n",
       "    .dataframe tbody tr th:only-of-type {\n",
       "        vertical-align: middle;\n",
       "    }\n",
       "\n",
       "    .dataframe tbody tr th {\n",
       "        vertical-align: top;\n",
       "    }\n",
       "\n",
       "    .dataframe thead th {\n",
       "        text-align: right;\n",
       "    }\n",
       "</style>\n",
       "<table border=\"1\" class=\"dataframe\">\n",
       "  <thead>\n",
       "    <tr style=\"text-align: right;\">\n",
       "      <th></th>\n",
       "      <th>SBW_STATN_NM</th>\n",
       "      <th>SBW_STATN_ADDR</th>\n",
       "    </tr>\n",
       "  </thead>\n",
       "  <tbody>\n",
       "    <tr>\n",
       "      <th>27</th>\n",
       "      <td>도봉산</td>\n",
       "      <td>서울특별시 도봉구 도봉동 18-1</td>\n",
       "    </tr>\n",
       "    <tr>\n",
       "      <th>28</th>\n",
       "      <td>도봉</td>\n",
       "      <td>서울특별시 도봉구 도봉동 639</td>\n",
       "    </tr>\n",
       "    <tr>\n",
       "      <th>29</th>\n",
       "      <td>방학</td>\n",
       "      <td>서울특별시 도봉구 방학동 728</td>\n",
       "    </tr>\n",
       "    <tr>\n",
       "      <th>30</th>\n",
       "      <td>창동</td>\n",
       "      <td>서울특별시 도봉구 창동 135-1</td>\n",
       "    </tr>\n",
       "    <tr>\n",
       "      <th>31</th>\n",
       "      <td>녹천</td>\n",
       "      <td>서울특별시 도봉구 창동 57-11</td>\n",
       "    </tr>\n",
       "  </tbody>\n",
       "</table>\n",
       "</div>"
      ],
      "text/plain": [
       "   SBW_STATN_NM      SBW_STATN_ADDR\n",
       "27          도봉산  서울특별시 도봉구 도봉동 18-1\n",
       "28           도봉   서울특별시 도봉구 도봉동 639\n",
       "29           방학   서울특별시 도봉구 방학동 728\n",
       "30           창동  서울특별시 도봉구 창동 135-1\n",
       "31           녹천  서울특별시 도봉구 창동 57-11"
      ]
     },
     "execution_count": 6,
     "metadata": {},
     "output_type": "execute_result"
    }
   ],
   "source": [
    "# 서울시 데이터만 추출\n",
    "sta_seoul = sta_addr[sta_addr['SBW_STATN_ADDR'].str.startswith(\"서울\")]\n",
    "sta_seoul.head()"
   ]
  },
  {
   "cell_type": "code",
   "execution_count": 7,
   "metadata": {},
   "outputs": [
    {
     "data": {
      "text/html": [
       "<div>\n",
       "<style scoped>\n",
       "    .dataframe tbody tr th:only-of-type {\n",
       "        vertical-align: middle;\n",
       "    }\n",
       "\n",
       "    .dataframe tbody tr th {\n",
       "        vertical-align: top;\n",
       "    }\n",
       "\n",
       "    .dataframe thead th {\n",
       "        text-align: right;\n",
       "    }\n",
       "</style>\n",
       "<table border=\"1\" class=\"dataframe\">\n",
       "  <thead>\n",
       "    <tr style=\"text-align: right;\">\n",
       "      <th></th>\n",
       "      <th>SBW_STATN_NM</th>\n",
       "      <th>SBW_STATN_ADDR</th>\n",
       "      <th>SI</th>\n",
       "      <th>GU</th>\n",
       "      <th>DONG</th>\n",
       "      <th>NUM</th>\n",
       "    </tr>\n",
       "  </thead>\n",
       "  <tbody>\n",
       "    <tr>\n",
       "      <th>27</th>\n",
       "      <td>도봉산</td>\n",
       "      <td>서울특별시 도봉구 도봉동 18-1</td>\n",
       "      <td>서울특별시</td>\n",
       "      <td>도봉구</td>\n",
       "      <td>도봉동</td>\n",
       "      <td>18-1</td>\n",
       "    </tr>\n",
       "    <tr>\n",
       "      <th>28</th>\n",
       "      <td>도봉</td>\n",
       "      <td>서울특별시 도봉구 도봉동 639</td>\n",
       "      <td>서울특별시</td>\n",
       "      <td>도봉구</td>\n",
       "      <td>도봉동</td>\n",
       "      <td>639</td>\n",
       "    </tr>\n",
       "    <tr>\n",
       "      <th>29</th>\n",
       "      <td>방학</td>\n",
       "      <td>서울특별시 도봉구 방학동 728</td>\n",
       "      <td>서울특별시</td>\n",
       "      <td>도봉구</td>\n",
       "      <td>방학동</td>\n",
       "      <td>728</td>\n",
       "    </tr>\n",
       "    <tr>\n",
       "      <th>30</th>\n",
       "      <td>창동</td>\n",
       "      <td>서울특별시 도봉구 창동 135-1</td>\n",
       "      <td>서울특별시</td>\n",
       "      <td>도봉구</td>\n",
       "      <td>창동</td>\n",
       "      <td>135-1</td>\n",
       "    </tr>\n",
       "    <tr>\n",
       "      <th>31</th>\n",
       "      <td>녹천</td>\n",
       "      <td>서울특별시 도봉구 창동 57-11</td>\n",
       "      <td>서울특별시</td>\n",
       "      <td>도봉구</td>\n",
       "      <td>창동</td>\n",
       "      <td>57-11</td>\n",
       "    </tr>\n",
       "  </tbody>\n",
       "</table>\n",
       "</div>"
      ],
      "text/plain": [
       "   SBW_STATN_NM      SBW_STATN_ADDR     SI   GU DONG    NUM\n",
       "27          도봉산  서울특별시 도봉구 도봉동 18-1  서울특별시  도봉구  도봉동   18-1\n",
       "28           도봉   서울특별시 도봉구 도봉동 639  서울특별시  도봉구  도봉동    639\n",
       "29           방학   서울특별시 도봉구 방학동 728  서울특별시  도봉구  방학동    728\n",
       "30           창동  서울특별시 도봉구 창동 135-1  서울특별시  도봉구   창동  135-1\n",
       "31           녹천  서울특별시 도봉구 창동 57-11  서울특별시  도봉구   창동  57-11"
      ]
     },
     "execution_count": 7,
     "metadata": {},
     "output_type": "execute_result"
    }
   ],
   "source": [
    "# 역 주소 시(SI), 구(GU), 동(DONG), 번지(NUM)로 나누기\n",
    "sta_seoul['SI'],sta_seoul['GU'],sta_seoul['DONG'],sta_seoul['NUM'] = sta_seoul['SBW_STATN_ADDR'].astype(str).str.split(' ',3).str\n",
    "sta_seoul.head()"
   ]
  },
  {
   "cell_type": "code",
   "execution_count": 8,
   "metadata": {},
   "outputs": [
    {
     "data": {
      "text/html": [
       "<div>\n",
       "<style scoped>\n",
       "    .dataframe tbody tr th:only-of-type {\n",
       "        vertical-align: middle;\n",
       "    }\n",
       "\n",
       "    .dataframe tbody tr th {\n",
       "        vertical-align: top;\n",
       "    }\n",
       "\n",
       "    .dataframe thead th {\n",
       "        text-align: right;\n",
       "    }\n",
       "</style>\n",
       "<table border=\"1\" class=\"dataframe\">\n",
       "  <thead>\n",
       "    <tr style=\"text-align: right;\">\n",
       "      <th></th>\n",
       "      <th>SBW_STATN_NM</th>\n",
       "      <th>SBW_STATN_ADDR</th>\n",
       "      <th>SI</th>\n",
       "      <th>GU</th>\n",
       "      <th>DONG</th>\n",
       "      <th>NUM</th>\n",
       "    </tr>\n",
       "  </thead>\n",
       "  <tbody>\n",
       "    <tr>\n",
       "      <th>27</th>\n",
       "      <td>도봉산역</td>\n",
       "      <td>서울특별시 도봉구 도봉동 18-1</td>\n",
       "      <td>서울특별시</td>\n",
       "      <td>도봉구</td>\n",
       "      <td>도봉동</td>\n",
       "      <td>18-1</td>\n",
       "    </tr>\n",
       "    <tr>\n",
       "      <th>28</th>\n",
       "      <td>도봉역</td>\n",
       "      <td>서울특별시 도봉구 도봉동 639</td>\n",
       "      <td>서울특별시</td>\n",
       "      <td>도봉구</td>\n",
       "      <td>도봉동</td>\n",
       "      <td>639</td>\n",
       "    </tr>\n",
       "    <tr>\n",
       "      <th>29</th>\n",
       "      <td>방학역</td>\n",
       "      <td>서울특별시 도봉구 방학동 728</td>\n",
       "      <td>서울특별시</td>\n",
       "      <td>도봉구</td>\n",
       "      <td>방학동</td>\n",
       "      <td>728</td>\n",
       "    </tr>\n",
       "    <tr>\n",
       "      <th>30</th>\n",
       "      <td>창동역</td>\n",
       "      <td>서울특별시 도봉구 창동 135-1</td>\n",
       "      <td>서울특별시</td>\n",
       "      <td>도봉구</td>\n",
       "      <td>창동</td>\n",
       "      <td>135-1</td>\n",
       "    </tr>\n",
       "    <tr>\n",
       "      <th>31</th>\n",
       "      <td>녹천역</td>\n",
       "      <td>서울특별시 도봉구 창동 57-11</td>\n",
       "      <td>서울특별시</td>\n",
       "      <td>도봉구</td>\n",
       "      <td>창동</td>\n",
       "      <td>57-11</td>\n",
       "    </tr>\n",
       "  </tbody>\n",
       "</table>\n",
       "</div>"
      ],
      "text/plain": [
       "   SBW_STATN_NM      SBW_STATN_ADDR     SI   GU DONG    NUM\n",
       "27         도봉산역  서울특별시 도봉구 도봉동 18-1  서울특별시  도봉구  도봉동   18-1\n",
       "28          도봉역   서울특별시 도봉구 도봉동 639  서울특별시  도봉구  도봉동    639\n",
       "29          방학역   서울특별시 도봉구 방학동 728  서울특별시  도봉구  방학동    728\n",
       "30          창동역  서울특별시 도봉구 창동 135-1  서울특별시  도봉구   창동  135-1\n",
       "31          녹천역  서울특별시 도봉구 창동 57-11  서울특별시  도봉구   창동  57-11"
      ]
     },
     "execution_count": 8,
     "metadata": {},
     "output_type": "execute_result"
    }
   ],
   "source": [
    "# 역이름에 '~역' 붙이기\n",
    "sta_seoul['SBW_STATN_NM'] = sta_seoul['SBW_STATN_NM'][:-1] + '역'\n",
    "sta_seoul.head()"
   ]
  },
  {
   "cell_type": "code",
   "execution_count": 9,
   "metadata": {},
   "outputs": [
    {
     "name": "stdout",
     "output_type": "stream",
     "text": [
      "<class 'pandas.core.frame.DataFrame'>\n",
      "Int64Index: 390 entries, 27 to 689\n",
      "Data columns (total 2 columns):\n",
      "SBW_STATN_NM    389 non-null object\n",
      "법정동명            390 non-null object\n",
      "dtypes: object(2)\n",
      "memory usage: 9.1+ KB\n"
     ]
    }
   ],
   "source": [
    "# 필요없는 컬럼 제거\n",
    "col = ['SBW_STATN_ADDR','SI','GU','NUM']\n",
    "sta_seoul = sta_seoul.drop(col, axis='columns')\n",
    "\n",
    "# 컬럼명 변경(DONG -> 법정동명)\n",
    "sta_seoul = sta_seoul.rename({'DONG':'법정동명'}, axis='columns')\n",
    "\n",
    "sta_seoul.info()"
   ]
  },
  {
   "cell_type": "code",
   "execution_count": 10,
   "metadata": {},
   "outputs": [],
   "source": [
    "sta_seoul.to_csv('지하철역정보_서울만.csv', index=False, encoding='utf-8-sig')"
   ]
  },
  {
   "cell_type": "markdown",
   "metadata": {},
   "source": [
    "### 1.2 법정동/행정동 코드&명 set 전처리"
   ]
  },
  {
   "cell_type": "code",
   "execution_count": 11,
   "metadata": {
    "scrolled": false
   },
   "outputs": [
    {
     "name": "stdout",
     "output_type": "stream",
     "text": [
      "<class 'pandas.core.frame.DataFrame'>\n",
      "RangeIndex: 767 entries, 0 to 766\n",
      "Data columns (total 7 columns):\n",
      "행정동코드    767 non-null int64\n",
      "시도명      767 non-null object\n",
      "시군구명     767 non-null object\n",
      "읍면동명     742 non-null object\n",
      "법정동코드    767 non-null int64\n",
      "동리명      767 non-null object\n",
      "생성일자     767 non-null int64\n",
      "dtypes: int64(3), object(4)\n",
      "memory usage: 42.0+ KB\n"
     ]
    }
   ],
   "source": [
    "code_info = pd.read_csv('행정동_법정동코드.csv', encoding='ansi')\n",
    "code_info.info()"
   ]
  },
  {
   "cell_type": "code",
   "execution_count": 12,
   "metadata": {},
   "outputs": [],
   "source": [
    "# 필요없는 컬럼 제거\n",
    "col = ['시도명','시군구명','생성일자']\n",
    "code_info = code_info.drop(col, axis='columns')\n",
    "\n",
    "# 컬럼명 수정(읍면동명 -> 행정동명 / 동리명 -> 법정동명)\n",
    "code_info = code_info.rename({'읍면동명':'행정동명', '동리명':'법정동명'}, axis='columns')\n",
    "\n",
    "# 컬럼 데이터타입 변환(int64 -> int32)\n",
    "col = ['행정동코드', '법정동코드']\n",
    "code_info[col] = code_info[col].astype('int32')"
   ]
  },
  {
   "cell_type": "code",
   "execution_count": 13,
   "metadata": {},
   "outputs": [
    {
     "name": "stdout",
     "output_type": "stream",
     "text": [
      "<class 'pandas.core.frame.DataFrame'>\n",
      "RangeIndex: 767 entries, 0 to 766\n",
      "Data columns (total 4 columns):\n",
      "행정동코드    767 non-null int32\n",
      "행정동명     742 non-null object\n",
      "법정동코드    767 non-null int32\n",
      "법정동명     767 non-null object\n",
      "dtypes: int32(2), object(2)\n",
      "memory usage: 18.1+ KB\n"
     ]
    }
   ],
   "source": [
    "code_info.info()"
   ]
  },
  {
   "cell_type": "markdown",
   "metadata": {},
   "source": [
    "### 1.3 지하철역 정보 set과 코드 정보 set 병합"
   ]
  },
  {
   "cell_type": "code",
   "execution_count": 14,
   "metadata": {},
   "outputs": [
    {
     "name": "stdout",
     "output_type": "stream",
     "text": [
      "<class 'pandas.core.frame.DataFrame'>\n",
      "Int64Index: 1042 entries, 0 to 1041\n",
      "Data columns (total 5 columns):\n",
      "SBW_STATN_NM    1038 non-null object\n",
      "법정동명            1042 non-null object\n",
      "행정동코드           1040 non-null float64\n",
      "행정동명            1040 non-null object\n",
      "법정동코드           1040 non-null float64\n",
      "dtypes: float64(2), object(3)\n",
      "memory usage: 48.8+ KB\n"
     ]
    }
   ],
   "source": [
    "# sta_seoul + code_info\n",
    "sta_code = pd.merge(sta_seoul, code_info, how='left', on='법정동명')\n",
    "sta_code.info()"
   ]
  },
  {
   "cell_type": "code",
   "execution_count": 15,
   "metadata": {},
   "outputs": [],
   "source": [
    "# 데이터 타입 변환 (float64 -> int32)\n",
    "col = ['법정동코드','행정동코드']\n",
    "sta_code[col] = sta_code[col].fillna(0).astype('int32')"
   ]
  },
  {
   "cell_type": "code",
   "execution_count": 16,
   "metadata": {},
   "outputs": [],
   "source": [
    "# '역명' NaN인 값 행 제거\n",
    "sta_code = sta_code.dropna(subset=['SBW_STATN_NM'])"
   ]
  },
  {
   "cell_type": "code",
   "execution_count": 17,
   "metadata": {},
   "outputs": [],
   "source": [
    "# 지하철 정보 set + 코드 정보 set 파일 저장\n",
    "sta_code.to_csv('지하철역정보_행법정동코드_전처리.csv', index=False, encoding='utf-8-sig')"
   ]
  },
  {
   "cell_type": "code",
   "execution_count": 18,
   "metadata": {},
   "outputs": [
    {
     "data": {
      "text/plain": [
       "\"\\n# 피클데이터로 저장\\nimport joblib\\n\\nwith open('지하철역정보_행법정동코드_전처리', 'wb') as f:\\n    joblib.dump(sta_code, f)\\n\""
      ]
     },
     "execution_count": 18,
     "metadata": {},
     "output_type": "execute_result"
    }
   ],
   "source": [
    "\"\"\"\n",
    "# 피클데이터로 저장\n",
    "import joblib\n",
    "\n",
    "with open('지하철역정보_행법정동코드_전처리', 'wb') as f:\n",
    "    joblib.dump(sta_code, f)\n",
    "\"\"\""
   ]
  },
  {
   "cell_type": "code",
   "execution_count": 19,
   "metadata": {},
   "outputs": [
    {
     "data": {
      "text/plain": [
       "\"\\n# 피클 데이터 불러오기\\nwith open('지하철역정보_행법정동코드_전처리', 'rb') as f:\\n    sta_code = joblib.load(f)\\n\""
      ]
     },
     "execution_count": 19,
     "metadata": {},
     "output_type": "execute_result"
    }
   ],
   "source": [
    "\"\"\"\n",
    "# 피클 데이터 불러오기\n",
    "with open('지하철역정보_행법정동코드_전처리', 'rb') as f:\n",
    "    sta_code = joblib.load(f)\n",
    "\"\"\""
   ]
  }
 ],
 "metadata": {
  "kernelspec": {
   "display_name": "Python 3",
   "language": "python",
   "name": "python3"
  },
  "language_info": {
   "codemirror_mode": {
    "name": "ipython",
    "version": 3
   },
   "file_extension": ".py",
   "mimetype": "text/x-python",
   "name": "python",
   "nbconvert_exporter": "python",
   "pygments_lexer": "ipython3",
   "version": "3.7.6"
  }
 },
 "nbformat": 4,
 "nbformat_minor": 4
}
