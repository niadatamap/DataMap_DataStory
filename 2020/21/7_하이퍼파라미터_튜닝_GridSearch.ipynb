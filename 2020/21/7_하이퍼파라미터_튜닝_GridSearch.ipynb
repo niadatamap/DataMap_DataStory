{
 "cells": [
  {
   "cell_type": "markdown",
   "metadata": {},
   "source": [
    "### 4.3 모델 성능 향상을 위한 하이퍼파라미터 튜닝"
   ]
  },
  {
   "cell_type": "markdown",
   "metadata": {},
   "source": [
    "#### 리눅스 환경에서 파라미터 튜닝 진행 -> ROC 그래프 한글 깨짐 현상"
   ]
  },
  {
   "cell_type": "code",
   "execution_count": 1,
   "metadata": {},
   "outputs": [],
   "source": [
    "import math\n",
    "import pandas as pd\n",
    "import numpy as np\n",
    "import seaborn as sns\n",
    "sns.set_style('white')\n",
    "import matplotlib.pyplot as plt\n",
    "import warnings\n",
    "warnings.filterwarnings('ignore')\n",
    "plt.rc('font', family='malgun gothic')\n",
    "plt.rc('axes', unicode_minus=False)\n",
    "%matplotlib inline\n",
    "\n",
    "from sklearn import metrics\n",
    "from sklearn.metrics import roc_curve, auc\n",
    "from sklearn.metrics import classification_report, confusion_matrix\n",
    "from sklearn.metrics import accuracy_score\n",
    "from sklearn.model_selection import cross_val_score, cross_validate\n",
    "\n",
    "from sklearn.model_selection import train_test_split\n",
    "from sklearn.model_selection import GridSearchCV\n",
    "from sklearn.ensemble import RandomForestClassifier\n",
    "from sklearn.linear_model import LogisticRegression\n",
    "from xgboost import XGBClassifier\n",
    "from xgboost import plot_importance\n",
    "from sklearn.pipeline import Pipeline"
   ]
  },
  {
   "cell_type": "code",
   "execution_count": 2,
   "metadata": {},
   "outputs": [
    {
     "data": {
      "text/html": [
       "<div>\n",
       "<style scoped>\n",
       "    .dataframe tbody tr th:only-of-type {\n",
       "        vertical-align: middle;\n",
       "    }\n",
       "\n",
       "    .dataframe tbody tr th {\n",
       "        vertical-align: top;\n",
       "    }\n",
       "\n",
       "    .dataframe thead th {\n",
       "        text-align: right;\n",
       "    }\n",
       "</style>\n",
       "<table border=\"1\" class=\"dataframe\">\n",
       "  <thead>\n",
       "    <tr style=\"text-align: right;\">\n",
       "      <th></th>\n",
       "      <th>기준_년_코드</th>\n",
       "      <th>역명</th>\n",
       "      <th>호선</th>\n",
       "      <th>장애인편의시설</th>\n",
       "      <th>만남의장소</th>\n",
       "      <th>현장사무소</th>\n",
       "      <th>민원안내</th>\n",
       "      <th>환승주차장</th>\n",
       "      <th>지하철이용객수</th>\n",
       "      <th>자전거보관가능대수</th>\n",
       "      <th>...</th>\n",
       "      <th>구간이동전입_3년</th>\n",
       "      <th>구간이동전출_3년</th>\n",
       "      <th>시도간이동전입_3년</th>\n",
       "      <th>시도간이동전출_3년</th>\n",
       "      <th>거주_세대_수_3년</th>\n",
       "      <th>거주인구_총계_3년</th>\n",
       "      <th>거주인구_남자_3년</th>\n",
       "      <th>거주인구_여자_3년</th>\n",
       "      <th>세대당인구_3년</th>\n",
       "      <th>고령자_65세이상_3년</th>\n",
       "    </tr>\n",
       "  </thead>\n",
       "  <tbody>\n",
       "    <tr>\n",
       "      <th>0</th>\n",
       "      <td>2016</td>\n",
       "      <td>4.19민주묘지역</td>\n",
       "      <td>우이신설</td>\n",
       "      <td>0</td>\n",
       "      <td>0</td>\n",
       "      <td>0</td>\n",
       "      <td>0</td>\n",
       "      <td>0</td>\n",
       "      <td>0.829532</td>\n",
       "      <td>0.755984</td>\n",
       "      <td>...</td>\n",
       "      <td>0</td>\n",
       "      <td>0</td>\n",
       "      <td>0</td>\n",
       "      <td>1</td>\n",
       "      <td>1</td>\n",
       "      <td>0</td>\n",
       "      <td>0</td>\n",
       "      <td>0</td>\n",
       "      <td>0</td>\n",
       "      <td>1</td>\n",
       "    </tr>\n",
       "    <tr>\n",
       "      <th>1</th>\n",
       "      <td>2016</td>\n",
       "      <td>가락시장역</td>\n",
       "      <td>3</td>\n",
       "      <td>0</td>\n",
       "      <td>0</td>\n",
       "      <td>0</td>\n",
       "      <td>0</td>\n",
       "      <td>0</td>\n",
       "      <td>0.520235</td>\n",
       "      <td>0.919707</td>\n",
       "      <td>...</td>\n",
       "      <td>1</td>\n",
       "      <td>1</td>\n",
       "      <td>1</td>\n",
       "      <td>0</td>\n",
       "      <td>1</td>\n",
       "      <td>1</td>\n",
       "      <td>1</td>\n",
       "      <td>1</td>\n",
       "      <td>0</td>\n",
       "      <td>1</td>\n",
       "    </tr>\n",
       "    <tr>\n",
       "      <th>2</th>\n",
       "      <td>2016</td>\n",
       "      <td>가락시장역</td>\n",
       "      <td>8</td>\n",
       "      <td>1</td>\n",
       "      <td>0</td>\n",
       "      <td>0</td>\n",
       "      <td>0</td>\n",
       "      <td>0</td>\n",
       "      <td>0.475656</td>\n",
       "      <td>0.818231</td>\n",
       "      <td>...</td>\n",
       "      <td>1</td>\n",
       "      <td>1</td>\n",
       "      <td>1</td>\n",
       "      <td>0</td>\n",
       "      <td>1</td>\n",
       "      <td>1</td>\n",
       "      <td>1</td>\n",
       "      <td>1</td>\n",
       "      <td>0</td>\n",
       "      <td>1</td>\n",
       "    </tr>\n",
       "    <tr>\n",
       "      <th>3</th>\n",
       "      <td>2016</td>\n",
       "      <td>가산디지털단지역</td>\n",
       "      <td>7</td>\n",
       "      <td>1</td>\n",
       "      <td>0</td>\n",
       "      <td>0</td>\n",
       "      <td>0</td>\n",
       "      <td>0</td>\n",
       "      <td>0.889632</td>\n",
       "      <td>0.775517</td>\n",
       "      <td>...</td>\n",
       "      <td>1</td>\n",
       "      <td>1</td>\n",
       "      <td>1</td>\n",
       "      <td>1</td>\n",
       "      <td>1</td>\n",
       "      <td>1</td>\n",
       "      <td>1</td>\n",
       "      <td>1</td>\n",
       "      <td>0</td>\n",
       "      <td>1</td>\n",
       "    </tr>\n",
       "    <tr>\n",
       "      <th>4</th>\n",
       "      <td>2016</td>\n",
       "      <td>가양역</td>\n",
       "      <td>9</td>\n",
       "      <td>0</td>\n",
       "      <td>0</td>\n",
       "      <td>0</td>\n",
       "      <td>0</td>\n",
       "      <td>0</td>\n",
       "      <td>0.527622</td>\n",
       "      <td>0.784574</td>\n",
       "      <td>...</td>\n",
       "      <td>1</td>\n",
       "      <td>0</td>\n",
       "      <td>1</td>\n",
       "      <td>0</td>\n",
       "      <td>1</td>\n",
       "      <td>1</td>\n",
       "      <td>1</td>\n",
       "      <td>1</td>\n",
       "      <td>0</td>\n",
       "      <td>1</td>\n",
       "    </tr>\n",
       "    <tr>\n",
       "      <th>5</th>\n",
       "      <td>2016</td>\n",
       "      <td>가오리역</td>\n",
       "      <td>우이신설</td>\n",
       "      <td>0</td>\n",
       "      <td>0</td>\n",
       "      <td>0</td>\n",
       "      <td>0</td>\n",
       "      <td>0</td>\n",
       "      <td>0.829532</td>\n",
       "      <td>0.755984</td>\n",
       "      <td>...</td>\n",
       "      <td>0</td>\n",
       "      <td>0</td>\n",
       "      <td>0</td>\n",
       "      <td>0</td>\n",
       "      <td>1</td>\n",
       "      <td>0</td>\n",
       "      <td>0</td>\n",
       "      <td>0</td>\n",
       "      <td>0</td>\n",
       "      <td>1</td>\n",
       "    </tr>\n",
       "    <tr>\n",
       "      <th>6</th>\n",
       "      <td>2016</td>\n",
       "      <td>가좌역</td>\n",
       "      <td>경의중앙</td>\n",
       "      <td>0</td>\n",
       "      <td>0</td>\n",
       "      <td>0</td>\n",
       "      <td>0</td>\n",
       "      <td>0</td>\n",
       "      <td>0.498724</td>\n",
       "      <td>0.545269</td>\n",
       "      <td>...</td>\n",
       "      <td>0</td>\n",
       "      <td>0</td>\n",
       "      <td>0</td>\n",
       "      <td>0</td>\n",
       "      <td>0</td>\n",
       "      <td>0</td>\n",
       "      <td>0</td>\n",
       "      <td>0</td>\n",
       "      <td>0</td>\n",
       "      <td>0</td>\n",
       "    </tr>\n",
       "    <tr>\n",
       "      <th>7</th>\n",
       "      <td>2016</td>\n",
       "      <td>강남구청역</td>\n",
       "      <td>7</td>\n",
       "      <td>1</td>\n",
       "      <td>1</td>\n",
       "      <td>0</td>\n",
       "      <td>0</td>\n",
       "      <td>0</td>\n",
       "      <td>0.661191</td>\n",
       "      <td>0.610978</td>\n",
       "      <td>...</td>\n",
       "      <td>0</td>\n",
       "      <td>0</td>\n",
       "      <td>0</td>\n",
       "      <td>0</td>\n",
       "      <td>1</td>\n",
       "      <td>0</td>\n",
       "      <td>0</td>\n",
       "      <td>0</td>\n",
       "      <td>0</td>\n",
       "      <td>1</td>\n",
       "    </tr>\n",
       "    <tr>\n",
       "      <th>8</th>\n",
       "      <td>2016</td>\n",
       "      <td>강남역</td>\n",
       "      <td>2</td>\n",
       "      <td>1</td>\n",
       "      <td>0</td>\n",
       "      <td>0</td>\n",
       "      <td>1</td>\n",
       "      <td>0</td>\n",
       "      <td>1.000000</td>\n",
       "      <td>0.718128</td>\n",
       "      <td>...</td>\n",
       "      <td>1</td>\n",
       "      <td>1</td>\n",
       "      <td>0</td>\n",
       "      <td>0</td>\n",
       "      <td>1</td>\n",
       "      <td>1</td>\n",
       "      <td>1</td>\n",
       "      <td>1</td>\n",
       "      <td>0</td>\n",
       "      <td>1</td>\n",
       "    </tr>\n",
       "    <tr>\n",
       "      <th>9</th>\n",
       "      <td>2016</td>\n",
       "      <td>강동구청역</td>\n",
       "      <td>8</td>\n",
       "      <td>1</td>\n",
       "      <td>0</td>\n",
       "      <td>0</td>\n",
       "      <td>0</td>\n",
       "      <td>0</td>\n",
       "      <td>0.557457</td>\n",
       "      <td>0.930890</td>\n",
       "      <td>...</td>\n",
       "      <td>0</td>\n",
       "      <td>0</td>\n",
       "      <td>0</td>\n",
       "      <td>0</td>\n",
       "      <td>0</td>\n",
       "      <td>0</td>\n",
       "      <td>0</td>\n",
       "      <td>0</td>\n",
       "      <td>0</td>\n",
       "      <td>0</td>\n",
       "    </tr>\n",
       "    <tr>\n",
       "      <th>10</th>\n",
       "      <td>2016</td>\n",
       "      <td>강동역</td>\n",
       "      <td>5</td>\n",
       "      <td>1</td>\n",
       "      <td>1</td>\n",
       "      <td>1</td>\n",
       "      <td>0</td>\n",
       "      <td>0</td>\n",
       "      <td>0.691263</td>\n",
       "      <td>0.805480</td>\n",
       "      <td>...</td>\n",
       "      <td>0</td>\n",
       "      <td>0</td>\n",
       "      <td>0</td>\n",
       "      <td>0</td>\n",
       "      <td>0</td>\n",
       "      <td>0</td>\n",
       "      <td>0</td>\n",
       "      <td>0</td>\n",
       "      <td>0</td>\n",
       "      <td>0</td>\n",
       "    </tr>\n",
       "    <tr>\n",
       "      <th>11</th>\n",
       "      <td>2016</td>\n",
       "      <td>강변역</td>\n",
       "      <td>2</td>\n",
       "      <td>1</td>\n",
       "      <td>0</td>\n",
       "      <td>0</td>\n",
       "      <td>1</td>\n",
       "      <td>0</td>\n",
       "      <td>0.943534</td>\n",
       "      <td>0.911616</td>\n",
       "      <td>...</td>\n",
       "      <td>0</td>\n",
       "      <td>0</td>\n",
       "      <td>0</td>\n",
       "      <td>0</td>\n",
       "      <td>0</td>\n",
       "      <td>0</td>\n",
       "      <td>0</td>\n",
       "      <td>0</td>\n",
       "      <td>0</td>\n",
       "      <td>0</td>\n",
       "    </tr>\n",
       "    <tr>\n",
       "      <th>12</th>\n",
       "      <td>2016</td>\n",
       "      <td>개롱역</td>\n",
       "      <td>5</td>\n",
       "      <td>0</td>\n",
       "      <td>0</td>\n",
       "      <td>0</td>\n",
       "      <td>0</td>\n",
       "      <td>0</td>\n",
       "      <td>0.504527</td>\n",
       "      <td>0.738004</td>\n",
       "      <td>...</td>\n",
       "      <td>1</td>\n",
       "      <td>1</td>\n",
       "      <td>1</td>\n",
       "      <td>0</td>\n",
       "      <td>1</td>\n",
       "      <td>1</td>\n",
       "      <td>1</td>\n",
       "      <td>1</td>\n",
       "      <td>0</td>\n",
       "      <td>1</td>\n",
       "    </tr>\n",
       "    <tr>\n",
       "      <th>13</th>\n",
       "      <td>2016</td>\n",
       "      <td>개봉역</td>\n",
       "      <td>1</td>\n",
       "      <td>1</td>\n",
       "      <td>0</td>\n",
       "      <td>0</td>\n",
       "      <td>1</td>\n",
       "      <td>0</td>\n",
       "      <td>0.457012</td>\n",
       "      <td>0.853037</td>\n",
       "      <td>...</td>\n",
       "      <td>0</td>\n",
       "      <td>0</td>\n",
       "      <td>0</td>\n",
       "      <td>0</td>\n",
       "      <td>0</td>\n",
       "      <td>0</td>\n",
       "      <td>0</td>\n",
       "      <td>0</td>\n",
       "      <td>0</td>\n",
       "      <td>0</td>\n",
       "    </tr>\n",
       "    <tr>\n",
       "      <th>14</th>\n",
       "      <td>2016</td>\n",
       "      <td>개포동역</td>\n",
       "      <td>분당</td>\n",
       "      <td>0</td>\n",
       "      <td>0</td>\n",
       "      <td>0</td>\n",
       "      <td>0</td>\n",
       "      <td>0</td>\n",
       "      <td>0.716846</td>\n",
       "      <td>0.683733</td>\n",
       "      <td>...</td>\n",
       "      <td>1</td>\n",
       "      <td>0</td>\n",
       "      <td>1</td>\n",
       "      <td>0</td>\n",
       "      <td>0</td>\n",
       "      <td>0</td>\n",
       "      <td>0</td>\n",
       "      <td>0</td>\n",
       "      <td>0</td>\n",
       "      <td>1</td>\n",
       "    </tr>\n",
       "    <tr>\n",
       "      <th>15</th>\n",
       "      <td>2016</td>\n",
       "      <td>개화산역</td>\n",
       "      <td>5</td>\n",
       "      <td>1</td>\n",
       "      <td>0</td>\n",
       "      <td>0</td>\n",
       "      <td>0</td>\n",
       "      <td>1</td>\n",
       "      <td>0.415153</td>\n",
       "      <td>0.872502</td>\n",
       "      <td>...</td>\n",
       "      <td>0</td>\n",
       "      <td>1</td>\n",
       "      <td>0</td>\n",
       "      <td>1</td>\n",
       "      <td>1</td>\n",
       "      <td>1</td>\n",
       "      <td>1</td>\n",
       "      <td>1</td>\n",
       "      <td>0</td>\n",
       "      <td>1</td>\n",
       "    </tr>\n",
       "    <tr>\n",
       "      <th>16</th>\n",
       "      <td>2016</td>\n",
       "      <td>개화역</td>\n",
       "      <td>9</td>\n",
       "      <td>0</td>\n",
       "      <td>0</td>\n",
       "      <td>0</td>\n",
       "      <td>0</td>\n",
       "      <td>0</td>\n",
       "      <td>0.527622</td>\n",
       "      <td>0.784574</td>\n",
       "      <td>...</td>\n",
       "      <td>0</td>\n",
       "      <td>0</td>\n",
       "      <td>0</td>\n",
       "      <td>0</td>\n",
       "      <td>0</td>\n",
       "      <td>0</td>\n",
       "      <td>0</td>\n",
       "      <td>0</td>\n",
       "      <td>0</td>\n",
       "      <td>0</td>\n",
       "    </tr>\n",
       "    <tr>\n",
       "      <th>17</th>\n",
       "      <td>2016</td>\n",
       "      <td>거여역</td>\n",
       "      <td>5</td>\n",
       "      <td>0</td>\n",
       "      <td>0</td>\n",
       "      <td>0</td>\n",
       "      <td>0</td>\n",
       "      <td>0</td>\n",
       "      <td>0.452435</td>\n",
       "      <td>0.816994</td>\n",
       "      <td>...</td>\n",
       "      <td>0</td>\n",
       "      <td>0</td>\n",
       "      <td>0</td>\n",
       "      <td>0</td>\n",
       "      <td>1</td>\n",
       "      <td>1</td>\n",
       "      <td>1</td>\n",
       "      <td>1</td>\n",
       "      <td>0</td>\n",
       "      <td>1</td>\n",
       "    </tr>\n",
       "    <tr>\n",
       "      <th>18</th>\n",
       "      <td>2016</td>\n",
       "      <td>건대입구역</td>\n",
       "      <td>2</td>\n",
       "      <td>0</td>\n",
       "      <td>0</td>\n",
       "      <td>0</td>\n",
       "      <td>0</td>\n",
       "      <td>0</td>\n",
       "      <td>0.932637</td>\n",
       "      <td>0.963809</td>\n",
       "      <td>...</td>\n",
       "      <td>1</td>\n",
       "      <td>1</td>\n",
       "      <td>1</td>\n",
       "      <td>1</td>\n",
       "      <td>1</td>\n",
       "      <td>1</td>\n",
       "      <td>1</td>\n",
       "      <td>1</td>\n",
       "      <td>0</td>\n",
       "      <td>1</td>\n",
       "    </tr>\n",
       "    <tr>\n",
       "      <th>19</th>\n",
       "      <td>2016</td>\n",
       "      <td>경복궁역</td>\n",
       "      <td>3</td>\n",
       "      <td>1</td>\n",
       "      <td>1</td>\n",
       "      <td>0</td>\n",
       "      <td>0</td>\n",
       "      <td>0</td>\n",
       "      <td>0.785090</td>\n",
       "      <td>0.618234</td>\n",
       "      <td>...</td>\n",
       "      <td>0</td>\n",
       "      <td>0</td>\n",
       "      <td>0</td>\n",
       "      <td>0</td>\n",
       "      <td>1</td>\n",
       "      <td>0</td>\n",
       "      <td>0</td>\n",
       "      <td>0</td>\n",
       "      <td>0</td>\n",
       "      <td>1</td>\n",
       "    </tr>\n",
       "    <tr>\n",
       "      <th>20</th>\n",
       "      <td>2016</td>\n",
       "      <td>경찰병원역</td>\n",
       "      <td>3</td>\n",
       "      <td>1</td>\n",
       "      <td>0</td>\n",
       "      <td>0</td>\n",
       "      <td>0</td>\n",
       "      <td>0</td>\n",
       "      <td>0.475698</td>\n",
       "      <td>0.730303</td>\n",
       "      <td>...</td>\n",
       "      <td>1</td>\n",
       "      <td>1</td>\n",
       "      <td>1</td>\n",
       "      <td>0</td>\n",
       "      <td>1</td>\n",
       "      <td>1</td>\n",
       "      <td>1</td>\n",
       "      <td>1</td>\n",
       "      <td>0</td>\n",
       "      <td>1</td>\n",
       "    </tr>\n",
       "    <tr>\n",
       "      <th>21</th>\n",
       "      <td>2016</td>\n",
       "      <td>고덕역</td>\n",
       "      <td>5</td>\n",
       "      <td>1</td>\n",
       "      <td>0</td>\n",
       "      <td>0</td>\n",
       "      <td>0</td>\n",
       "      <td>0</td>\n",
       "      <td>0.505431</td>\n",
       "      <td>0.745403</td>\n",
       "      <td>...</td>\n",
       "      <td>0</td>\n",
       "      <td>0</td>\n",
       "      <td>0</td>\n",
       "      <td>0</td>\n",
       "      <td>0</td>\n",
       "      <td>0</td>\n",
       "      <td>0</td>\n",
       "      <td>0</td>\n",
       "      <td>0</td>\n",
       "      <td>0</td>\n",
       "    </tr>\n",
       "    <tr>\n",
       "      <th>22</th>\n",
       "      <td>2016</td>\n",
       "      <td>고려대역</td>\n",
       "      <td>6</td>\n",
       "      <td>1</td>\n",
       "      <td>0</td>\n",
       "      <td>0</td>\n",
       "      <td>0</td>\n",
       "      <td>0</td>\n",
       "      <td>0.544166</td>\n",
       "      <td>0.734193</td>\n",
       "      <td>...</td>\n",
       "      <td>0</td>\n",
       "      <td>0</td>\n",
       "      <td>0</td>\n",
       "      <td>0</td>\n",
       "      <td>1</td>\n",
       "      <td>0</td>\n",
       "      <td>0</td>\n",
       "      <td>0</td>\n",
       "      <td>0</td>\n",
       "      <td>1</td>\n",
       "    </tr>\n",
       "    <tr>\n",
       "      <th>23</th>\n",
       "      <td>2016</td>\n",
       "      <td>고속터미널역</td>\n",
       "      <td>3</td>\n",
       "      <td>0</td>\n",
       "      <td>0</td>\n",
       "      <td>0</td>\n",
       "      <td>0</td>\n",
       "      <td>0</td>\n",
       "      <td>0.981511</td>\n",
       "      <td>0.578789</td>\n",
       "      <td>...</td>\n",
       "      <td>0</td>\n",
       "      <td>1</td>\n",
       "      <td>0</td>\n",
       "      <td>0</td>\n",
       "      <td>0</td>\n",
       "      <td>0</td>\n",
       "      <td>0</td>\n",
       "      <td>0</td>\n",
       "      <td>0</td>\n",
       "      <td>1</td>\n",
       "    </tr>\n",
       "    <tr>\n",
       "      <th>24</th>\n",
       "      <td>2016</td>\n",
       "      <td>고속터미널역</td>\n",
       "      <td>7</td>\n",
       "      <td>1</td>\n",
       "      <td>1</td>\n",
       "      <td>0</td>\n",
       "      <td>0</td>\n",
       "      <td>0</td>\n",
       "      <td>0.725634</td>\n",
       "      <td>0.644755</td>\n",
       "      <td>...</td>\n",
       "      <td>0</td>\n",
       "      <td>1</td>\n",
       "      <td>0</td>\n",
       "      <td>0</td>\n",
       "      <td>0</td>\n",
       "      <td>0</td>\n",
       "      <td>0</td>\n",
       "      <td>0</td>\n",
       "      <td>0</td>\n",
       "      <td>1</td>\n",
       "    </tr>\n",
       "    <tr>\n",
       "      <th>25</th>\n",
       "      <td>2016</td>\n",
       "      <td>공덕역</td>\n",
       "      <td>5</td>\n",
       "      <td>0</td>\n",
       "      <td>0</td>\n",
       "      <td>0</td>\n",
       "      <td>0</td>\n",
       "      <td>0</td>\n",
       "      <td>0.614845</td>\n",
       "      <td>0.610978</td>\n",
       "      <td>...</td>\n",
       "      <td>0</td>\n",
       "      <td>0</td>\n",
       "      <td>0</td>\n",
       "      <td>0</td>\n",
       "      <td>1</td>\n",
       "      <td>1</td>\n",
       "      <td>0</td>\n",
       "      <td>1</td>\n",
       "      <td>0</td>\n",
       "      <td>1</td>\n",
       "    </tr>\n",
       "    <tr>\n",
       "      <th>26</th>\n",
       "      <td>2016</td>\n",
       "      <td>공덕역</td>\n",
       "      <td>6</td>\n",
       "      <td>1</td>\n",
       "      <td>0</td>\n",
       "      <td>0</td>\n",
       "      <td>0</td>\n",
       "      <td>0</td>\n",
       "      <td>0.682563</td>\n",
       "      <td>0.591512</td>\n",
       "      <td>...</td>\n",
       "      <td>0</td>\n",
       "      <td>0</td>\n",
       "      <td>0</td>\n",
       "      <td>0</td>\n",
       "      <td>1</td>\n",
       "      <td>1</td>\n",
       "      <td>0</td>\n",
       "      <td>1</td>\n",
       "      <td>0</td>\n",
       "      <td>1</td>\n",
       "    </tr>\n",
       "    <tr>\n",
       "      <th>27</th>\n",
       "      <td>2016</td>\n",
       "      <td>공릉역</td>\n",
       "      <td>7</td>\n",
       "      <td>1</td>\n",
       "      <td>0</td>\n",
       "      <td>0</td>\n",
       "      <td>0</td>\n",
       "      <td>0</td>\n",
       "      <td>0.613133</td>\n",
       "      <td>0.814495</td>\n",
       "      <td>...</td>\n",
       "      <td>0</td>\n",
       "      <td>1</td>\n",
       "      <td>0</td>\n",
       "      <td>0</td>\n",
       "      <td>1</td>\n",
       "      <td>0</td>\n",
       "      <td>0</td>\n",
       "      <td>0</td>\n",
       "      <td>0</td>\n",
       "      <td>1</td>\n",
       "    </tr>\n",
       "    <tr>\n",
       "      <th>28</th>\n",
       "      <td>2016</td>\n",
       "      <td>공항시장역</td>\n",
       "      <td>9</td>\n",
       "      <td>0</td>\n",
       "      <td>0</td>\n",
       "      <td>0</td>\n",
       "      <td>0</td>\n",
       "      <td>0</td>\n",
       "      <td>0.527622</td>\n",
       "      <td>0.784574</td>\n",
       "      <td>...</td>\n",
       "      <td>0</td>\n",
       "      <td>1</td>\n",
       "      <td>0</td>\n",
       "      <td>1</td>\n",
       "      <td>1</td>\n",
       "      <td>1</td>\n",
       "      <td>1</td>\n",
       "      <td>1</td>\n",
       "      <td>0</td>\n",
       "      <td>1</td>\n",
       "    </tr>\n",
       "    <tr>\n",
       "      <th>29</th>\n",
       "      <td>2016</td>\n",
       "      <td>광나루역</td>\n",
       "      <td>5</td>\n",
       "      <td>1</td>\n",
       "      <td>1</td>\n",
       "      <td>0</td>\n",
       "      <td>0</td>\n",
       "      <td>0</td>\n",
       "      <td>0.628546</td>\n",
       "      <td>0.775517</td>\n",
       "      <td>...</td>\n",
       "      <td>0</td>\n",
       "      <td>1</td>\n",
       "      <td>0</td>\n",
       "      <td>0</td>\n",
       "      <td>1</td>\n",
       "      <td>0</td>\n",
       "      <td>0</td>\n",
       "      <td>0</td>\n",
       "      <td>0</td>\n",
       "      <td>1</td>\n",
       "    </tr>\n",
       "    <tr>\n",
       "      <th>...</th>\n",
       "      <td>...</td>\n",
       "      <td>...</td>\n",
       "      <td>...</td>\n",
       "      <td>...</td>\n",
       "      <td>...</td>\n",
       "      <td>...</td>\n",
       "      <td>...</td>\n",
       "      <td>...</td>\n",
       "      <td>...</td>\n",
       "      <td>...</td>\n",
       "      <td>...</td>\n",
       "      <td>...</td>\n",
       "      <td>...</td>\n",
       "      <td>...</td>\n",
       "      <td>...</td>\n",
       "      <td>...</td>\n",
       "      <td>...</td>\n",
       "      <td>...</td>\n",
       "      <td>...</td>\n",
       "      <td>...</td>\n",
       "      <td>...</td>\n",
       "    </tr>\n",
       "    <tr>\n",
       "      <th>305</th>\n",
       "      <td>2016</td>\n",
       "      <td>총신대입구역</td>\n",
       "      <td>4</td>\n",
       "      <td>0</td>\n",
       "      <td>0</td>\n",
       "      <td>0</td>\n",
       "      <td>0</td>\n",
       "      <td>0</td>\n",
       "      <td>0.760059</td>\n",
       "      <td>0.713888</td>\n",
       "      <td>...</td>\n",
       "      <td>0</td>\n",
       "      <td>0</td>\n",
       "      <td>0</td>\n",
       "      <td>0</td>\n",
       "      <td>0</td>\n",
       "      <td>0</td>\n",
       "      <td>0</td>\n",
       "      <td>0</td>\n",
       "      <td>0</td>\n",
       "      <td>0</td>\n",
       "    </tr>\n",
       "    <tr>\n",
       "      <th>306</th>\n",
       "      <td>2016</td>\n",
       "      <td>충무로역</td>\n",
       "      <td>3</td>\n",
       "      <td>0</td>\n",
       "      <td>0</td>\n",
       "      <td>0</td>\n",
       "      <td>0</td>\n",
       "      <td>0</td>\n",
       "      <td>0.630884</td>\n",
       "      <td>0.392287</td>\n",
       "      <td>...</td>\n",
       "      <td>1</td>\n",
       "      <td>0</td>\n",
       "      <td>0</td>\n",
       "      <td>0</td>\n",
       "      <td>0</td>\n",
       "      <td>0</td>\n",
       "      <td>0</td>\n",
       "      <td>0</td>\n",
       "      <td>0</td>\n",
       "      <td>1</td>\n",
       "    </tr>\n",
       "    <tr>\n",
       "      <th>307</th>\n",
       "      <td>2016</td>\n",
       "      <td>충무로역</td>\n",
       "      <td>4</td>\n",
       "      <td>1</td>\n",
       "      <td>0</td>\n",
       "      <td>0</td>\n",
       "      <td>0</td>\n",
       "      <td>0</td>\n",
       "      <td>0.847124</td>\n",
       "      <td>0.392287</td>\n",
       "      <td>...</td>\n",
       "      <td>1</td>\n",
       "      <td>0</td>\n",
       "      <td>0</td>\n",
       "      <td>0</td>\n",
       "      <td>0</td>\n",
       "      <td>0</td>\n",
       "      <td>0</td>\n",
       "      <td>0</td>\n",
       "      <td>0</td>\n",
       "      <td>1</td>\n",
       "    </tr>\n",
       "    <tr>\n",
       "      <th>308</th>\n",
       "      <td>2016</td>\n",
       "      <td>충정로역</td>\n",
       "      <td>2</td>\n",
       "      <td>0</td>\n",
       "      <td>0</td>\n",
       "      <td>0</td>\n",
       "      <td>0</td>\n",
       "      <td>0</td>\n",
       "      <td>0.592954</td>\n",
       "      <td>0.545269</td>\n",
       "      <td>...</td>\n",
       "      <td>0</td>\n",
       "      <td>0</td>\n",
       "      <td>0</td>\n",
       "      <td>0</td>\n",
       "      <td>0</td>\n",
       "      <td>0</td>\n",
       "      <td>0</td>\n",
       "      <td>0</td>\n",
       "      <td>0</td>\n",
       "      <td>1</td>\n",
       "    </tr>\n",
       "    <tr>\n",
       "      <th>309</th>\n",
       "      <td>2016</td>\n",
       "      <td>충정로역</td>\n",
       "      <td>5</td>\n",
       "      <td>1</td>\n",
       "      <td>1</td>\n",
       "      <td>0</td>\n",
       "      <td>0</td>\n",
       "      <td>0</td>\n",
       "      <td>0.360584</td>\n",
       "      <td>0.517060</td>\n",
       "      <td>...</td>\n",
       "      <td>0</td>\n",
       "      <td>0</td>\n",
       "      <td>0</td>\n",
       "      <td>0</td>\n",
       "      <td>0</td>\n",
       "      <td>0</td>\n",
       "      <td>0</td>\n",
       "      <td>0</td>\n",
       "      <td>0</td>\n",
       "      <td>1</td>\n",
       "    </tr>\n",
       "    <tr>\n",
       "      <th>310</th>\n",
       "      <td>2016</td>\n",
       "      <td>태릉입구역</td>\n",
       "      <td>6</td>\n",
       "      <td>0</td>\n",
       "      <td>0</td>\n",
       "      <td>0</td>\n",
       "      <td>0</td>\n",
       "      <td>0</td>\n",
       "      <td>0.410630</td>\n",
       "      <td>0.730303</td>\n",
       "      <td>...</td>\n",
       "      <td>0</td>\n",
       "      <td>1</td>\n",
       "      <td>0</td>\n",
       "      <td>0</td>\n",
       "      <td>1</td>\n",
       "      <td>0</td>\n",
       "      <td>0</td>\n",
       "      <td>0</td>\n",
       "      <td>0</td>\n",
       "      <td>1</td>\n",
       "    </tr>\n",
       "    <tr>\n",
       "      <th>311</th>\n",
       "      <td>2016</td>\n",
       "      <td>태릉입구역</td>\n",
       "      <td>7</td>\n",
       "      <td>1</td>\n",
       "      <td>0</td>\n",
       "      <td>0</td>\n",
       "      <td>0</td>\n",
       "      <td>0</td>\n",
       "      <td>0.515658</td>\n",
       "      <td>0.700566</td>\n",
       "      <td>...</td>\n",
       "      <td>0</td>\n",
       "      <td>1</td>\n",
       "      <td>0</td>\n",
       "      <td>0</td>\n",
       "      <td>1</td>\n",
       "      <td>0</td>\n",
       "      <td>0</td>\n",
       "      <td>0</td>\n",
       "      <td>0</td>\n",
       "      <td>1</td>\n",
       "    </tr>\n",
       "    <tr>\n",
       "      <th>312</th>\n",
       "      <td>2016</td>\n",
       "      <td>하계역</td>\n",
       "      <td>7</td>\n",
       "      <td>1</td>\n",
       "      <td>0</td>\n",
       "      <td>0</td>\n",
       "      <td>0</td>\n",
       "      <td>0</td>\n",
       "      <td>0.719962</td>\n",
       "      <td>0.896766</td>\n",
       "      <td>...</td>\n",
       "      <td>0</td>\n",
       "      <td>0</td>\n",
       "      <td>0</td>\n",
       "      <td>1</td>\n",
       "      <td>1</td>\n",
       "      <td>0</td>\n",
       "      <td>0</td>\n",
       "      <td>0</td>\n",
       "      <td>0</td>\n",
       "      <td>1</td>\n",
       "    </tr>\n",
       "    <tr>\n",
       "      <th>313</th>\n",
       "      <td>2016</td>\n",
       "      <td>학동역</td>\n",
       "      <td>7</td>\n",
       "      <td>1</td>\n",
       "      <td>1</td>\n",
       "      <td>0</td>\n",
       "      <td>0</td>\n",
       "      <td>0</td>\n",
       "      <td>0.749627</td>\n",
       "      <td>0.236334</td>\n",
       "      <td>...</td>\n",
       "      <td>0</td>\n",
       "      <td>0</td>\n",
       "      <td>0</td>\n",
       "      <td>0</td>\n",
       "      <td>1</td>\n",
       "      <td>0</td>\n",
       "      <td>0</td>\n",
       "      <td>0</td>\n",
       "      <td>0</td>\n",
       "      <td>1</td>\n",
       "    </tr>\n",
       "    <tr>\n",
       "      <th>314</th>\n",
       "      <td>2016</td>\n",
       "      <td>학여울역</td>\n",
       "      <td>3</td>\n",
       "      <td>1</td>\n",
       "      <td>1</td>\n",
       "      <td>0</td>\n",
       "      <td>1</td>\n",
       "      <td>1</td>\n",
       "      <td>0.264601</td>\n",
       "      <td>0.635241</td>\n",
       "      <td>...</td>\n",
       "      <td>1</td>\n",
       "      <td>1</td>\n",
       "      <td>1</td>\n",
       "      <td>0</td>\n",
       "      <td>1</td>\n",
       "      <td>0</td>\n",
       "      <td>0</td>\n",
       "      <td>0</td>\n",
       "      <td>0</td>\n",
       "      <td>1</td>\n",
       "    </tr>\n",
       "    <tr>\n",
       "      <th>315</th>\n",
       "      <td>2016</td>\n",
       "      <td>한강진역</td>\n",
       "      <td>6</td>\n",
       "      <td>1</td>\n",
       "      <td>0</td>\n",
       "      <td>0</td>\n",
       "      <td>0</td>\n",
       "      <td>1</td>\n",
       "      <td>0.473131</td>\n",
       "      <td>0.452364</td>\n",
       "      <td>...</td>\n",
       "      <td>1</td>\n",
       "      <td>0</td>\n",
       "      <td>1</td>\n",
       "      <td>0</td>\n",
       "      <td>1</td>\n",
       "      <td>1</td>\n",
       "      <td>1</td>\n",
       "      <td>1</td>\n",
       "      <td>0</td>\n",
       "      <td>1</td>\n",
       "    </tr>\n",
       "    <tr>\n",
       "      <th>316</th>\n",
       "      <td>2016</td>\n",
       "      <td>한남역</td>\n",
       "      <td>경의중앙</td>\n",
       "      <td>0</td>\n",
       "      <td>0</td>\n",
       "      <td>0</td>\n",
       "      <td>0</td>\n",
       "      <td>0</td>\n",
       "      <td>0.546173</td>\n",
       "      <td>0.476479</td>\n",
       "      <td>...</td>\n",
       "      <td>1</td>\n",
       "      <td>0</td>\n",
       "      <td>1</td>\n",
       "      <td>0</td>\n",
       "      <td>1</td>\n",
       "      <td>1</td>\n",
       "      <td>1</td>\n",
       "      <td>1</td>\n",
       "      <td>0</td>\n",
       "      <td>1</td>\n",
       "    </tr>\n",
       "    <tr>\n",
       "      <th>317</th>\n",
       "      <td>2016</td>\n",
       "      <td>한성대입구역</td>\n",
       "      <td>4</td>\n",
       "      <td>1</td>\n",
       "      <td>0</td>\n",
       "      <td>0</td>\n",
       "      <td>0</td>\n",
       "      <td>0</td>\n",
       "      <td>0.671922</td>\n",
       "      <td>0.504479</td>\n",
       "      <td>...</td>\n",
       "      <td>0</td>\n",
       "      <td>1</td>\n",
       "      <td>0</td>\n",
       "      <td>1</td>\n",
       "      <td>0</td>\n",
       "      <td>0</td>\n",
       "      <td>0</td>\n",
       "      <td>0</td>\n",
       "      <td>0</td>\n",
       "      <td>1</td>\n",
       "    </tr>\n",
       "    <tr>\n",
       "      <th>318</th>\n",
       "      <td>2016</td>\n",
       "      <td>한성백제역</td>\n",
       "      <td>9</td>\n",
       "      <td>0</td>\n",
       "      <td>0</td>\n",
       "      <td>0</td>\n",
       "      <td>0</td>\n",
       "      <td>0</td>\n",
       "      <td>0.504527</td>\n",
       "      <td>0.816994</td>\n",
       "      <td>...</td>\n",
       "      <td>1</td>\n",
       "      <td>1</td>\n",
       "      <td>1</td>\n",
       "      <td>0</td>\n",
       "      <td>1</td>\n",
       "      <td>0</td>\n",
       "      <td>0</td>\n",
       "      <td>1</td>\n",
       "      <td>0</td>\n",
       "      <td>1</td>\n",
       "    </tr>\n",
       "    <tr>\n",
       "      <th>319</th>\n",
       "      <td>2016</td>\n",
       "      <td>한양대역</td>\n",
       "      <td>2</td>\n",
       "      <td>1</td>\n",
       "      <td>1</td>\n",
       "      <td>0</td>\n",
       "      <td>0</td>\n",
       "      <td>0</td>\n",
       "      <td>0.601353</td>\n",
       "      <td>0.691132</td>\n",
       "      <td>...</td>\n",
       "      <td>1</td>\n",
       "      <td>1</td>\n",
       "      <td>1</td>\n",
       "      <td>1</td>\n",
       "      <td>1</td>\n",
       "      <td>1</td>\n",
       "      <td>1</td>\n",
       "      <td>1</td>\n",
       "      <td>0</td>\n",
       "      <td>1</td>\n",
       "    </tr>\n",
       "    <tr>\n",
       "      <th>320</th>\n",
       "      <td>2016</td>\n",
       "      <td>한티역</td>\n",
       "      <td>분당</td>\n",
       "      <td>0</td>\n",
       "      <td>0</td>\n",
       "      <td>0</td>\n",
       "      <td>0</td>\n",
       "      <td>0</td>\n",
       "      <td>0.716846</td>\n",
       "      <td>0.683733</td>\n",
       "      <td>...</td>\n",
       "      <td>1</td>\n",
       "      <td>1</td>\n",
       "      <td>1</td>\n",
       "      <td>0</td>\n",
       "      <td>1</td>\n",
       "      <td>0</td>\n",
       "      <td>0</td>\n",
       "      <td>0</td>\n",
       "      <td>0</td>\n",
       "      <td>1</td>\n",
       "    </tr>\n",
       "    <tr>\n",
       "      <th>321</th>\n",
       "      <td>2016</td>\n",
       "      <td>합정역</td>\n",
       "      <td>2</td>\n",
       "      <td>0</td>\n",
       "      <td>0</td>\n",
       "      <td>0</td>\n",
       "      <td>0</td>\n",
       "      <td>0</td>\n",
       "      <td>0.847886</td>\n",
       "      <td>0.443588</td>\n",
       "      <td>...</td>\n",
       "      <td>0</td>\n",
       "      <td>0</td>\n",
       "      <td>0</td>\n",
       "      <td>0</td>\n",
       "      <td>0</td>\n",
       "      <td>0</td>\n",
       "      <td>0</td>\n",
       "      <td>0</td>\n",
       "      <td>0</td>\n",
       "      <td>1</td>\n",
       "    </tr>\n",
       "    <tr>\n",
       "      <th>322</th>\n",
       "      <td>2016</td>\n",
       "      <td>합정역</td>\n",
       "      <td>6</td>\n",
       "      <td>1</td>\n",
       "      <td>0</td>\n",
       "      <td>0</td>\n",
       "      <td>1</td>\n",
       "      <td>0</td>\n",
       "      <td>0.612602</td>\n",
       "      <td>0.569804</td>\n",
       "      <td>...</td>\n",
       "      <td>0</td>\n",
       "      <td>0</td>\n",
       "      <td>0</td>\n",
       "      <td>0</td>\n",
       "      <td>0</td>\n",
       "      <td>0</td>\n",
       "      <td>0</td>\n",
       "      <td>0</td>\n",
       "      <td>0</td>\n",
       "      <td>1</td>\n",
       "    </tr>\n",
       "    <tr>\n",
       "      <th>323</th>\n",
       "      <td>2016</td>\n",
       "      <td>행당역</td>\n",
       "      <td>5</td>\n",
       "      <td>1</td>\n",
       "      <td>0</td>\n",
       "      <td>0</td>\n",
       "      <td>1</td>\n",
       "      <td>0</td>\n",
       "      <td>0.490267</td>\n",
       "      <td>0.545269</td>\n",
       "      <td>...</td>\n",
       "      <td>1</td>\n",
       "      <td>1</td>\n",
       "      <td>1</td>\n",
       "      <td>1</td>\n",
       "      <td>1</td>\n",
       "      <td>1</td>\n",
       "      <td>1</td>\n",
       "      <td>1</td>\n",
       "      <td>0</td>\n",
       "      <td>1</td>\n",
       "    </tr>\n",
       "    <tr>\n",
       "      <th>324</th>\n",
       "      <td>2016</td>\n",
       "      <td>혜화역</td>\n",
       "      <td>4</td>\n",
       "      <td>1</td>\n",
       "      <td>0</td>\n",
       "      <td>0</td>\n",
       "      <td>0</td>\n",
       "      <td>0</td>\n",
       "      <td>0.914241</td>\n",
       "      <td>0.460749</td>\n",
       "      <td>...</td>\n",
       "      <td>0</td>\n",
       "      <td>0</td>\n",
       "      <td>0</td>\n",
       "      <td>0</td>\n",
       "      <td>0</td>\n",
       "      <td>1</td>\n",
       "      <td>0</td>\n",
       "      <td>1</td>\n",
       "      <td>0</td>\n",
       "      <td>1</td>\n",
       "    </tr>\n",
       "    <tr>\n",
       "      <th>325</th>\n",
       "      <td>2016</td>\n",
       "      <td>홍대입구역</td>\n",
       "      <td>2</td>\n",
       "      <td>1</td>\n",
       "      <td>1</td>\n",
       "      <td>0</td>\n",
       "      <td>0</td>\n",
       "      <td>0</td>\n",
       "      <td>1.000000</td>\n",
       "      <td>0.734193</td>\n",
       "      <td>...</td>\n",
       "      <td>0</td>\n",
       "      <td>0</td>\n",
       "      <td>0</td>\n",
       "      <td>0</td>\n",
       "      <td>0</td>\n",
       "      <td>0</td>\n",
       "      <td>0</td>\n",
       "      <td>0</td>\n",
       "      <td>0</td>\n",
       "      <td>1</td>\n",
       "    </tr>\n",
       "    <tr>\n",
       "      <th>326</th>\n",
       "      <td>2016</td>\n",
       "      <td>홍제역</td>\n",
       "      <td>3</td>\n",
       "      <td>1</td>\n",
       "      <td>0</td>\n",
       "      <td>0</td>\n",
       "      <td>0</td>\n",
       "      <td>0</td>\n",
       "      <td>0.716188</td>\n",
       "      <td>0.705112</td>\n",
       "      <td>...</td>\n",
       "      <td>0</td>\n",
       "      <td>0</td>\n",
       "      <td>0</td>\n",
       "      <td>0</td>\n",
       "      <td>0</td>\n",
       "      <td>0</td>\n",
       "      <td>0</td>\n",
       "      <td>0</td>\n",
       "      <td>0</td>\n",
       "      <td>0</td>\n",
       "    </tr>\n",
       "    <tr>\n",
       "      <th>327</th>\n",
       "      <td>2016</td>\n",
       "      <td>화계역</td>\n",
       "      <td>우이신설</td>\n",
       "      <td>0</td>\n",
       "      <td>0</td>\n",
       "      <td>0</td>\n",
       "      <td>0</td>\n",
       "      <td>0</td>\n",
       "      <td>0.829532</td>\n",
       "      <td>0.755984</td>\n",
       "      <td>...</td>\n",
       "      <td>0</td>\n",
       "      <td>0</td>\n",
       "      <td>0</td>\n",
       "      <td>0</td>\n",
       "      <td>1</td>\n",
       "      <td>0</td>\n",
       "      <td>0</td>\n",
       "      <td>0</td>\n",
       "      <td>0</td>\n",
       "      <td>1</td>\n",
       "    </tr>\n",
       "    <tr>\n",
       "      <th>328</th>\n",
       "      <td>2016</td>\n",
       "      <td>화곡역</td>\n",
       "      <td>5</td>\n",
       "      <td>1</td>\n",
       "      <td>1</td>\n",
       "      <td>0</td>\n",
       "      <td>1</td>\n",
       "      <td>0</td>\n",
       "      <td>0.802760</td>\n",
       "      <td>0.926774</td>\n",
       "      <td>...</td>\n",
       "      <td>0</td>\n",
       "      <td>0</td>\n",
       "      <td>0</td>\n",
       "      <td>0</td>\n",
       "      <td>1</td>\n",
       "      <td>0</td>\n",
       "      <td>0</td>\n",
       "      <td>0</td>\n",
       "      <td>0</td>\n",
       "      <td>1</td>\n",
       "    </tr>\n",
       "    <tr>\n",
       "      <th>329</th>\n",
       "      <td>2016</td>\n",
       "      <td>화랑대역</td>\n",
       "      <td>6</td>\n",
       "      <td>0</td>\n",
       "      <td>0</td>\n",
       "      <td>0</td>\n",
       "      <td>0</td>\n",
       "      <td>0</td>\n",
       "      <td>0.585549</td>\n",
       "      <td>0.885024</td>\n",
       "      <td>...</td>\n",
       "      <td>0</td>\n",
       "      <td>1</td>\n",
       "      <td>0</td>\n",
       "      <td>0</td>\n",
       "      <td>1</td>\n",
       "      <td>0</td>\n",
       "      <td>0</td>\n",
       "      <td>0</td>\n",
       "      <td>0</td>\n",
       "      <td>1</td>\n",
       "    </tr>\n",
       "    <tr>\n",
       "      <th>330</th>\n",
       "      <td>2016</td>\n",
       "      <td>회기역</td>\n",
       "      <td>1</td>\n",
       "      <td>0</td>\n",
       "      <td>0</td>\n",
       "      <td>0</td>\n",
       "      <td>0</td>\n",
       "      <td>0</td>\n",
       "      <td>0.682378</td>\n",
       "      <td>0.716020</td>\n",
       "      <td>...</td>\n",
       "      <td>0</td>\n",
       "      <td>0</td>\n",
       "      <td>0</td>\n",
       "      <td>0</td>\n",
       "      <td>0</td>\n",
       "      <td>0</td>\n",
       "      <td>0</td>\n",
       "      <td>0</td>\n",
       "      <td>0</td>\n",
       "      <td>0</td>\n",
       "    </tr>\n",
       "    <tr>\n",
       "      <th>331</th>\n",
       "      <td>2016</td>\n",
       "      <td>회현역</td>\n",
       "      <td>4</td>\n",
       "      <td>1</td>\n",
       "      <td>0</td>\n",
       "      <td>0</td>\n",
       "      <td>0</td>\n",
       "      <td>0</td>\n",
       "      <td>0.824471</td>\n",
       "      <td>0.392287</td>\n",
       "      <td>...</td>\n",
       "      <td>0</td>\n",
       "      <td>0</td>\n",
       "      <td>0</td>\n",
       "      <td>0</td>\n",
       "      <td>0</td>\n",
       "      <td>0</td>\n",
       "      <td>0</td>\n",
       "      <td>0</td>\n",
       "      <td>0</td>\n",
       "      <td>1</td>\n",
       "    </tr>\n",
       "    <tr>\n",
       "      <th>332</th>\n",
       "      <td>2016</td>\n",
       "      <td>효창공원앞역</td>\n",
       "      <td>경의중앙</td>\n",
       "      <td>1</td>\n",
       "      <td>0</td>\n",
       "      <td>0</td>\n",
       "      <td>0</td>\n",
       "      <td>0</td>\n",
       "      <td>0.473304</td>\n",
       "      <td>0.476479</td>\n",
       "      <td>...</td>\n",
       "      <td>1</td>\n",
       "      <td>1</td>\n",
       "      <td>1</td>\n",
       "      <td>0</td>\n",
       "      <td>1</td>\n",
       "      <td>1</td>\n",
       "      <td>1</td>\n",
       "      <td>1</td>\n",
       "      <td>0</td>\n",
       "      <td>1</td>\n",
       "    </tr>\n",
       "    <tr>\n",
       "      <th>333</th>\n",
       "      <td>2016</td>\n",
       "      <td>효창공원앞역</td>\n",
       "      <td>6</td>\n",
       "      <td>0</td>\n",
       "      <td>0</td>\n",
       "      <td>0</td>\n",
       "      <td>0</td>\n",
       "      <td>0</td>\n",
       "      <td>0.473304</td>\n",
       "      <td>0.476479</td>\n",
       "      <td>...</td>\n",
       "      <td>1</td>\n",
       "      <td>1</td>\n",
       "      <td>1</td>\n",
       "      <td>1</td>\n",
       "      <td>1</td>\n",
       "      <td>1</td>\n",
       "      <td>1</td>\n",
       "      <td>1</td>\n",
       "      <td>0</td>\n",
       "      <td>1</td>\n",
       "    </tr>\n",
       "    <tr>\n",
       "      <th>334</th>\n",
       "      <td>2016</td>\n",
       "      <td>흑석역</td>\n",
       "      <td>9</td>\n",
       "      <td>0</td>\n",
       "      <td>0</td>\n",
       "      <td>0</td>\n",
       "      <td>0</td>\n",
       "      <td>0</td>\n",
       "      <td>0.659426</td>\n",
       "      <td>0.673393</td>\n",
       "      <td>...</td>\n",
       "      <td>1</td>\n",
       "      <td>0</td>\n",
       "      <td>1</td>\n",
       "      <td>0</td>\n",
       "      <td>1</td>\n",
       "      <td>1</td>\n",
       "      <td>0</td>\n",
       "      <td>1</td>\n",
       "      <td>0</td>\n",
       "      <td>1</td>\n",
       "    </tr>\n",
       "  </tbody>\n",
       "</table>\n",
       "<p>335 rows × 109 columns</p>\n",
       "</div>"
      ],
      "text/plain": [
       "     기준_년_코드         역명    호선  장애인편의시설  만남의장소  현장사무소  민원안내  환승주차장   지하철이용객수  \\\n",
       "0       2016  4.19민주묘지역  우이신설        0      0      0     0      0  0.829532   \n",
       "1       2016      가락시장역     3        0      0      0     0      0  0.520235   \n",
       "2       2016      가락시장역     8        1      0      0     0      0  0.475656   \n",
       "3       2016   가산디지털단지역     7        1      0      0     0      0  0.889632   \n",
       "4       2016        가양역     9        0      0      0     0      0  0.527622   \n",
       "5       2016       가오리역  우이신설        0      0      0     0      0  0.829532   \n",
       "6       2016        가좌역  경의중앙        0      0      0     0      0  0.498724   \n",
       "7       2016      강남구청역     7        1      1      0     0      0  0.661191   \n",
       "8       2016        강남역     2        1      0      0     1      0  1.000000   \n",
       "9       2016      강동구청역     8        1      0      0     0      0  0.557457   \n",
       "10      2016        강동역     5        1      1      1     0      0  0.691263   \n",
       "11      2016        강변역     2        1      0      0     1      0  0.943534   \n",
       "12      2016        개롱역     5        0      0      0     0      0  0.504527   \n",
       "13      2016        개봉역     1        1      0      0     1      0  0.457012   \n",
       "14      2016       개포동역    분당        0      0      0     0      0  0.716846   \n",
       "15      2016       개화산역     5        1      0      0     0      1  0.415153   \n",
       "16      2016        개화역     9        0      0      0     0      0  0.527622   \n",
       "17      2016        거여역     5        0      0      0     0      0  0.452435   \n",
       "18      2016      건대입구역     2        0      0      0     0      0  0.932637   \n",
       "19      2016       경복궁역     3        1      1      0     0      0  0.785090   \n",
       "20      2016      경찰병원역     3        1      0      0     0      0  0.475698   \n",
       "21      2016        고덕역     5        1      0      0     0      0  0.505431   \n",
       "22      2016       고려대역     6        1      0      0     0      0  0.544166   \n",
       "23      2016     고속터미널역     3        0      0      0     0      0  0.981511   \n",
       "24      2016     고속터미널역     7        1      1      0     0      0  0.725634   \n",
       "25      2016        공덕역     5        0      0      0     0      0  0.614845   \n",
       "26      2016        공덕역     6        1      0      0     0      0  0.682563   \n",
       "27      2016        공릉역     7        1      0      0     0      0  0.613133   \n",
       "28      2016      공항시장역     9        0      0      0     0      0  0.527622   \n",
       "29      2016       광나루역     5        1      1      0     0      0  0.628546   \n",
       "..       ...        ...   ...      ...    ...    ...   ...    ...       ...   \n",
       "305     2016     총신대입구역     4        0      0      0     0      0  0.760059   \n",
       "306     2016       충무로역     3        0      0      0     0      0  0.630884   \n",
       "307     2016       충무로역     4        1      0      0     0      0  0.847124   \n",
       "308     2016       충정로역     2        0      0      0     0      0  0.592954   \n",
       "309     2016       충정로역     5        1      1      0     0      0  0.360584   \n",
       "310     2016      태릉입구역     6        0      0      0     0      0  0.410630   \n",
       "311     2016      태릉입구역     7        1      0      0     0      0  0.515658   \n",
       "312     2016        하계역     7        1      0      0     0      0  0.719962   \n",
       "313     2016        학동역     7        1      1      0     0      0  0.749627   \n",
       "314     2016       학여울역     3        1      1      0     1      1  0.264601   \n",
       "315     2016       한강진역     6        1      0      0     0      1  0.473131   \n",
       "316     2016        한남역  경의중앙        0      0      0     0      0  0.546173   \n",
       "317     2016     한성대입구역     4        1      0      0     0      0  0.671922   \n",
       "318     2016      한성백제역     9        0      0      0     0      0  0.504527   \n",
       "319     2016       한양대역     2        1      1      0     0      0  0.601353   \n",
       "320     2016        한티역    분당        0      0      0     0      0  0.716846   \n",
       "321     2016        합정역     2        0      0      0     0      0  0.847886   \n",
       "322     2016        합정역     6        1      0      0     1      0  0.612602   \n",
       "323     2016        행당역     5        1      0      0     1      0  0.490267   \n",
       "324     2016        혜화역     4        1      0      0     0      0  0.914241   \n",
       "325     2016      홍대입구역     2        1      1      0     0      0  1.000000   \n",
       "326     2016        홍제역     3        1      0      0     0      0  0.716188   \n",
       "327     2016        화계역  우이신설        0      0      0     0      0  0.829532   \n",
       "328     2016        화곡역     5        1      1      0     1      0  0.802760   \n",
       "329     2016       화랑대역     6        0      0      0     0      0  0.585549   \n",
       "330     2016        회기역     1        0      0      0     0      0  0.682378   \n",
       "331     2016        회현역     4        1      0      0     0      0  0.824471   \n",
       "332     2016     효창공원앞역  경의중앙        1      0      0     0      0  0.473304   \n",
       "333     2016     효창공원앞역     6        0      0      0     0      0  0.473304   \n",
       "334     2016        흑석역     9        0      0      0     0      0  0.659426   \n",
       "\n",
       "     자전거보관가능대수  ...  구간이동전입_3년  구간이동전출_3년  시도간이동전입_3년  시도간이동전출_3년  거주_세대_수_3년  \\\n",
       "0     0.755984  ...          0          0           0           1           1   \n",
       "1     0.919707  ...          1          1           1           0           1   \n",
       "2     0.818231  ...          1          1           1           0           1   \n",
       "3     0.775517  ...          1          1           1           1           1   \n",
       "4     0.784574  ...          1          0           1           0           1   \n",
       "5     0.755984  ...          0          0           0           0           1   \n",
       "6     0.545269  ...          0          0           0           0           0   \n",
       "7     0.610978  ...          0          0           0           0           1   \n",
       "8     0.718128  ...          1          1           0           0           1   \n",
       "9     0.930890  ...          0          0           0           0           0   \n",
       "10    0.805480  ...          0          0           0           0           0   \n",
       "11    0.911616  ...          0          0           0           0           0   \n",
       "12    0.738004  ...          1          1           1           0           1   \n",
       "13    0.853037  ...          0          0           0           0           0   \n",
       "14    0.683733  ...          1          0           1           0           0   \n",
       "15    0.872502  ...          0          1           0           1           1   \n",
       "16    0.784574  ...          0          0           0           0           0   \n",
       "17    0.816994  ...          0          0           0           0           1   \n",
       "18    0.963809  ...          1          1           1           1           1   \n",
       "19    0.618234  ...          0          0           0           0           1   \n",
       "20    0.730303  ...          1          1           1           0           1   \n",
       "21    0.745403  ...          0          0           0           0           0   \n",
       "22    0.734193  ...          0          0           0           0           1   \n",
       "23    0.578789  ...          0          1           0           0           0   \n",
       "24    0.644755  ...          0          1           0           0           0   \n",
       "25    0.610978  ...          0          0           0           0           1   \n",
       "26    0.591512  ...          0          0           0           0           1   \n",
       "27    0.814495  ...          0          1           0           0           1   \n",
       "28    0.784574  ...          0          1           0           1           1   \n",
       "29    0.775517  ...          0          1           0           0           1   \n",
       "..         ...  ...        ...        ...         ...         ...         ...   \n",
       "305   0.713888  ...          0          0           0           0           0   \n",
       "306   0.392287  ...          1          0           0           0           0   \n",
       "307   0.392287  ...          1          0           0           0           0   \n",
       "308   0.545269  ...          0          0           0           0           0   \n",
       "309   0.517060  ...          0          0           0           0           0   \n",
       "310   0.730303  ...          0          1           0           0           1   \n",
       "311   0.700566  ...          0          1           0           0           1   \n",
       "312   0.896766  ...          0          0           0           1           1   \n",
       "313   0.236334  ...          0          0           0           0           1   \n",
       "314   0.635241  ...          1          1           1           0           1   \n",
       "315   0.452364  ...          1          0           1           0           1   \n",
       "316   0.476479  ...          1          0           1           0           1   \n",
       "317   0.504479  ...          0          1           0           1           0   \n",
       "318   0.816994  ...          1          1           1           0           1   \n",
       "319   0.691132  ...          1          1           1           1           1   \n",
       "320   0.683733  ...          1          1           1           0           1   \n",
       "321   0.443588  ...          0          0           0           0           0   \n",
       "322   0.569804  ...          0          0           0           0           0   \n",
       "323   0.545269  ...          1          1           1           1           1   \n",
       "324   0.460749  ...          0          0           0           0           0   \n",
       "325   0.734193  ...          0          0           0           0           0   \n",
       "326   0.705112  ...          0          0           0           0           0   \n",
       "327   0.755984  ...          0          0           0           0           1   \n",
       "328   0.926774  ...          0          0           0           0           1   \n",
       "329   0.885024  ...          0          1           0           0           1   \n",
       "330   0.716020  ...          0          0           0           0           0   \n",
       "331   0.392287  ...          0          0           0           0           0   \n",
       "332   0.476479  ...          1          1           1           0           1   \n",
       "333   0.476479  ...          1          1           1           1           1   \n",
       "334   0.673393  ...          1          0           1           0           1   \n",
       "\n",
       "     거주인구_총계_3년 거주인구_남자_3년  거주인구_여자_3년  세대당인구_3년 고령자_65세이상_3년  \n",
       "0             0          0           0         0            1  \n",
       "1             1          1           1         0            1  \n",
       "2             1          1           1         0            1  \n",
       "3             1          1           1         0            1  \n",
       "4             1          1           1         0            1  \n",
       "5             0          0           0         0            1  \n",
       "6             0          0           0         0            0  \n",
       "7             0          0           0         0            1  \n",
       "8             1          1           1         0            1  \n",
       "9             0          0           0         0            0  \n",
       "10            0          0           0         0            0  \n",
       "11            0          0           0         0            0  \n",
       "12            1          1           1         0            1  \n",
       "13            0          0           0         0            0  \n",
       "14            0          0           0         0            1  \n",
       "15            1          1           1         0            1  \n",
       "16            0          0           0         0            0  \n",
       "17            1          1           1         0            1  \n",
       "18            1          1           1         0            1  \n",
       "19            0          0           0         0            1  \n",
       "20            1          1           1         0            1  \n",
       "21            0          0           0         0            0  \n",
       "22            0          0           0         0            1  \n",
       "23            0          0           0         0            1  \n",
       "24            0          0           0         0            1  \n",
       "25            1          0           1         0            1  \n",
       "26            1          0           1         0            1  \n",
       "27            0          0           0         0            1  \n",
       "28            1          1           1         0            1  \n",
       "29            0          0           0         0            1  \n",
       "..          ...        ...         ...       ...          ...  \n",
       "305           0          0           0         0            0  \n",
       "306           0          0           0         0            1  \n",
       "307           0          0           0         0            1  \n",
       "308           0          0           0         0            1  \n",
       "309           0          0           0         0            1  \n",
       "310           0          0           0         0            1  \n",
       "311           0          0           0         0            1  \n",
       "312           0          0           0         0            1  \n",
       "313           0          0           0         0            1  \n",
       "314           0          0           0         0            1  \n",
       "315           1          1           1         0            1  \n",
       "316           1          1           1         0            1  \n",
       "317           0          0           0         0            1  \n",
       "318           0          0           1         0            1  \n",
       "319           1          1           1         0            1  \n",
       "320           0          0           0         0            1  \n",
       "321           0          0           0         0            1  \n",
       "322           0          0           0         0            1  \n",
       "323           1          1           1         0            1  \n",
       "324           1          0           1         0            1  \n",
       "325           0          0           0         0            1  \n",
       "326           0          0           0         0            0  \n",
       "327           0          0           0         0            1  \n",
       "328           0          0           0         0            1  \n",
       "329           0          0           0         0            1  \n",
       "330           0          0           0         0            0  \n",
       "331           0          0           0         0            1  \n",
       "332           1          1           1         0            1  \n",
       "333           1          1           1         0            1  \n",
       "334           1          0           1         0            1  \n",
       "\n",
       "[335 rows x 109 columns]"
      ]
     },
     "execution_count": 2,
     "metadata": {},
     "output_type": "execute_result"
    }
   ],
   "source": [
    "df = pd.read_csv('final_model.csv', encoding='cp949')\n",
    "df"
   ]
  },
  {
   "cell_type": "code",
   "execution_count": 3,
   "metadata": {},
   "outputs": [],
   "source": [
    "# 입력변수 데이터프레임과 목표변수 데이터프레임 분리\n",
    "df_x, df_y = df.iloc[:,3:15], df.iloc[:,18:]\n",
    "df_y_all = df_y.drop(columns=['기준_년_코드.2', '상권_변화_지표_명_1년', '상권_변화_지표_명_3년'], axis=1)\n",
    "\n",
    "# 2017년 목표변수 데이터프레임과 2019년 목표변수 데이터프레임으로 분리\n",
    "df_y_17, df_y_19 = df_y_all.iloc[:, 0:44], df_y_all.iloc[:, 44:]"
   ]
  },
  {
   "cell_type": "markdown",
   "metadata": {},
   "source": [
    "### 1.1  집객 시설 수 (1년)"
   ]
  },
  {
   "cell_type": "code",
   "execution_count": 4,
   "metadata": {},
   "outputs": [],
   "source": [
    "# 지출 총 금액 (2017년)\n",
    "X = df_x.values\n",
    "y = df_y_17.집객시설_수_1년.values\n",
    "\n",
    "# Train, Test Split\n",
    "X_train, X_test, y_train, y_test = train_test_split(X, y, test_size=0.3, random_state=1, stratify=y)"
   ]
  },
  {
   "cell_type": "code",
   "execution_count": 5,
   "metadata": {},
   "outputs": [
    {
     "name": "stderr",
     "output_type": "stream",
     "text": [
      "C:\\Users\\pcn\\Anaconda3\\lib\\site-packages\\sklearn\\model_selection\\_search.py:841: DeprecationWarning: The default of the `iid` parameter will change from True to False in version 0.22 and will be removed in 0.24. This will change numeric results when test-set sizes are unequal.\n",
      "  DeprecationWarning)\n"
     ]
    },
    {
     "name": "stdout",
     "output_type": "stream",
     "text": [
      "최적 하이퍼 파라미터:  {'criterion': 'gini', 'max_depth': 6, 'n_estimators': 300}\n"
     ]
    }
   ],
   "source": [
    "# 하이퍼파라미터 튜닝\n",
    "from sklearn.model_selection import GridSearchCV\n",
    "\n",
    "params = {'n_estimators' :[300,400,500],\n",
    "           'max_depth' : list(range(4, 20)),\n",
    "           'criterion' : ['gini', 'entropy']\n",
    "           }\n",
    "\n",
    "# RandomForestClassifier 객체 생성 후 GridSearchCV 수행\n",
    "rf_clf = RandomForestClassifier(random_state = 0, n_jobs = -1)\n",
    "grid_cv = GridSearchCV(rf_clf, param_grid = params, cv = 5, scoring='roc_auc', n_jobs = -1)\n",
    "grid_cv.fit(X_train, y_train)\n",
    "\n",
    "print('최적 하이퍼 파라미터: ', grid_cv.best_params_)"
   ]
  },
  {
   "cell_type": "code",
   "execution_count": 6,
   "metadata": {},
   "outputs": [
    {
     "name": "stdout",
     "output_type": "stream",
     "text": [
      "예측 정확도: 0.6733\n"
     ]
    }
   ],
   "source": [
    "# 다시 학습 및 예측 성능 측정\n",
    "rf_clf1 = RandomForestClassifier(n_estimators = 400, \n",
    "                                max_depth = 4,\n",
    "                                random_state = 0,\n",
    "                                criterion = 'gini')\n",
    "rf_clf1.fit(X_train, y_train)\n",
    "y_pred = rf_clf1.predict(X_test)\n",
    "print('예측 정확도: {:.4f}'.format(accuracy_score(y_test,y_pred)))"
   ]
  },
  {
   "cell_type": "code",
   "execution_count": 7,
   "metadata": {
    "scrolled": true
   },
   "outputs": [
    {
     "name": "stdout",
     "output_type": "stream",
     "text": [
      "2017년 집객시설_수_Tuning AUC = 0.6433440256615878\n"
     ]
    },
    {
     "data": {
      "image/png": "[encoded data removed]",
      "text/plain": [
       "<Figure size 432x288 with 1 Axes>"
      ]
     },
     "metadata": {
      "needs_background": "light"
     },
     "output_type": "display_data"
    }
   ],
   "source": [
    "# Model Evaluation (AUC)\n",
    "fpr, tpr, thresholds = metrics.roc_curve(y_test, y_pred)\n",
    "roc_auc = metrics.auc(fpr, tpr)\n",
    "print(\"2017년 집객시설_수_Tuning AUC =\", roc_auc)\n",
    "\n",
    "# ROC\n",
    "plt.title('2017년 집객시설_수_Tuning ROC')\n",
    "plt.xlabel('False Positive Rate(Specificity)')\n",
    "plt.ylabel('True Positive Rate(Sensitivity)')\n",
    "plt.plot(fpr, tpr, 'k', label=roc_auc); \n"
   ]
  },
  {
   "cell_type": "markdown",
   "metadata": {},
   "source": [
    "### 1.2 집객 시설 수 (3년)"
   ]
  },
  {
   "cell_type": "code",
   "execution_count": 8,
   "metadata": {},
   "outputs": [],
   "source": [
    "# 지출 총 금액 (2019년)\n",
    "X = df_x.values\n",
    "y = df_y_19.집객시설_수_3년.values\n",
    "\n",
    "# Train, Test Split\n",
    "X_train, X_test, y_train, y_test = train_test_split(X, y, test_size=0.3, random_state=1, stratify=y)"
   ]
  },
  {
   "cell_type": "code",
   "execution_count": 9,
   "metadata": {},
   "outputs": [
    {
     "name": "stderr",
     "output_type": "stream",
     "text": [
      "C:\\Users\\pcn\\Anaconda3\\lib\\site-packages\\sklearn\\model_selection\\_search.py:841: DeprecationWarning: The default of the `iid` parameter will change from True to False in version 0.22 and will be removed in 0.24. This will change numeric results when test-set sizes are unequal.\n",
      "  DeprecationWarning)\n"
     ]
    },
    {
     "name": "stdout",
     "output_type": "stream",
     "text": [
      "최적 하이퍼 파라미터:  {'criterion': 'entropy', 'max_depth': 15, 'n_estimators': 500}\n"
     ]
    }
   ],
   "source": [
    "# 하이퍼파라미터 튜닝\n",
    "from sklearn.model_selection import GridSearchCV\n",
    "\n",
    "params = {'n_estimators' :[300,400,500],\n",
    "           'max_depth' : list(range(4, 20)),\n",
    "           'criterion' : ['gini', 'entropy']\n",
    "           }\n",
    "\n",
    "# RandomForestClassifier 객체 생성 후 GridSearchCV 수행\n",
    "rf_clf = RandomForestClassifier(random_state = 0, n_jobs = -1)\n",
    "grid_cv = GridSearchCV(rf_clf, param_grid = params, cv = 5,  scoring='roc_auc', n_jobs = -1)\n",
    "grid_cv.fit(X_train, y_train)\n",
    "\n",
    "print('최적 하이퍼 파라미터: ', grid_cv.best_params_)"
   ]
  },
  {
   "cell_type": "code",
   "execution_count": 10,
   "metadata": {},
   "outputs": [
    {
     "name": "stdout",
     "output_type": "stream",
     "text": [
      "예측 정확도: 0.7327\n"
     ]
    }
   ],
   "source": [
    "# 다시 학습 및 예측 성능 측정\n",
    "rf_clf1 = RandomForestClassifier(n_estimators = 500, \n",
    "                                max_depth = 15,\n",
    "                                random_state = 0,\n",
    "                                criterion = 'entropy')\n",
    "rf_clf1.fit(X_train, y_train)\n",
    "y_pred = rf_clf1.predict(X_test)\n",
    "print('예측 정확도: {:.4f}'.format(accuracy_score(y_test,y_pred)))"
   ]
  },
  {
   "cell_type": "code",
   "execution_count": 11,
   "metadata": {
    "scrolled": true
   },
   "outputs": [
    {
     "name": "stdout",
     "output_type": "stream",
     "text": [
      "2019년 집객시설_수_Tuning AUC = 0.49485930735930733\n"
     ]
    },
    {
     "data": {
      "image/png": "[encoded data removed]",
      "text/plain": [
       "<Figure size 432x288 with 1 Axes>"
      ]
     },
     "metadata": {
      "needs_background": "light"
     },
     "output_type": "display_data"
    }
   ],
   "source": [
    "# Model Evaluation (AUC)\n",
    "fpr, tpr, thresholds = metrics.roc_curve(y_test, y_pred)\n",
    "roc_auc = metrics.auc(fpr, tpr)\n",
    "print(\"2019년 집객시설_수_Tuning AUC =\", roc_auc)\n",
    "\n",
    "# ROC\n",
    "plt.title('2019년 집객시설_수_Tuning ROC')\n",
    "plt.xlabel('False Positive Rate(Specificity)')\n",
    "plt.ylabel('True Positive Rate(Sensitivity)')\n",
    "plt.plot(fpr, tpr, 'k', label=roc_auc); \n"
   ]
  },
  {
   "cell_type": "markdown",
   "metadata": {},
   "source": [
    "### 2.1 문화지출 (1년)"
   ]
  },
  {
   "cell_type": "code",
   "execution_count": 12,
   "metadata": {},
   "outputs": [],
   "source": [
    "# 문화 지출 총 금액 (2017년)\n",
    "\n",
    "X = df_x.values\n",
    "y = df_y_17.문화_지출_총금액_1년.values\n",
    "\n",
    "# Train, Test Split\n",
    "X_train, X_test, y_train, y_test = train_test_split(X, y, test_size=0.3, random_state=1, stratify=y)"
   ]
  },
  {
   "cell_type": "code",
   "execution_count": 13,
   "metadata": {},
   "outputs": [
    {
     "name": "stdout",
     "output_type": "stream",
     "text": [
      "Fitting 3 folds for each of 12096 candidates, totalling 36288 fits\n"
     ]
    },
    {
     "name": "stderr",
     "output_type": "stream",
     "text": [
      "[Parallel(n_jobs=-1)]: Using backend LokyBackend with 4 concurrent workers.\n",
      "[Parallel(n_jobs=-1)]: Done  42 tasks      | elapsed:    7.6s\n",
      "[Parallel(n_jobs=-1)]: Done 192 tasks      | elapsed:   37.3s\n",
      "[Parallel(n_jobs=-1)]: Done 442 tasks      | elapsed:  1.4min\n",
      "[Parallel(n_jobs=-1)]: Done 792 tasks      | elapsed:  2.6min\n",
      "[Parallel(n_jobs=-1)]: Done 1242 tasks      | elapsed:  4.5min\n",
      "[Parallel(n_jobs=-1)]: Done 1792 tasks      | elapsed:  6.8min\n",
      "[Parallel(n_jobs=-1)]: Done 2442 tasks      | elapsed:  9.3min\n",
      "[Parallel(n_jobs=-1)]: Done 3192 tasks      | elapsed: 11.0min\n",
      "[Parallel(n_jobs=-1)]: Done 4042 tasks      | elapsed: 13.5min\n",
      "[Parallel(n_jobs=-1)]: Done 4992 tasks      | elapsed: 16.4min\n",
      "[Parallel(n_jobs=-1)]: Done 6042 tasks      | elapsed: 22.4min\n",
      "[Parallel(n_jobs=-1)]: Done 7192 tasks      | elapsed: 27.1min\n",
      "[Parallel(n_jobs=-1)]: Done 8442 tasks      | elapsed: 31.8min\n",
      "[Parallel(n_jobs=-1)]: Done 9792 tasks      | elapsed: 39.4min\n",
      "[Parallel(n_jobs=-1)]: Done 11242 tasks      | elapsed: 42.5min\n",
      "[Parallel(n_jobs=-1)]: Done 12792 tasks      | elapsed: 47.1min\n",
      "[Parallel(n_jobs=-1)]: Done 14442 tasks      | elapsed: 50.9min\n",
      "[Parallel(n_jobs=-1)]: Done 16192 tasks      | elapsed: 55.4min\n",
      "[Parallel(n_jobs=-1)]: Done 18042 tasks      | elapsed: 59.6min\n",
      "[Parallel(n_jobs=-1)]: Done 19992 tasks      | elapsed: 62.3min\n",
      "[Parallel(n_jobs=-1)]: Done 22042 tasks      | elapsed: 67.0min\n",
      "[Parallel(n_jobs=-1)]: Done 24192 tasks      | elapsed: 70.7min\n",
      "[Parallel(n_jobs=-1)]: Done 26940 tasks      | elapsed: 73.6min\n",
      "[Parallel(n_jobs=-1)]: Done 30133 tasks      | elapsed: 76.9min\n",
      "[Parallel(n_jobs=-1)]: Done 32844 tasks      | elapsed: 80.9min\n",
      "[Parallel(n_jobs=-1)]: Done 36266 tasks      | elapsed: 85.9min\n",
      "[Parallel(n_jobs=-1)]: Done 36288 out of 36288 | elapsed: 85.9min finished\n",
      "C:\\Users\\pcn\\Anaconda3\\lib\\site-packages\\sklearn\\model_selection\\_search.py:841: DeprecationWarning: The default of the `iid` parameter will change from True to False in version 0.22 and will be removed in 0.24. This will change numeric results when test-set sizes are unequal.\n",
      "  DeprecationWarning)\n"
     ]
    },
    {
     "name": "stdout",
     "output_type": "stream",
     "text": [
      "[17:06:47] WARNING: C:/Users/Administrator/workspace/xgboost-win64_release_1.3.0/src/learner.cc:541: \n",
      "Parameters: { n_iter } might not be used.\n",
      "\n",
      "  This may not be accurate due to some parameters are only used in language bindings but\n",
      "  passed down to XGBoost core.  Or some parameters are not used but slip through this\n",
      "  verification. Please open an issue if you find above cases.\n",
      "\n",
      "\n",
      "[17:06:47] WARNING: C:/Users/Administrator/workspace/xgboost-win64_release_1.3.0/src/learner.cc:1061: Starting in XGBoost 1.3.0, the default evaluation metric used with the objective 'binary:logistic' was changed from 'error' to 'logloss'. Explicitly set eval_metric if you'd like to restore the old behavior.\n",
      "최적 하이퍼 파라미터:  {'learning_rate': 0.06, 'max_depth': 11, 'n_estimators': 100, 'n_iter': 100}\n",
      "최고 예측 정확도: 0.6638\n"
     ]
    }
   ],
   "source": [
    "#객체생성 \n",
    "xgb = XGBClassifier(random_state=18)\n",
    "\n",
    "# 하이퍼파라미터 튜닝\n",
    "params = {\n",
    "    'learning_rate': list(np.concatenate([np.arange(1,11)/100, np.arange(2,11)/10, np.arange(2,11)])),\n",
    "    'n_iter': list(range(100, 1000, 100)),\n",
    "    'max_depth': list(range(4, 20)),\n",
    "    'n_estimators': list(range(100, 400,  100))\n",
    "    }\n",
    "           \n",
    "# XGBClassifier 객체 생성 후 GridSearchCV 수행\n",
    "grid_xgb = GridSearchCV(xgb, param_grid = params, n_jobs = -1, verbose=1, scoring='roc_auc')\n",
    "grid_xgb.fit(X_train, y_train)\n",
    "\n",
    "print('최적 하이퍼 파라미터: ', grid_xgb.best_params_)\n",
    "print('최고 예측 정확도: {:.4f}'.format(grid_xgb.best_score_))"
   ]
  },
  {
   "cell_type": "code",
   "execution_count": 14,
   "metadata": {},
   "outputs": [],
   "source": [
    "import numpy as np"
   ]
  },
  {
   "cell_type": "code",
   "execution_count": 15,
   "metadata": {},
   "outputs": [
    {
     "data": {
      "text/plain": [
       "array([ 0.01,  0.02,  0.03,  0.04,  0.05,  0.06,  0.07,  0.08,  0.09,\n",
       "        0.1 ,  0.2 ,  0.3 ,  0.4 ,  0.5 ,  0.6 ,  0.7 ,  0.8 ,  0.9 ,\n",
       "        1.  ,  2.  ,  3.  ,  4.  ,  5.  ,  6.  ,  7.  ,  8.  ,  9.  ,\n",
       "       10.  ])"
      ]
     },
     "execution_count": 15,
     "metadata": {},
     "output_type": "execute_result"
    }
   ],
   "source": [
    "np.concatenate([np.arange(1,11)/100, np.arange(2,11)/10, np.arange(2,11)])"
   ]
  },
  {
   "cell_type": "code",
   "execution_count": 16,
   "metadata": {},
   "outputs": [
    {
     "name": "stdout",
     "output_type": "stream",
     "text": [
      "[17:06:47] WARNING: C:/Users/Administrator/workspace/xgboost-win64_release_1.3.0/src/learner.cc:541: \n",
      "Parameters: { n_iter } might not be used.\n",
      "\n",
      "  This may not be accurate due to some parameters are only used in language bindings but\n",
      "  passed down to XGBoost core.  Or some parameters are not used but slip through this\n",
      "  verification. Please open an issue if you find above cases.\n",
      "\n",
      "\n",
      "[17:06:47] WARNING: C:/Users/Administrator/workspace/xgboost-win64_release_1.3.0/src/learner.cc:1061: Starting in XGBoost 1.3.0, the default evaluation metric used with the objective 'binary:logistic' was changed from 'error' to 'logloss'. Explicitly set eval_metric if you'd like to restore the old behavior.\n",
      "예측 정확도: 0.5545\n"
     ]
    }
   ],
   "source": [
    "xgb1= XGBClassifier(n_estimators = 100, \n",
    "                    max_depth = 9,\n",
    "                    n_iter = 100,\n",
    "                    learning_rate = 0.9,\n",
    "                    random_state = 18,\n",
    "                    n_jobs = -1\n",
    "                    )\n",
    "xgb1.fit(X_train, y_train)\n",
    "y_pred = xgb1.predict(X_test)\n",
    "print('예측 정확도: {:.4f}'.format(accuracy_score(y_test,y_pred)))"
   ]
  },
  {
   "cell_type": "code",
   "execution_count": 17,
   "metadata": {},
   "outputs": [
    {
     "name": "stdout",
     "output_type": "stream",
     "text": [
      "2017년 문화지출_총금액_Tuning AUC = 0.5229528535980148\n"
     ]
    },
    {
     "data": {
      "image/png": "[encoded data removed]",
      "text/plain": [
       "<Figure size 432x288 with 1 Axes>"
      ]
     },
     "metadata": {
      "needs_background": "light"
     },
     "output_type": "display_data"
    }
   ],
   "source": [
    "# Model Evaluation (AUC)\n",
    "fpr, tpr, thresholds = metrics.roc_curve(y_test, y_pred)\n",
    "roc_auc = metrics.auc(fpr, tpr)\n",
    "print(\"2017년 문화지출_총금액_Tuning AUC =\", roc_auc)\n",
    "\n",
    "# ROC\n",
    "plt.title('2017년 문화지출_총금액_Tuning ROC')\n",
    "plt.xlabel('False Positive Rate(Specificity)')\n",
    "plt.ylabel('True Positive Rate(Sensitivity)')\n",
    "plt.plot(fpr, tpr, 'k', label=roc_auc); \n"
   ]
  },
  {
   "cell_type": "markdown",
   "metadata": {},
   "source": [
    "### 2.2 문화지출 (3년)"
   ]
  },
  {
   "cell_type": "code",
   "execution_count": 18,
   "metadata": {},
   "outputs": [],
   "source": [
    "# 문화 지출 총 금액 (2019년)\n",
    "\n",
    "X = df_x.values\n",
    "y = df_y_19.문화_지출_총금액_3년.values\n",
    "\n",
    "# Train, Test Split\n",
    "X_train, X_test, y_train, y_test = train_test_split(X, y, test_size=0.3, random_state=1, stratify=y)"
   ]
  },
  {
   "cell_type": "code",
   "execution_count": 19,
   "metadata": {},
   "outputs": [
    {
     "name": "stdout",
     "output_type": "stream",
     "text": [
      "Fitting 3 folds for each of 1344 candidates, totalling 4032 fits\n"
     ]
    },
    {
     "name": "stderr",
     "output_type": "stream",
     "text": [
      "[Parallel(n_jobs=-1)]: Using backend LokyBackend with 4 concurrent workers.\n",
      "[Parallel(n_jobs=-1)]: Done  60 tasks      | elapsed:    7.5s\n",
      "[Parallel(n_jobs=-1)]: Done 210 tasks      | elapsed:   29.8s\n",
      "[Parallel(n_jobs=-1)]: Done 460 tasks      | elapsed:  1.1min\n",
      "[Parallel(n_jobs=-1)]: Done 810 tasks      | elapsed:  2.0min\n",
      "[Parallel(n_jobs=-1)]: Done 1260 tasks      | elapsed:  3.0min\n",
      "[Parallel(n_jobs=-1)]: Done 1810 tasks      | elapsed:  4.0min\n",
      "[Parallel(n_jobs=-1)]: Done 2460 tasks      | elapsed:  5.1min\n",
      "[Parallel(n_jobs=-1)]: Done 3210 tasks      | elapsed:  5.9min\n",
      "[Parallel(n_jobs=-1)]: Done 4032 out of 4032 | elapsed:  6.6min finished\n"
     ]
    },
    {
     "name": "stdout",
     "output_type": "stream",
     "text": [
      "[17:13:27] WARNING: C:/Users/Administrator/workspace/xgboost-win64_release_1.3.0/src/learner.cc:1061: Starting in XGBoost 1.3.0, the default evaluation metric used with the objective 'binary:logistic' was changed from 'error' to 'logloss'. Explicitly set eval_metric if you'd like to restore the old behavior.\n",
      "최적 하이퍼 파라미터:  {'learning_rate': 0.09, 'max_depth': 12, 'n_estimators': 100}\n",
      "최고 예측 정확도: 0.6675\n"
     ]
    }
   ],
   "source": [
    "#객체생성 \n",
    "xgb = XGBClassifier(random_state=18)\n",
    "\n",
    "# 하이퍼파라미터 튜닝\n",
    "params = {\n",
    "    'learning_rate': list(np.concatenate([np.arange(1,11)/100, np.arange(2,11)/10, np.arange(2,11)])),\n",
    "    #'n_iter': list(range(100, 1000, 100)),\n",
    "    'max_depth': list(range(4, 20)),\n",
    "    'n_estimators': list(range(100, 400,  100))\n",
    "    }\n",
    "           \n",
    "# XGBClassifier 객체 생성 후 GridSearchCV 수행\n",
    "grid_xgb = GridSearchCV(xgb, param_grid = params, n_jobs = -1, verbose=1, scoring='roc_auc')\n",
    "grid_xgb.fit(X_train, y_train)\n",
    "\n",
    "print('최적 하이퍼 파라미터: ', grid_xgb.best_params_)\n",
    "print('최고 예측 정확도: {:.4f}'.format(grid_xgb.best_score_))"
   ]
  },
  {
   "cell_type": "code",
   "execution_count": 20,
   "metadata": {},
   "outputs": [
    {
     "name": "stdout",
     "output_type": "stream",
     "text": [
      "[17:13:27] WARNING: C:/Users/Administrator/workspace/xgboost-win64_release_1.3.0/src/learner.cc:1061: Starting in XGBoost 1.3.0, the default evaluation metric used with the objective 'binary:logistic' was changed from 'error' to 'logloss'. Explicitly set eval_metric if you'd like to restore the old behavior.\n",
      "예측 정확도: 0.6238\n"
     ]
    }
   ],
   "source": [
    "xgb1= XGBClassifier(n_estimators = 100, \n",
    "                    max_depth = 14,\n",
    "                    #n_iter = 100,\n",
    "                    learning_rate = 0.03,\n",
    "                    random_state = 18,\n",
    "                    n_jobs = -1\n",
    "                    )\n",
    "xgb1.fit(X_train, y_train)\n",
    "y_pred = xgb1.predict(X_test)\n",
    "print('예측 정확도: {:.4f}'.format(accuracy_score(y_test,y_pred)))"
   ]
  },
  {
   "cell_type": "code",
   "execution_count": 21,
   "metadata": {},
   "outputs": [
    {
     "name": "stdout",
     "output_type": "stream",
     "text": [
      "2019년 문화지출_총금액_Tuning AUC = 0.5490196078431373\n"
     ]
    },
    {
     "data": {
      "image/png": "[encoded data removed]",
      "text/plain": [
       "<Figure size 432x288 with 1 Axes>"
      ]
     },
     "metadata": {
      "needs_background": "light"
     },
     "output_type": "display_data"
    }
   ],
   "source": [
    "# Model Evaluation (AUC)\n",
    "fpr, tpr, thresholds = metrics.roc_curve(y_test, y_pred)\n",
    "roc_auc = metrics.auc(fpr, tpr)\n",
    "print(\"2019년 문화지출_총금액_Tuning AUC =\", roc_auc)\n",
    "\n",
    "# ROC\n",
    "plt.title('2019년 문화지출_총금액_Tuning ROC')\n",
    "plt.xlabel('False Positive Rate(Specificity)')\n",
    "plt.ylabel('True Positive Rate(Sensitivity)')\n",
    "plt.plot(fpr, tpr, 'k', label=roc_auc); "
   ]
  },
  {
   "cell_type": "markdown",
   "metadata": {},
   "source": [
    "### 3.1 고령자 거주인구 (1년)"
   ]
  },
  {
   "cell_type": "code",
   "execution_count": 22,
   "metadata": {},
   "outputs": [],
   "source": [
    "# 문화 지출 총 금액 (2017년)\n",
    "\n",
    "X = df_x.values\n",
    "y = df_y_17.고령자_65세이상_1년.values\n",
    "\n",
    "# Train, Test Split\n",
    "X_train, X_test, y_train, y_test = train_test_split(X, y, test_size=0.3, random_state=1, stratify=y)"
   ]
  },
  {
   "cell_type": "code",
   "execution_count": null,
   "metadata": {},
   "outputs": [
    {
     "name": "stdout",
     "output_type": "stream",
     "text": [
      "Fitting 3 folds for each of 12096 candidates, totalling 36288 fits\n"
     ]
    },
    {
     "name": "stderr",
     "output_type": "stream",
     "text": [
      "[Parallel(n_jobs=-1)]: Using backend LokyBackend with 4 concurrent workers.\n",
      "[Parallel(n_jobs=-1)]: Done  76 tasks      | elapsed:    6.7s\n",
      "[Parallel(n_jobs=-1)]: Done 230 tasks      | elapsed:   21.8s\n",
      "[Parallel(n_jobs=-1)]: Done 480 tasks      | elapsed:   58.9s\n"
     ]
    }
   ],
   "source": [
    "#객체생성 \n",
    "xgb = XGBClassifier(random_state=18)\n",
    "\n",
    "# 하이퍼파라미터 튜닝\n",
    "params = {\n",
    "    'learning_rate': list(np.concatenate([np.arange(1,11)/100, np.arange(2,11)/10, np.arange(2,11)])),\n",
    "    'n_iter': list(range(100, 1000, 100)),\n",
    "    'max_depth': list(range(4, 20)),\n",
    "    'n_estimators': list(range(100, 400,  100))\n",
    "    }\n",
    "           \n",
    "# XGBClassifier 객체 생성 후 GridSearchCV 수행\n",
    "grid_xgb = GridSearchCV(xgb, param_grid = params, n_jobs = -1, verbose=1, scoring='roc_auc')\n",
    "grid_xgb.fit(X_train, y_train)\n",
    "\n",
    "print('최적 하이퍼 파라미터: ', grid_xgb.best_params_)\n",
    "print('최고 예측 정확도: {:.4f}'.format(grid_xgb.best_score_))"
   ]
  },
  {
   "cell_type": "code",
   "execution_count": null,
   "metadata": {},
   "outputs": [],
   "source": [
    "xgb1= XGBClassifier(n_estimators = 300, \n",
    "                    max_depth = 8,\n",
    "                    n_iter = 100,\n",
    "                    learning_rate = 1.0,\n",
    "                    random_state = 18,\n",
    "                    n_jobs = -1\n",
    "                    )\n",
    "xgb1.fit(X_train, y_train)\n",
    "y_pred = xgb1.predict(X_test)\n",
    "print('예측 정확도: {:.4f}'.format(accuracy_score(y_test,y_pred)))"
   ]
  },
  {
   "cell_type": "code",
   "execution_count": null,
   "metadata": {},
   "outputs": [],
   "source": [
    "# Model Evaluation (AUC)\n",
    "fpr, tpr, thresholds = metrics.roc_curve(y_test, y_pred)\n",
    "roc_auc = metrics.auc(fpr, tpr)\n",
    "print(\"2017년 문화지출_총금액_Tuning AUC =\", roc_auc)\n",
    "\n",
    "# ROC\n",
    "plt.title('2017년 문화지출_총금액_Tuning ROC')\n",
    "plt.xlabel('False Positive Rate(Specificity)')\n",
    "plt.ylabel('True Positive Rate(Sensitivity)')\n",
    "plt.plot(fpr, tpr, 'k', label=roc_auc); "
   ]
  },
  {
   "cell_type": "markdown",
   "metadata": {},
   "source": [
    "### 3.2 고령자 거주인구 (3년)"
   ]
  },
  {
   "cell_type": "code",
   "execution_count": null,
   "metadata": {},
   "outputs": [],
   "source": [
    "# 고령자 거주인구 (2019년)\n",
    "\n",
    "X = df_x.values\n",
    "y = df_y_19.고령자_65세이상_3년.values\n",
    "\n",
    "# Train, Test Split\n",
    "X_train, X_test, y_train, y_test = train_test_split(X, y, test_size=0.3, random_state=1, stratify=y)"
   ]
  },
  {
   "cell_type": "code",
   "execution_count": null,
   "metadata": {},
   "outputs": [],
   "source": [
    "#객체생성 \n",
    "xgb = XGBClassifier(random_state=18)\n",
    "\n",
    "# 하이퍼파라미터 튜닝\n",
    "params = {\n",
    "    'learning_rate': list(np.concatenate([np.arange(1,11)/100, np.arange(2,11)/10, np.arange(2,11)])),\n",
    "    'n_iter': list(range(100, 1000, 100)),\n",
    "    'max_depth': list(range(4, 20)),\n",
    "    'n_estimators': list(range(100, 400,  100))\n",
    "    }\n",
    "           \n",
    "# XGBClassifier 객체 생성 후 GridSearchCV 수행\n",
    "grid_xgb = GridSearchCV(xgb, param_grid = params, n_jobs = -1, verbose=1, scoring='roc_auc')\n",
    "grid_xgb.fit(X_train, y_train)\n",
    "\n",
    "print('최적 하이퍼 파라미터: ', grid_xgb.best_params_)\n",
    "print('최고 예측 정확도: {:.4f}'.format(grid_xgb.best_score_))"
   ]
  },
  {
   "cell_type": "code",
   "execution_count": null,
   "metadata": {},
   "outputs": [],
   "source": [
    "xgb1= XGBClassifier(n_estimators = 200, \n",
    "                    max_depth = 5,\n",
    "                    n_iter = 100,\n",
    "                    learning_rate = 0.01,\n",
    "                    random_state = 18,\n",
    "                    n_jobs = -1\n",
    "                   )\n",
    "xgb1.fit(X_train, y_train)\n",
    "y_pred = xgb1.predict(X_test)\n",
    "print('예측 정확도: {:.4f}'.format(accuracy_score(y_test,y_pred)))"
   ]
  },
  {
   "cell_type": "code",
   "execution_count": null,
   "metadata": {},
   "outputs": [],
   "source": [
    "# Model Evaluation (AUC)\n",
    "fpr, tpr, thresholds = metrics.roc_curve(y_test, y_pred)\n",
    "roc_auc = metrics.auc(fpr, tpr)\n",
    "print(\"2019년_고령자거주인구_Tuning AUC =\", roc_auc)\n",
    "\n",
    "# ROC\n",
    "plt.title('2019년_고령자거주인구_Tuning ROC')\n",
    "plt.xlabel('False Positive Rate(Specificity)')\n",
    "plt.ylabel('True Positive Rate(Sensitivity)')\n",
    "plt.plot(fpr, tpr, 'k', label=roc_auc); "
   ]
  },
  {
   "cell_type": "markdown",
   "metadata": {},
   "source": [
    "### 4.1 40대 이상_직장인구 (1년)"
   ]
  },
  {
   "cell_type": "code",
   "execution_count": null,
   "metadata": {},
   "outputs": [],
   "source": [
    "# 40대 이상_직장인구 (2017년)\n",
    "\n",
    "X = df_x.values\n",
    "y = df_y_17.연령대_40_직장_인구_수_1년.values\n",
    "\n",
    "# Train, Test Split\n",
    "X_train, X_test, y_train, y_test = train_test_split(X, y, test_size=0.3, random_state=1, stratify=y)"
   ]
  },
  {
   "cell_type": "code",
   "execution_count": null,
   "metadata": {},
   "outputs": [],
   "source": [
    "#객체생성 \n",
    "xgb = XGBClassifier(random_state=18)\n",
    "\n",
    "# 하이퍼파라미터 튜닝\n",
    "params = {\n",
    "    'learning_rate': list(np.concatenate([np.arange(1,11)/100, np.arange(2,11)/10, np.arange(2,11)])),\n",
    "    'n_iter': list(range(100, 1000, 100)),\n",
    "    'max_depth': list(range(4, 20)),\n",
    "    'n_estimators': list(range(100, 400,  100))\n",
    "    }\n",
    "           \n",
    "# XGBClassifier 객체 생성 후 GridSearchCV 수행\n",
    "grid_xgb = GridSearchCV(xgb, param_grid = params, n_jobs = -1, verbose=1, scoring='roc_auc')\n",
    "grid_xgb.fit(X_train, y_train)\n",
    "\n",
    "print('최적 하이퍼 파라미터: ', grid_xgb.best_params_)\n",
    "print('최고 예측 정확도: {:.4f}'.format(grid_xgb.best_score_))"
   ]
  },
  {
   "cell_type": "code",
   "execution_count": null,
   "metadata": {},
   "outputs": [],
   "source": [
    "xgb1= XGBClassifier(n_estimators = 200, \n",
    "                    max_depth = 5,\n",
    "                    n_iter = 100,\n",
    "                    learning_rate = 2.0,\n",
    "                    random_state = 18,\n",
    "                    n_jobs = -1\n",
    "                   )\n",
    "xgb1.fit(X_train, y_train)\n",
    "y_pred = xgb1.predict(X_test)\n",
    "print('예측 정확도: {:.4f}'.format(accuracy_score(y_test,y_pred)))"
   ]
  },
  {
   "cell_type": "code",
   "execution_count": null,
   "metadata": {},
   "outputs": [],
   "source": [
    "# Model Evaluation (AUC)\n",
    "fpr, tpr, thresholds = metrics.roc_curve(y_test, y_pred)\n",
    "roc_auc = metrics.auc(fpr, tpr)\n",
    "print(\"2017년_40대이상_직장인구수_Tuning AUC =\", roc_auc)\n",
    "\n",
    "# ROC\n",
    "plt.title('2017년_40대이상_직장인구수_Tuning ROC')\n",
    "plt.xlabel('False Positive Rate(Specificity)')\n",
    "plt.ylabel('True Positive Rate(Sensitivity)')\n",
    "plt.plot(fpr, tpr, 'k', label=roc_auc); "
   ]
  },
  {
   "cell_type": "markdown",
   "metadata": {},
   "source": [
    "### 4.2 40대 이상_직장인구 (3년)"
   ]
  },
  {
   "cell_type": "code",
   "execution_count": null,
   "metadata": {},
   "outputs": [],
   "source": [
    "# 40대 이상_직장인구 (2019년)\n",
    "\n",
    "X = df_x.values\n",
    "y = df_y_19.연령대_40_직장_인구_수_3년.values\n",
    "\n",
    "# Train, Test Split\n",
    "X_train, X_test, y_train, y_test = train_test_split(X, y, test_size=0.3, random_state=1, stratify=y)"
   ]
  },
  {
   "cell_type": "code",
   "execution_count": null,
   "metadata": {},
   "outputs": [],
   "source": [
    "#객체생성 \n",
    "xgb = XGBClassifier(random_state=18)\n",
    "\n",
    "# 하이퍼파라미터 튜닝\n",
    "params = {\n",
    "    'learning_rate': list(np.concatenate([np.arange(1,11)/100, np.arange(2,11)/10, np.arange(2,11)])), \n",
    "    'n_estimators': list(range(100, 400,  100)),\n",
    "    'n_iter': list(range(100, 1000, 100)),\n",
    "    'max_depth': list(range(4, 20)),\n",
    "    }\n",
    "           \n",
    "# XGBClassifier 객체 생성 후 GridSearchCV 수행\n",
    "grid_xgb = GridSearchCV(xgb, param_grid = params, n_jobs = -1, verbose=1, scoring='roc_auc')\n",
    "grid_xgb.fit(X_train, y_train)\n",
    "\n",
    "print('최적 하이퍼 파라미터: ', grid_xgb.best_params_)\n",
    "print('최고 예측 정확도: {:.4f}'.format(grid_xgb.best_score_))"
   ]
  },
  {
   "cell_type": "code",
   "execution_count": null,
   "metadata": {},
   "outputs": [],
   "source": [
    "xgb1= XGBClassifier(n_estimators = 300, \n",
    "                    max_depth = 7,\n",
    "                    n_iter = 100,\n",
    "                    learning_rate = 0.8,\n",
    "                    random_state = 18,\n",
    "                    n_jobs = -1\n",
    "                    )\n",
    "xgb1.fit(X_train, y_train)\n",
    "y_pred = xgb1.predict(X_test)\n",
    "print('예측 정확도: {:.4f}'.format(accuracy_score(y_test,y_pred)))"
   ]
  },
  {
   "cell_type": "code",
   "execution_count": null,
   "metadata": {},
   "outputs": [],
   "source": [
    "# Model Evaluation (AUC)\n",
    "fpr, tpr, thresholds = metrics.roc_curve(y_test, y_pred)\n",
    "roc_auc = metrics.auc(fpr, tpr)\n",
    "print(\"2019년_40대이상_직장인구수_Tuning AUC =\", roc_auc)\n",
    "\n",
    "# ROC\n",
    "plt.title('2017년_40대이상_직장인구수_Tuning ROC')\n",
    "plt.xlabel('False Positive Rate(Specificity)')\n",
    "plt.ylabel('True Positive Rate(Sensitivity)')\n",
    "plt.plot(fpr, tpr, 'k', label=roc_auc); "
   ]
  },
  {
   "cell_type": "markdown",
   "metadata": {},
   "source": [
    "### 5.1 50대 이상_직장인구  (1년)"
   ]
  },
  {
   "cell_type": "code",
   "execution_count": null,
   "metadata": {},
   "outputs": [],
   "source": [
    "# 50대 이상_직장인구 (2017년)\n",
    "\n",
    "X = df_x.values\n",
    "y = df_y_17.연령대_50_직장_인구_수_1년.values\n",
    "\n",
    "# Train, Test Split\n",
    "X_train, X_test, y_train, y_test = train_test_split(X, y, test_size=0.3, random_state=1, stratify=y)"
   ]
  },
  {
   "cell_type": "code",
   "execution_count": null,
   "metadata": {},
   "outputs": [],
   "source": [
    "#객체생성 \n",
    "xgb = XGBClassifier(random_state=18)\n",
    "\n",
    "# 하이퍼파라미터 튜닝\n",
    "params = {\n",
    "    'learning_rate': list(np.concatenate([np.arange(1,11)/100, np.arange(2,11)/10, np.arange(2,11)])), 'n_estimators': list(range(100, 400,  100)),\n",
    "    'n_iter': list(range(100, 1000, 100)),\n",
    "    'max_depth': list(range(4, 20)),\n",
    "   }\n",
    "           \n",
    "# XGBClassifier 객체 생성 후 GridSearchCV 수행\n",
    "grid_xgb = GridSearchCV(xgb, param_grid = params, n_jobs = -1, verbose=1, scoring='roc_auc')\n",
    "grid_xgb.fit(X_train, y_train)\n",
    "\n",
    "print('최적 하이퍼 파라미터: ', grid_xgb.best_params_)\n",
    "print('최고 예측 정확도: {:.4f}'.format(grid_xgb.best_score_))"
   ]
  },
  {
   "cell_type": "code",
   "execution_count": null,
   "metadata": {},
   "outputs": [],
   "source": [
    "xgb1= XGBClassifier(n_estimators = 100 , \n",
    "                    max_depth = 9,\n",
    "                    n_iter = 100,\n",
    "                    learning_rate = 0.5,\n",
    "                    random_state = 18,\n",
    "                    n_jobs = -1\n",
    "                    )\n",
    "xgb1.fit(X_train, y_train)\n",
    "y_pred = xgb1.predict(X_test)\n",
    "print('예측 정확도: {:.4f}'.format(accuracy_score(y_test,y_pred)))"
   ]
  },
  {
   "cell_type": "code",
   "execution_count": null,
   "metadata": {},
   "outputs": [],
   "source": [
    "# Model Evaluation (AUC)\n",
    "fpr, tpr, thresholds = metrics.roc_curve(y_test, y_pred)\n",
    "roc_auc = metrics.auc(fpr, tpr)\n",
    "print(\"2017년_50대이상_직장인구수_Tuning AUC =\", roc_auc)\n",
    "\n",
    "# ROC\n",
    "plt.title('2017년_50대이상_직장인구수_Tuning ROC')\n",
    "plt.xlabel('False Positive Rate(Specificity)')\n",
    "plt.ylabel('True Positive Rate(Sensitivity)')\n",
    "plt.plot(fpr, tpr, 'k', label=roc_auc); "
   ]
  },
  {
   "cell_type": "markdown",
   "metadata": {},
   "source": [
    "### 5.2 50대 이상_직장인구  (3년)"
   ]
  },
  {
   "cell_type": "code",
   "execution_count": null,
   "metadata": {},
   "outputs": [],
   "source": [
    "# 50대 이상_직장인구 (2019년)\n",
    "\n",
    "X = df_x.values\n",
    "y = df_y_19.연령대_50_직장_인구_수_3년.values\n",
    "\n",
    "# Train, Test Split\n",
    "X_train, X_test, y_train, y_test = train_test_split(X, y, test_size=0.3, random_state=1, stratify=y)"
   ]
  },
  {
   "cell_type": "code",
   "execution_count": null,
   "metadata": {},
   "outputs": [],
   "source": [
    "#객체생성 \n",
    "xgb = XGBClassifier(random_state=18)\n",
    "\n",
    "# 하이퍼파라미터 튜닝\n",
    "params = {\n",
    "    'learning_rate': list(np.concatenate([np.arange(1,11)/100, np.arange(2,11)/10, np.arange(2,11)])), 'n_estimators': list(range(100, 400,  100)),\n",
    "    'n_iter': list(range(100, 1000, 100)),\n",
    "    'max_depth': list(range(4, 20)),\n",
    "    }\n",
    "           \n",
    "# XGBClassifier 객체 생성 후 GridSearchCV 수행\n",
    "grid_xgb = GridSearchCV(xgb, param_grid = params, n_jobs = -1, verbose=1, scoring='roc_auc')\n",
    "grid_xgb.fit(X_train, y_train)\n",
    "\n",
    "print('최적 하이퍼 파라미터: ', grid_xgb.best_params_)\n",
    "print('최고 예측 정확도: {:.4f}'.format(grid_xgb.best_score_))"
   ]
  },
  {
   "cell_type": "code",
   "execution_count": null,
   "metadata": {},
   "outputs": [],
   "source": [
    "xgb1= XGBClassifier(n_estimators = 100, \n",
    "                    max_depth = 9,\n",
    "                    n_iter = 100,\n",
    "                    learning_rate = 5.0,\n",
    "                    random_state = 18,\n",
    "                    n_jobs = -1\n",
    "                    )\n",
    "xgb1.fit(X_train, y_train)\n",
    "y_pred = xgb1.predict(X_test)\n",
    "print('예측 정확도: {:.4f}'.format(accuracy_score(y_test,y_pred)))"
   ]
  },
  {
   "cell_type": "code",
   "execution_count": null,
   "metadata": {},
   "outputs": [],
   "source": [
    "# Model Evaluation (AUC)\n",
    "fpr, tpr, thresholds = metrics.roc_curve(y_test, y_pred)\n",
    "roc_auc = metrics.auc(fpr, tpr)\n",
    "print(\"2019년_50대이상_직장인구수_Tuning AUC =\", roc_auc)\n",
    "\n",
    "# ROC\n",
    "plt.title('2019년_50대이상_직장인구수_Tuning ROC')\n",
    "plt.xlabel('False Positive Rate(Specificity)')\n",
    "plt.ylabel('True Positive Rate(Sensitivity)')\n",
    "plt.plot(fpr, tpr, 'k', label=roc_auc); "
   ]
  },
  {
   "cell_type": "markdown",
   "metadata": {},
   "source": [
    "### 6.1 60대이상_직장인구 수 (1년)"
   ]
  },
  {
   "cell_type": "code",
   "execution_count": null,
   "metadata": {},
   "outputs": [],
   "source": [
    "# 60대 이상_직장인구 (2017년)\n",
    "\n",
    "X = df_x.values\n",
    "y = df_y_17.연령대_60_이상_직장_인구_수_1년.values\n",
    "\n",
    "# Train, Test Split\n",
    "X_train, X_test, y_train, y_test = train_test_split(X, y, test_size=0.3, random_state=1, stratify=y)"
   ]
  },
  {
   "cell_type": "code",
   "execution_count": null,
   "metadata": {},
   "outputs": [],
   "source": [
    "# 하이퍼파라미터 튜닝\n",
    "from sklearn.model_selection import GridSearchCV\n",
    "\n",
    "params = {'n_estimators' :[300,400,500],\n",
    "           'max_depth' : list(range(4, 20)),\n",
    "           'criterion' : ['gini', 'entropy']\n",
    "           }\n",
    "\n",
    "# RandomForestClassifier 객체 생성 후 GridSearchCV 수행\n",
    "rf_clf = RandomForestClassifier(random_state = 0, n_jobs = -1)\n",
    "grid_cv = GridSearchCV(rf_clf, param_grid = params, scoring='roc_auc', cv = 5, n_jobs = -1)\n",
    "grid_cv.fit(X_train, y_train)\n",
    "\n",
    "print('최적 하이퍼 파라미터: ', grid_cv.best_params_)"
   ]
  },
  {
   "cell_type": "code",
   "execution_count": null,
   "metadata": {},
   "outputs": [],
   "source": [
    "# 다시 학습 및 예측 성능 측정\n",
    "rf_clf1 = RandomForestClassifier(n_estimators = 300, \n",
    "                                max_depth = 17,\n",
    "                                random_state = 1,\n",
    "                                criterion = 'entropy')\n",
    "rf_clf1.fit(X_train, y_train)\n",
    "y_pred = rf_clf1.predict(X_test)\n",
    "print('예측 정확도: {:.4f}'.format(accuracy_score(y_test,y_pred)))"
   ]
  },
  {
   "cell_type": "code",
   "execution_count": null,
   "metadata": {},
   "outputs": [],
   "source": [
    "# Model Evaluation (AUC)\n",
    "fpr, tpr, thresholds = metrics.roc_curve(y_test, y_pred)\n",
    "roc_auc = metrics.auc(fpr, tpr)\n",
    "print(\"2017년_60대이상_직장인구수_Tuning AUC =\", roc_auc)\n",
    "\n",
    "# ROC\n",
    "plt.title('2017년_60대이상_직장인구수_Tuning ROC')\n",
    "plt.xlabel('False Positive Rate(Specificity)')\n",
    "plt.ylabel('True Positive Rate(Sensitivity)')\n",
    "plt.plot(fpr, tpr, 'k', label=roc_auc); "
   ]
  },
  {
   "cell_type": "markdown",
   "metadata": {},
   "source": [
    "### 6.2 60대이상_직장인구 수 (3년)"
   ]
  },
  {
   "cell_type": "code",
   "execution_count": null,
   "metadata": {},
   "outputs": [],
   "source": [
    "# 60대 이상_직장인구 (2019년)\n",
    "\n",
    "X = df_x.values\n",
    "y = df_y_19.연령대_60_이상_직장_인구_수_3년.values\n",
    "\n",
    "# Train, Test Split\n",
    "X_train, X_test, y_train, y_test = train_test_split(X, y, test_size=0.3, random_state=1, stratify=y)"
   ]
  },
  {
   "cell_type": "code",
   "execution_count": null,
   "metadata": {},
   "outputs": [],
   "source": [
    "# 하이퍼파라미터 튜닝\n",
    "from sklearn.model_selection import GridSearchCV\n",
    "\n",
    "params = {'n_estimators' :[300,400,500],\n",
    "           'max_depth' : list(range(4, 20)),\n",
    "           'criterion' : ['gini', 'entropy']\n",
    "           }\n",
    "\n",
    "# RandomForestClassifier 객체 생성 후 GridSearchCV 수행\n",
    "rf_clf = RandomForestClassifier(random_state = 0, n_jobs = -1)\n",
    "grid_cv = GridSearchCV(rf_clf, param_grid = params, scoring='roc_auc', cv = 5, n_jobs = -1)\n",
    "grid_cv.fit(X_train, y_train)\n",
    "\n",
    "print('최적 하이퍼 파라미터: ', grid_cv.best_params_)"
   ]
  },
  {
   "cell_type": "code",
   "execution_count": null,
   "metadata": {},
   "outputs": [],
   "source": [
    "# 다시 학습 및 예측 성능 측정\n",
    "rf_clf1 = RandomForestClassifier(n_estimators = 400, \n",
    "                                max_depth = 6,\n",
    "                                random_state = 1,\n",
    "                                criterion = 'gini')\n",
    "rf_clf1.fit(X_train, y_train)\n",
    "y_pred = rf_clf1.predict(X_test)\n",
    "print('예측 정확도: {:.4f}'.format(accuracy_score(y_test,y_pred)))"
   ]
  },
  {
   "cell_type": "code",
   "execution_count": null,
   "metadata": {},
   "outputs": [],
   "source": [
    "# Model Evaluation (AUC)\n",
    "fpr, tpr, thresholds = metrics.roc_curve(y_test, y_pred)\n",
    "roc_auc = metrics.auc(fpr, tpr)\n",
    "print(\"2019년_60대이상_직장인구수_Tuning AUC =\", roc_auc)\n",
    "\n",
    "# ROC\n",
    "plt.title('2019년_60대이상_직장인구수_Tuning ROC')\n",
    "plt.xlabel('False Positive Rate(Specificity)')\n",
    "plt.ylabel('True Positive Rate(Sensitivity)')\n",
    "plt.plot(fpr, tpr, 'k', label=roc_auc); "
   ]
  },
  {
   "cell_type": "markdown",
   "metadata": {},
   "source": [
    "### 7.1 연립주택 가격 (1년)"
   ]
  },
  {
   "cell_type": "code",
   "execution_count": null,
   "metadata": {},
   "outputs": [],
   "source": [
    "# 연립주택 가격  (2017년)\n",
    "\n",
    "X = df_x.values\n",
    "y = df_y_17.연립주택_가격_1년.values\n",
    "\n",
    "# Train, Test Split\n",
    "X_train, X_test, y_train, y_test = train_test_split(X, y, test_size=0.3, random_state=1, stratify=y)"
   ]
  },
  {
   "cell_type": "code",
   "execution_count": null,
   "metadata": {},
   "outputs": [],
   "source": [
    "#객체생성 \n",
    "xgb = XGBClassifier(random_state=18)\n",
    "\n",
    "# 하이퍼파라미터 튜닝\n",
    "params = {\n",
    "    'learning_rate': list(np.concatenate([np.arange(1,11)/100, np.arange(2,11)/10, np.arange(2,11)])), 'n_estimators': list(range(100, 400,  100)),\n",
    "    'n_iter': list(range(100, 1000, 100)),\n",
    "    'max_depth': list(range(4, 20)),\n",
    "    }\n",
    "           \n",
    "# XGBClassifier 객체 생성 후 GridSearchCV 수행\n",
    "grid_xgb = GridSearchCV(xgb, param_grid = params, n_jobs = -1, verbose=1, scoring='roc_auc')\n",
    "grid_xgb.fit(X_train, y_train)\n",
    "\n",
    "print('최적 하이퍼 파라미터: ', grid_xgb.best_params_)\n",
    "print('최고 예측 정확도: {:.4f}'.format(grid_xgb.best_score_))"
   ]
  },
  {
   "cell_type": "code",
   "execution_count": null,
   "metadata": {},
   "outputs": [],
   "source": [
    "xgb1= XGBClassifier(n_estimators = 200, \n",
    "                    max_depth = 6,\n",
    "                    n_iter = 100,\n",
    "                    learning_rate = 3.0,\n",
    "                    random_state = 18,\n",
    "                    n_jobs = -1\n",
    "                    )\n",
    "xgb1.fit(X_train, y_train)\n",
    "y_pred = xgb1.predict(X_test)\n",
    "print('예측 정확도: {:.4f}'.format(accuracy_score(y_test,y_pred)))"
   ]
  },
  {
   "cell_type": "code",
   "execution_count": null,
   "metadata": {},
   "outputs": [],
   "source": [
    "# Model Evaluation (AUC)\n",
    "fpr, tpr, thresholds = metrics.roc_curve(y_test, y_pred)\n",
    "roc_auc = metrics.auc(fpr, tpr)\n",
    "print(\"2017년_연립주택 가격_Tuning AUC =\", roc_auc)\n",
    "\n",
    "# ROC\n",
    "plt.title('2017년_연립주택가격_Tuning ROC')\n",
    "plt.xlabel('False Positive Rate(Specificity)')\n",
    "plt.ylabel('True Positive Rate(Sensitivity)')\n",
    "plt.plot(fpr, tpr, 'k', label=roc_auc); "
   ]
  },
  {
   "cell_type": "markdown",
   "metadata": {},
   "source": [
    "### 7.2 연립주택가격 (3년)"
   ]
  },
  {
   "cell_type": "code",
   "execution_count": null,
   "metadata": {},
   "outputs": [],
   "source": [
    "# 연립주택 가격  (2019년)\n",
    "\n",
    "X = df_x.values\n",
    "y = df_y_19.연립주택_가격_3년.values\n",
    "\n",
    "# Train, Test Split\n",
    "X_train, X_test, y_train, y_test = train_test_split(X, y, test_size=0.3, random_state=1, stratify=y)"
   ]
  },
  {
   "cell_type": "code",
   "execution_count": null,
   "metadata": {},
   "outputs": [],
   "source": [
    "#객체생성 \n",
    "xgb = XGBClassifier(random_state=18)\n",
    "\n",
    "# 하이퍼파라미터 튜닝\n",
    "params = {\n",
    "    'learning_rate': list(np.concatenate([np.arange(1,11)/100, np.arange(2,11)/10, np.arange(2,11)])), 'n_estimators': list(range(100, 400,  100)),\n",
    "    'n_iter': list(range(100, 1000, 100)),\n",
    "    'max_depth': list(range(4, 20)),\n",
    "    }\n",
    "           \n",
    "# XGBClassifier 객체 생성 후 GridSearchCV 수행\n",
    "grid_xgb = GridSearchCV(xgb, param_grid = params, n_jobs = -1, verbose=1, scoring='roc_auc')\n",
    "grid_xgb.fit(X_train, y_train)\n",
    "\n",
    "print('최적 하이퍼 파라미터: ', grid_xgb.best_params_)\n",
    "print('최고 예측 정확도: {:.4f}'.format(grid_xgb.best_score_))"
   ]
  },
  {
   "cell_type": "code",
   "execution_count": null,
   "metadata": {},
   "outputs": [],
   "source": [
    "xgb1= XGBClassifier(n_estimators = 300, \n",
    "                    max_depth = 5,\n",
    "                    n_iter = 100,\n",
    "                    learning_rate = 0.03,\n",
    "                    random_state = 18,\n",
    "                    n_jobs = -1\n",
    "                    )\n",
    "xgb1.fit(X_train, y_train)\n",
    "y_pred = xgb1.predict(X_test)\n",
    "print('예측 정확도: {:.4f}'.format(accuracy_score(y_test,y_pred)))"
   ]
  },
  {
   "cell_type": "code",
   "execution_count": null,
   "metadata": {},
   "outputs": [],
   "source": [
    "# Model Evaluation (AUC)\n",
    "fpr, tpr, thresholds = metrics.roc_curve(y_test, y_pred)\n",
    "roc_auc = metrics.auc(fpr, tpr)\n",
    "print(\"2019년_연립주택 가격_Tuning AUC =\", roc_auc)\n",
    "\n",
    "# ROC\n",
    "plt.title('2019년_연립주택가격_Tuning ROC')\n",
    "plt.xlabel('False Positive Rate(Specificity)')\n",
    "plt.ylabel('True Positive Rate(Sensitivity)')\n",
    "plt.plot(fpr, tpr, 'k', label=roc_auc); "
   ]
  },
  {
   "cell_type": "markdown",
   "metadata": {},
   "source": [
    "### 8.1 아파트 가격 (1년)"
   ]
  },
  {
   "cell_type": "code",
   "execution_count": null,
   "metadata": {},
   "outputs": [],
   "source": [
    "# 아파트가격 (2017년)\n",
    "\n",
    "X = df_x.values\n",
    "y = df_y_17.아파트_가격_1년.values\n",
    "\n",
    "# Train, Test Split\n",
    "X_train, X_test, y_train, y_test = train_test_split(X, y, test_size=0.3, random_state=1, stratify=y)"
   ]
  },
  {
   "cell_type": "code",
   "execution_count": 73,
   "metadata": {},
   "outputs": [
    {
     "name": "stdout",
     "output_type": "stream",
     "text": [
      "Fitting 5 folds for each of 12096 candidates, totalling 60480 fits\n"
     ]
    },
    {
     "name": "stderr",
     "output_type": "stream",
     "text": [
      "[Parallel(n_jobs=-1)]: Using backend LokyBackend with 64 concurrent workers.\n",
      "[Parallel(n_jobs=-1)]: Done  72 tasks      | elapsed:    0.2s\n",
      "[Parallel(n_jobs=-1)]: Done 648 tasks      | elapsed:    1.0s\n",
      "[Parallel(n_jobs=-1)]: Done 3200 tasks      | elapsed:    2.7s\n",
      "[Parallel(n_jobs=-1)]: Done 6800 tasks      | elapsed:    5.4s\n",
      "[Parallel(n_jobs=-1)]: Done 11200 tasks      | elapsed:    8.8s\n",
      "[Parallel(n_jobs=-1)]: Done 16400 tasks      | elapsed:   12.4s\n",
      "[Parallel(n_jobs=-1)]: Done 22400 tasks      | elapsed:   16.2s\n",
      "[Parallel(n_jobs=-1)]: Done 29200 tasks      | elapsed:   20.3s\n",
      "[Parallel(n_jobs=-1)]: Done 36800 tasks      | elapsed:   24.3s\n",
      "[Parallel(n_jobs=-1)]: Done 45200 tasks      | elapsed:   28.3s\n",
      "[Parallel(n_jobs=-1)]: Done 54400 tasks      | elapsed:   32.1s\n"
     ]
    },
    {
     "name": "stdout",
     "output_type": "stream",
     "text": [
      "[13:46:21] WARNING: ../src/learner.cc:516: \n",
      "Parameters: { n_iter } might not be used.\n",
      "\n",
      "  This may not be accurate due to some parameters are only used in language bindings but\n",
      "  passed down to XGBoost core.  Or some parameters are not used but slip through this\n",
      "  verification. Please open an issue if you find above cases.\n",
      "\n",
      "\n",
      "최적 하이퍼 파라미터:  {'learning_rate': 0.6, 'max_depth': 5, 'n_estimators': 100, 'n_iter': 100}\n",
      "최고 예측 정확도: 0.7057\n"
     ]
    },
    {
     "name": "stderr",
     "output_type": "stream",
     "text": [
      "[Parallel(n_jobs=-1)]: Done 60480 out of 60480 | elapsed:   34.4s finished\n"
     ]
    }
   ],
   "source": [
    "#객체생성 \n",
    "xgb = XGBClassifier(random_state=18)\n",
    "\n",
    "# 하이퍼파라미터 튜닝\n",
    "params = {\n",
    "    'learning_rate': list(np.concatenate([np.arange(1,11)/100, np.arange(2,11)/10, np.arange(2,11)])), 'n_estimators': list(range(100, 400,  100)),\n",
    "    'n_iter': list(range(100, 1000, 100)),\n",
    "    'max_depth': list(range(4, 20)),\n",
    "    }\n",
    "           \n",
    "# XGBClassifier 객체 생성 후 GridSearchCV 수행\n",
    "grid_xgb = GridSearchCV(xgb, param_grid = params, n_jobs = -1, verbose=1, scoring='roc_auc')\n",
    "grid_xgb.fit(X_train, y_train)\n",
    "\n",
    "print('최적 하이퍼 파라미터: ', grid_xgb.best_params_)\n",
    "print('최고 예측 정확도: {:.4f}'.format(grid_xgb.best_score_))"
   ]
  },
  {
   "cell_type": "code",
   "execution_count": 77,
   "metadata": {},
   "outputs": [
    {
     "name": "stdout",
     "output_type": "stream",
     "text": [
      "[13:47:23] WARNING: ../src/learner.cc:516: \n",
      "Parameters: { n_iter } might not be used.\n",
      "\n",
      "  This may not be accurate due to some parameters are only used in language bindings but\n",
      "  passed down to XGBoost core.  Or some parameters are not used but slip through this\n",
      "  verification. Please open an issue if you find above cases.\n",
      "\n",
      "\n",
      "예측 정확도: 0.9010\n"
     ]
    }
   ],
   "source": [
    "xgb1= XGBClassifier(n_estimators = 100 ,\n",
    "                    max_depth = 5,\n",
    "                    n_iter = 100,\n",
    "                    learning_rate = 0.6,\n",
    "                    random_state = 18,\n",
    "                    n_jobs = -1\n",
    "                    )\n",
    "xgb1.fit(X_train, y_train)\n",
    "y_pred = xgb1.predict(X_test)\n",
    "print('예측 정확도: {:.4f}'.format(accuracy_score(y_test,y_pred)))"
   ]
  },
  {
   "cell_type": "code",
   "execution_count": 78,
   "metadata": {},
   "outputs": [
    {
     "name": "stdout",
     "output_type": "stream",
     "text": [
      "2019년_연립주택 가격_Tuning AUC = 0.7465034965034966\n"
     ]
    },
    {
     "data": {
      "image/png": "[encoded data removed]",
      "text/plain": [
       "<Figure size 432x288 with 1 Axes>"
      ]
     },
     "metadata": {
      "needs_background": "light"
     },
     "output_type": "display_data"
    }
   ],
   "source": [
    "# Model Evaluation (AUC)\n",
    "fpr, tpr, thresholds = metrics.roc_curve(y_test, y_pred)\n",
    "roc_auc = metrics.auc(fpr, tpr)\n",
    "print(\"2019년_연립주택 가격_Tuning AUC =\", roc_auc)\n",
    "\n",
    "# ROC\n",
    "plt.title('2017년_아파트가격_Tuning ROC')\n",
    "plt.xlabel('False Positive Rate(Specificity)')\n",
    "plt.ylabel('True Positive Rate(Sensitivity)')\n",
    "plt.plot(fpr, tpr, 'k', label=roc_auc); "
   ]
  },
  {
   "cell_type": "markdown",
   "metadata": {},
   "source": [
    "### 8.2 아파트 가격 (3년)"
   ]
  },
  {
   "cell_type": "code",
   "execution_count": 79,
   "metadata": {},
   "outputs": [],
   "source": [
    "# 아파트가격 (2019년)\n",
    "\n",
    "X = df_x.values\n",
    "y = df_y_19.아파트_가격_3년.values\n",
    "\n",
    "# Train, Test Split\n",
    "X_train, X_test, y_train, y_test = train_test_split(X, y, test_size=0.3, random_state=1, stratify=y)"
   ]
  },
  {
   "cell_type": "code",
   "execution_count": 80,
   "metadata": {},
   "outputs": [
    {
     "name": "stdout",
     "output_type": "stream",
     "text": [
      "Fitting 5 folds for each of 12096 candidates, totalling 60480 fits\n"
     ]
    },
    {
     "name": "stderr",
     "output_type": "stream",
     "text": [
      "[Parallel(n_jobs=-1)]: Using backend LokyBackend with 64 concurrent workers.\n",
      "[Parallel(n_jobs=-1)]: Done  72 tasks      | elapsed:    0.2s\n",
      "[Parallel(n_jobs=-1)]: Done 648 tasks      | elapsed:    0.9s\n",
      "[Parallel(n_jobs=-1)]: Done 3200 tasks      | elapsed:    2.5s\n",
      "[Parallel(n_jobs=-1)]: Done 6800 tasks      | elapsed:    4.9s\n",
      "[Parallel(n_jobs=-1)]: Done 11200 tasks      | elapsed:    8.0s\n",
      "[Parallel(n_jobs=-1)]: Done 16400 tasks      | elapsed:   11.2s\n",
      "[Parallel(n_jobs=-1)]: Done 22400 tasks      | elapsed:   14.7s\n",
      "[Parallel(n_jobs=-1)]: Done 29200 tasks      | elapsed:   18.4s\n",
      "[Parallel(n_jobs=-1)]: Done 36800 tasks      | elapsed:   22.4s\n",
      "[Parallel(n_jobs=-1)]: Done 45200 tasks      | elapsed:   26.3s\n",
      "[Parallel(n_jobs=-1)]: Done 54400 tasks      | elapsed:   30.2s\n"
     ]
    },
    {
     "name": "stdout",
     "output_type": "stream",
     "text": [
      "[13:48:06] WARNING: ../src/learner.cc:516: \n",
      "Parameters: { n_iter } might not be used.\n",
      "\n",
      "  This may not be accurate due to some parameters are only used in language bindings but\n",
      "  passed down to XGBoost core.  Or some parameters are not used but slip through this\n",
      "  verification. Please open an issue if you find above cases.\n",
      "\n",
      "\n",
      "최적 하이퍼 파라미터:  {'learning_rate': 0.01, 'max_depth': 5, 'n_estimators': 300, 'n_iter': 100}\n",
      "최고 예측 정확도: 0.7902\n"
     ]
    },
    {
     "name": "stderr",
     "output_type": "stream",
     "text": [
      "[Parallel(n_jobs=-1)]: Done 60480 out of 60480 | elapsed:   32.6s finished\n"
     ]
    }
   ],
   "source": [
    "#객체생성 \n",
    "xgb = XGBClassifier(random_state=18)\n",
    "\n",
    "# 하이퍼파라미터 튜닝\n",
    "params = {\n",
    "    'learning_rate': list(np.concatenate([np.arange(1,11)/100, np.arange(2,11)/10, np.arange(2,11)])), 'n_estimators': list(range(100, 400,  100)),\n",
    "    'n_iter': list(range(100, 1000, 100)),\n",
    "    'max_depth': list(range(4, 20)),\n",
    "    }\n",
    "           \n",
    "# XGBClassifier 객체 생성 후 GridSearchCV 수행\n",
    "grid_xgb = GridSearchCV(xgb, param_grid = params, n_jobs = -1, verbose=1, scoring='roc_auc')\n",
    "grid_xgb.fit(X_train, y_train)\n",
    "\n",
    "print('최적 하이퍼 파라미터: ', grid_xgb.best_params_)\n",
    "print('최고 예측 정확도: {:.4f}'.format(grid_xgb.best_score_))"
   ]
  },
  {
   "cell_type": "code",
   "execution_count": 81,
   "metadata": {},
   "outputs": [
    {
     "name": "stdout",
     "output_type": "stream",
     "text": [
      "[13:48:28] WARNING: ../src/learner.cc:516: \n",
      "Parameters: { n_iter } might not be used.\n",
      "\n",
      "  This may not be accurate due to some parameters are only used in language bindings but\n",
      "  passed down to XGBoost core.  Or some parameters are not used but slip through this\n",
      "  verification. Please open an issue if you find above cases.\n",
      "\n",
      "\n",
      "예측 정확도: 0.8911\n"
     ]
    }
   ],
   "source": [
    "xgb1= XGBClassifier(n_estimators = 300, \n",
    "                    max_depth = 5,\n",
    "                    n_iter = 100,\n",
    "                    learning_rate = 0.01,\n",
    "                    random_state = 18,\n",
    "                    n_jobs = -1\n",
    "                    )\n",
    "xgb1.fit(X_train, y_train)\n",
    "y_pred = xgb1.predict(X_test)\n",
    "print('예측 정확도: {:.4f}'.format(accuracy_score(y_test,y_pred)))"
   ]
  },
  {
   "cell_type": "code",
   "execution_count": 82,
   "metadata": {},
   "outputs": [
    {
     "name": "stdout",
     "output_type": "stream",
     "text": [
      "2019년_연립주택 가격_Tuning AUC = 0.6858614232209738\n"
     ]
    },
    {
     "data": {
      "image/png": "[encoded data removed]",
      "text/plain": [
       "<Figure size 432x288 with 1 Axes>"
      ]
     },
     "metadata": {
      "needs_background": "light"
     },
     "output_type": "display_data"
    }
   ],
   "source": [
    "# Model Evaluation (AUC)\n",
    "fpr, tpr, thresholds = metrics.roc_curve(y_test, y_pred)\n",
    "roc_auc = metrics.auc(fpr, tpr)\n",
    "print(\"2019년_연립주택 가격_Tuning AUC =\", roc_auc)\n",
    "\n",
    "# ROC\n",
    "plt.title('2019년_아파트가격_Tuning ROC')\n",
    "plt.xlabel('False Positive Rate(Specificity)')\n",
    "plt.ylabel('True Positive Rate(Sensitivity)')\n",
    "plt.plot(fpr, tpr, 'k', label=roc_auc); "
   ]
  },
  {
   "cell_type": "markdown",
   "metadata": {},
   "source": [
    "### 9.1 아파트 면적 (1년)"
   ]
  },
  {
   "cell_type": "code",
   "execution_count": 90,
   "metadata": {},
   "outputs": [],
   "source": [
    "# 아파트 면적  (2017년)\n",
    "X = df_x.values\n",
    "y = df_y_17.아파트_면적_1년.values\n",
    "\n",
    "# Train, Test Split\n",
    "X_train, X_test, y_train, y_test = train_test_split(X, y, test_size=0.3, random_state=1, stratify=y)"
   ]
  },
  {
   "cell_type": "code",
   "execution_count": 91,
   "metadata": {},
   "outputs": [
    {
     "name": "stdout",
     "output_type": "stream",
     "text": [
      "최적 하이퍼 파라미터:  {'criterion': 'gini', 'max_depth': 12, 'n_estimators': 300}\n"
     ]
    }
   ],
   "source": [
    "# 하이퍼파라미터 튜닝\n",
    "from sklearn.model_selection import GridSearchCV\n",
    "\n",
    "params = {'n_estimators' :[300,400,500],\n",
    "           'max_depth' : list(range(4, 20)),\n",
    "           'criterion' : ['gini', 'entropy']\n",
    "           }\n",
    "\n",
    "# RandomForestClassifier 객체 생성 후 GridSearchCV 수행\n",
    "rf_clf = RandomForestClassifier(random_state = 0, n_jobs = -1)\n",
    "grid_cv = GridSearchCV(rf_clf, param_grid = params, scoring='roc_auc', cv = 5, n_jobs = -1)\n",
    "grid_cv.fit(X_train, y_train)\n",
    "\n",
    "print('최적 하이퍼 파라미터: ', grid_cv.best_params_)"
   ]
  },
  {
   "cell_type": "code",
   "execution_count": 92,
   "metadata": {},
   "outputs": [
    {
     "name": "stdout",
     "output_type": "stream",
     "text": [
      "예측 정확도: 0.6634\n"
     ]
    }
   ],
   "source": [
    "# 다시 학습 및 예측 성능 측정\n",
    "rf_clf1 = RandomForestClassifier(n_estimators = 300, \n",
    "                                max_depth = 12,\n",
    "                                random_state = 1,\n",
    "                                criterion = 'gini')\n",
    "rf_clf1.fit(X_train, y_train)\n",
    "y_pred = rf_clf1.predict(X_test)\n",
    "print('예측 정확도: {:.4f}'.format(accuracy_score(y_test,y_pred)))"
   ]
  },
  {
   "cell_type": "code",
   "execution_count": 93,
   "metadata": {},
   "outputs": [
    {
     "name": "stdout",
     "output_type": "stream",
     "text": [
      "2017년 아파트_면적_Tuning AUC = 0.6152882205513784\n"
     ]
    },
    {
     "data": {
      "image/png": "[encoded data removed]",
      "text/plain": [
       "<Figure size 432x288 with 1 Axes>"
      ]
     },
     "metadata": {
      "needs_background": "light"
     },
     "output_type": "display_data"
    }
   ],
   "source": [
    "# Model Evaluation (AUC)\n",
    "fpr, tpr, thresholds = metrics.roc_curve(y_test, y_pred)\n",
    "roc_auc = metrics.auc(fpr, tpr)\n",
    "print(\"2017년 아파트_면적_Tuning AUC =\", roc_auc)\n",
    "\n",
    "# ROC\n",
    "plt.title('2017년 아파트_면적_Tuning ROC')\n",
    "plt.xlabel('False Positive Rate(Specificity)')\n",
    "plt.ylabel('True Positive Rate(Sensitivity)')\n",
    "plt.plot(fpr, tpr, 'k', label=roc_auc); \n"
   ]
  },
  {
   "cell_type": "markdown",
   "metadata": {},
   "source": [
    "### 9.2 아파트 면적 (3년)"
   ]
  },
  {
   "cell_type": "code",
   "execution_count": 94,
   "metadata": {},
   "outputs": [],
   "source": [
    "# 아파트 면적  (2019년)\n",
    "X = df_x.values\n",
    "y = df_y_19.아파트_면적_3년.values\n",
    "\n",
    "# Train, Test Split\n",
    "X_train, X_test, y_train, y_test = train_test_split(X, y, test_size=0.3, random_state=1, stratify=y)"
   ]
  },
  {
   "cell_type": "code",
   "execution_count": 97,
   "metadata": {},
   "outputs": [
    {
     "name": "stdout",
     "output_type": "stream",
     "text": [
      "Fitting 5 folds for each of 12096 candidates, totalling 60480 fits\n"
     ]
    },
    {
     "name": "stderr",
     "output_type": "stream",
     "text": [
      "[Parallel(n_jobs=-1)]: Using backend LokyBackend with 64 concurrent workers.\n",
      "[Parallel(n_jobs=-1)]: Done  72 tasks      | elapsed:    0.3s\n",
      "[Parallel(n_jobs=-1)]: Done 648 tasks      | elapsed:    1.0s\n",
      "[Parallel(n_jobs=-1)]: Done 2048 tasks      | elapsed:    2.3s\n",
      "[Parallel(n_jobs=-1)]: Done 3848 tasks      | elapsed:    3.9s\n",
      "[Parallel(n_jobs=-1)]: Done 6048 tasks      | elapsed:    6.0s\n",
      "[Parallel(n_jobs=-1)]: Done 8648 tasks      | elapsed:    8.3s\n",
      "[Parallel(n_jobs=-1)]: Done 11648 tasks      | elapsed:   10.9s\n",
      "[Parallel(n_jobs=-1)]: Done 15048 tasks      | elapsed:   14.0s\n",
      "[Parallel(n_jobs=-1)]: Done 18848 tasks      | elapsed:   17.2s\n",
      "[Parallel(n_jobs=-1)]: Done 23048 tasks      | elapsed:   20.5s\n",
      "[Parallel(n_jobs=-1)]: Done 27648 tasks      | elapsed:   23.8s\n",
      "[Parallel(n_jobs=-1)]: Done 32648 tasks      | elapsed:   27.2s\n",
      "[Parallel(n_jobs=-1)]: Done 38048 tasks      | elapsed:   30.5s\n",
      "[Parallel(n_jobs=-1)]: Done 43848 tasks      | elapsed:   33.8s\n",
      "[Parallel(n_jobs=-1)]: Done 55680 tasks      | elapsed:   38.9s\n"
     ]
    },
    {
     "name": "stdout",
     "output_type": "stream",
     "text": [
      "[13:53:37] WARNING: ../src/learner.cc:516: \n",
      "Parameters: { n_iter } might not be used.\n",
      "\n",
      "  This may not be accurate due to some parameters are only used in language bindings but\n",
      "  passed down to XGBoost core.  Or some parameters are not used but slip through this\n",
      "  verification. Please open an issue if you find above cases.\n",
      "\n",
      "\n",
      "최적 하이퍼 파라미터:  {'learning_rate': 6.0, 'max_depth': 4, 'n_estimators': 300, 'n_iter': 100}\n",
      "최고 예측 정확도: 0.6411\n"
     ]
    },
    {
     "name": "stderr",
     "output_type": "stream",
     "text": [
      "[Parallel(n_jobs=-1)]: Done 60480 out of 60480 | elapsed:   40.6s finished\n"
     ]
    }
   ],
   "source": [
    "#객체생성 \n",
    "xgb = XGBClassifier(random_state=18)\n",
    "\n",
    "# 하이퍼파라미터 튜닝\n",
    "params = {\n",
    "    'learning_rate': list(np.concatenate([np.arange(1,11)/100, np.arange(2,11)/10, np.arange(2,11)])), 'n_estimators': list(range(100, 400,  100)),\n",
    "    'n_iter': list(range(100, 1000, 100)),\n",
    "    'max_depth': list(range(4, 20)),\n",
    "    }\n",
    "           \n",
    "# XGBClassifier 객체 생성 후 GridSearchCV 수행\n",
    "grid_xgb = GridSearchCV(xgb, param_grid = params, n_jobs = -1, verbose=1, scoring='roc_auc')\n",
    "grid_xgb.fit(X_train, y_train)\n",
    "\n",
    "print('최적 하이퍼 파라미터: ', grid_xgb.best_params_)\n",
    "print('최고 예측 정확도: {:.4f}'.format(grid_xgb.best_score_))"
   ]
  },
  {
   "cell_type": "code",
   "execution_count": 98,
   "metadata": {},
   "outputs": [
    {
     "name": "stdout",
     "output_type": "stream",
     "text": [
      "[13:53:58] WARNING: ../src/learner.cc:516: \n",
      "Parameters: { n_iter } might not be used.\n",
      "\n",
      "  This may not be accurate due to some parameters are only used in language bindings but\n",
      "  passed down to XGBoost core.  Or some parameters are not used but slip through this\n",
      "  verification. Please open an issue if you find above cases.\n",
      "\n",
      "\n",
      "예측 정확도: 0.6535\n"
     ]
    }
   ],
   "source": [
    "xgb1= XGBClassifier(n_estimators = 300, \n",
    "                    max_depth = 4,\n",
    "                    n_iter = 100,\n",
    "                    learning_rate = 6.0,\n",
    "                    random_state = 18,\n",
    "                    n_jobs = -1\n",
    "                    )\n",
    "xgb1.fit(X_train, y_train)\n",
    "y_pred = xgb1.predict(X_test)\n",
    "print('예측 정확도: {:.4f}'.format(accuracy_score(y_test,y_pred)))"
   ]
  },
  {
   "cell_type": "code",
   "execution_count": 99,
   "metadata": {},
   "outputs": [
    {
     "name": "stdout",
     "output_type": "stream",
     "text": [
      "2019년 아파트_면적_Tuning AUC = 0.5580246913580247\n"
     ]
    },
    {
     "data": {
      "image/png": "[encoded data removed]",
      "text/plain": [
       "<Figure size 432x288 with 1 Axes>"
      ]
     },
     "metadata": {
      "needs_background": "light"
     },
     "output_type": "display_data"
    }
   ],
   "source": [
    "# Model Evaluation (AUC)\n",
    "fpr, tpr, thresholds = metrics.roc_curve(y_test, y_pred)\n",
    "roc_auc = metrics.auc(fpr, tpr)\n",
    "print(\"2019년 아파트_면적_Tuning AUC =\", roc_auc)\n",
    "\n",
    "# ROC\n",
    "plt.title('2019년 아파트_면적_Tuning ROC')\n",
    "plt.xlabel('False Positive Rate(Specificity)')\n",
    "plt.ylabel('True Positive Rate(Sensitivity)')\n",
    "plt.plot(fpr, tpr, 'k', label=roc_auc); \n"
   ]
  },
  {
   "cell_type": "markdown",
   "metadata": {},
   "source": [
    "### 10.1 총직장인구 (1년)"
   ]
  },
  {
   "cell_type": "code",
   "execution_count": 100,
   "metadata": {},
   "outputs": [],
   "source": [
    "# 총 직장인구 수  (2017년)\n",
    "X = df_x.values\n",
    "y = df_y_17.총_직장_인구_수_1년.values\n",
    "\n",
    "# Train, Test Split\n",
    "X_train, X_test, y_train, y_test = train_test_split(X, y, test_size=0.3, random_state=1, stratify=y)"
   ]
  },
  {
   "cell_type": "code",
   "execution_count": 101,
   "metadata": {},
   "outputs": [
    {
     "name": "stdout",
     "output_type": "stream",
     "text": [
      "최적 하이퍼 파라미터:  {'criterion': 'entropy', 'max_depth': 5, 'n_estimators': 300}\n"
     ]
    }
   ],
   "source": [
    "# 하이퍼파라미터 튜닝\n",
    "from sklearn.model_selection import GridSearchCV\n",
    "\n",
    "params = {'n_estimators' :[300,400,500],\n",
    "           'max_depth' : list(range(4, 20)),\n",
    "           'criterion' : ['gini', 'entropy']\n",
    "           }\n",
    "\n",
    "# RandomForestClassifier 객체 생성 후 GridSearchCV 수행\n",
    "rf_clf = RandomForestClassifier(random_state = 0, n_jobs = -1)\n",
    "grid_cv = GridSearchCV(rf_clf, param_grid = params, scoring='roc_auc', cv = 5, n_jobs = -1)\n",
    "grid_cv.fit(X_train, y_train)\n",
    "\n",
    "print('최적 하이퍼 파라미터: ', grid_cv.best_params_)"
   ]
  },
  {
   "cell_type": "code",
   "execution_count": 102,
   "metadata": {},
   "outputs": [
    {
     "name": "stdout",
     "output_type": "stream",
     "text": [
      "예측 정확도: 0.6238\n"
     ]
    }
   ],
   "source": [
    "# 다시 학습 및 예측 성능 측정\n",
    "rf_clf1 = RandomForestClassifier(n_estimators = 300, \n",
    "                                max_depth = 5,\n",
    "                                random_state = 1,\n",
    "                                criterion = 'entropy')\n",
    "rf_clf1.fit(X_train, y_train)\n",
    "y_pred = rf_clf1.predict(X_test)\n",
    "print('예측 정확도: {:.4f}'.format(accuracy_score(y_test,y_pred)))"
   ]
  },
  {
   "cell_type": "code",
   "execution_count": 103,
   "metadata": {},
   "outputs": [
    {
     "name": "stdout",
     "output_type": "stream",
     "text": [
      "2017년 총직장 인구 수_Tuning AUC = 0.6240188383045526\n"
     ]
    },
    {
     "data": {
      "image/png": "[encoded data removed]",
      "text/plain": [
       "<Figure size 432x288 with 1 Axes>"
      ]
     },
     "metadata": {
      "needs_background": "light"
     },
     "output_type": "display_data"
    }
   ],
   "source": [
    "# Model Evaluation (AUC)\n",
    "fpr, tpr, thresholds = metrics.roc_curve(y_test, y_pred)\n",
    "roc_auc = metrics.auc(fpr, tpr)\n",
    "print(\"2017년 총직장 인구 수_Tuning AUC =\", roc_auc)\n",
    "\n",
    "# ROC\n",
    "plt.title('2017년 총직장인구 수 _Tuning ROC')\n",
    "plt.xlabel('False Positive Rate(Specificity)')\n",
    "plt.ylabel('True Positive Rate(Sensitivity)')\n",
    "plt.plot(fpr, tpr, 'k', label=roc_auc); \n"
   ]
  },
  {
   "cell_type": "markdown",
   "metadata": {},
   "source": [
    "### 10.2  총직장인구 (3년)"
   ]
  },
  {
   "cell_type": "code",
   "execution_count": 104,
   "metadata": {},
   "outputs": [],
   "source": [
    "# 총직장 인구 수  (2019년)\n",
    "X = df_x.values\n",
    "y = df_y_19.총_직장_인구_수_3년.values\n",
    "\n",
    "# Train, Test Split\n",
    "X_train, X_test, y_train, y_test = train_test_split(X, y, test_size=0.3, random_state=1, stratify=y)"
   ]
  },
  {
   "cell_type": "code",
   "execution_count": 109,
   "metadata": {},
   "outputs": [
    {
     "name": "stdout",
     "output_type": "stream",
     "text": [
      "Fitting 5 folds for each of 12096 candidates, totalling 60480 fits\n"
     ]
    },
    {
     "name": "stderr",
     "output_type": "stream",
     "text": [
      "[Parallel(n_jobs=-1)]: Using backend LokyBackend with 64 concurrent workers.\n",
      "[Parallel(n_jobs=-1)]: Done  72 tasks      | elapsed:    0.2s\n",
      "[Parallel(n_jobs=-1)]: Done 648 tasks      | elapsed:    1.0s\n",
      "[Parallel(n_jobs=-1)]: Done 3200 tasks      | elapsed:    3.5s\n",
      "[Parallel(n_jobs=-1)]: Done 6800 tasks      | elapsed:    7.0s\n",
      "[Parallel(n_jobs=-1)]: Done 11200 tasks      | elapsed:   11.5s\n",
      "[Parallel(n_jobs=-1)]: Done 16400 tasks      | elapsed:   16.4s\n",
      "[Parallel(n_jobs=-1)]: Done 22400 tasks      | elapsed:   21.5s\n",
      "[Parallel(n_jobs=-1)]: Done 29200 tasks      | elapsed:   26.7s\n",
      "[Parallel(n_jobs=-1)]: Done 36800 tasks      | elapsed:   32.0s\n",
      "[Parallel(n_jobs=-1)]: Done 45200 tasks      | elapsed:   36.7s\n",
      "[Parallel(n_jobs=-1)]: Done 54400 tasks      | elapsed:   40.7s\n"
     ]
    },
    {
     "name": "stdout",
     "output_type": "stream",
     "text": [
      "[13:59:50] WARNING: ../src/learner.cc:516: \n",
      "Parameters: { n_iter } might not be used.\n",
      "\n",
      "  This may not be accurate due to some parameters are only used in language bindings but\n",
      "  passed down to XGBoost core.  Or some parameters are not used but slip through this\n",
      "  verification. Please open an issue if you find above cases.\n",
      "\n",
      "\n",
      "최적 하이퍼 파라미터:  {'learning_rate': 7.0, 'max_depth': 9, 'n_estimators': 100, 'n_iter': 100}\n",
      "최고 예측 정확도: 0.5621\n"
     ]
    },
    {
     "name": "stderr",
     "output_type": "stream",
     "text": [
      "[Parallel(n_jobs=-1)]: Done 60480 out of 60480 | elapsed:   43.0s finished\n"
     ]
    }
   ],
   "source": [
    "#객체생성 \n",
    "xgb = XGBClassifier(random_state=18)\n",
    "\n",
    "# 하이퍼파라미터 튜닝\n",
    "params = {\n",
    "    'learning_rate': list(np.concatenate([np.arange(1,11)/100, np.arange(2,11)/10, np.arange(2,11)])), 'n_estimators': list(range(100, 400,  100)),\n",
    "    'n_iter': list(range(100, 1000, 100)),\n",
    "    'max_depth': list(range(4, 20)),\n",
    "    }\n",
    "           \n",
    "# XGBClassifier 객체 생성 후 GridSearchCV 수행\n",
    "grid_xgb = GridSearchCV(xgb, param_grid = params, n_jobs = -1, verbose=1, scoring='roc_auc')\n",
    "grid_xgb.fit(X_train, y_train)\n",
    "\n",
    "print('최적 하이퍼 파라미터: ', grid_xgb.best_params_)\n",
    "print('최고 예측 정확도: {:.4f}'.format(grid_xgb.best_score_))"
   ]
  },
  {
   "cell_type": "code",
   "execution_count": 110,
   "metadata": {},
   "outputs": [
    {
     "name": "stdout",
     "output_type": "stream",
     "text": [
      "[14:00:00] WARNING: ../src/learner.cc:516: \n",
      "Parameters: { n_iter } might not be used.\n",
      "\n",
      "  This may not be accurate due to some parameters are only used in language bindings but\n",
      "  passed down to XGBoost core.  Or some parameters are not used but slip through this\n",
      "  verification. Please open an issue if you find above cases.\n",
      "\n",
      "\n",
      "예측 정확도: 0.4455\n"
     ]
    }
   ],
   "source": [
    "xgb1= XGBClassifier(n_estimators = 100, \n",
    "                    max_depth = 9,\n",
    "                    n_iter = 100,\n",
    "                    learning_rate = 7.0,\n",
    "                    random_state = 18,\n",
    "                    n_jobs = -1\n",
    "                    )\n",
    "xgb1.fit(X_train, y_train)\n",
    "y_pred = xgb1.predict(X_test)\n",
    "print('예측 정확도: {:.4f}'.format(accuracy_score(y_test,y_pred)))"
   ]
  },
  {
   "cell_type": "code",
   "execution_count": 111,
   "metadata": {},
   "outputs": [
    {
     "name": "stdout",
     "output_type": "stream",
     "text": [
      "2019년 총직장 인구 수_Tuning AUC = 0.4029671210906175\n"
     ]
    },
    {
     "data": {
      "image/png": "[encoded data removed]",
      "text/plain": [
       "<Figure size 432x288 with 1 Axes>"
      ]
     },
     "metadata": {
      "needs_background": "light"
     },
     "output_type": "display_data"
    }
   ],
   "source": [
    "# Model Evaluation (AUC)\n",
    "fpr, tpr, thresholds = metrics.roc_curve(y_test, y_pred)\n",
    "roc_auc = metrics.auc(fpr, tpr)\n",
    "print(\"2019년 총직장 인구 수_Tuning AUC =\", roc_auc)\n",
    "\n",
    "# ROC\n",
    "plt.title('2019년 총직장인구 수 _Tuning ROC')\n",
    "plt.xlabel('False Positive Rate(Specificity)')\n",
    "plt.ylabel('True Positive Rate(Sensitivity)')\n",
    "plt.plot(fpr, tpr, 'k', label=roc_auc); \n"
   ]
  },
  {
   "cell_type": "markdown",
   "metadata": {},
   "source": [
    "### 11.1 여성 직장인 수 (1년 )"
   ]
  },
  {
   "cell_type": "code",
   "execution_count": 112,
   "metadata": {},
   "outputs": [],
   "source": [
    "# 여성 직장인구 수  (2017년)\n",
    "X = df_x.values\n",
    "y = df_y_17.여성_직장_인구_수_1년.values\n",
    "\n",
    "# Train, Test Split\n",
    "X_train, X_test, y_train, y_test = train_test_split(X, y, test_size=0.3, random_state=1, stratify=y)"
   ]
  },
  {
   "cell_type": "code",
   "execution_count": 113,
   "metadata": {},
   "outputs": [
    {
     "name": "stdout",
     "output_type": "stream",
     "text": [
      "최적 하이퍼 파라미터:  {'criterion': 'gini', 'max_depth': 17, 'n_estimators': 300}\n"
     ]
    }
   ],
   "source": [
    "# 하이퍼파라미터 튜닝\n",
    "from sklearn.model_selection import GridSearchCV\n",
    "\n",
    "params = {'n_estimators' :[300,400,500],\n",
    "           'max_depth' : list(range(4, 20)),\n",
    "           'criterion' : ['gini', 'entropy']\n",
    "           }\n",
    "\n",
    "# RandomForestClassifier 객체 생성 후 GridSearchCV 수행\n",
    "rf_clf = RandomForestClassifier(random_state = 0, n_jobs = -1)\n",
    "grid_cv = GridSearchCV(rf_clf, param_grid = params, scoring='roc_auc', cv = 5, n_jobs = -1)\n",
    "grid_cv.fit(X_train, y_train)\n",
    "\n",
    "print('최적 하이퍼 파라미터: ', grid_cv.best_params_)"
   ]
  },
  {
   "cell_type": "code",
   "execution_count": 114,
   "metadata": {},
   "outputs": [
    {
     "name": "stdout",
     "output_type": "stream",
     "text": [
      "예측 정확도: 0.5743\n"
     ]
    }
   ],
   "source": [
    "# 다시 학습 및 예측 성능 측정\n",
    "rf_clf1 = RandomForestClassifier(n_estimators = 300, \n",
    "                                max_depth = 17,\n",
    "                                random_state = 1,\n",
    "                                criterion = 'gini')\n",
    "rf_clf1.fit(X_train, y_train)\n",
    "y_pred = rf_clf1.predict(X_test)\n",
    "print('예측 정확도: {:.4f}'.format(accuracy_score(y_test,y_pred)))"
   ]
  },
  {
   "cell_type": "code",
   "execution_count": 115,
   "metadata": {},
   "outputs": [
    {
     "name": "stdout",
     "output_type": "stream",
     "text": [
      "2017년 여성 직장인구 수_Tuning AUC = 0.5673758865248226\n"
     ]
    },
    {
     "data": {
      "image/png": "[encoded data removed]",
      "text/plain": [
       "<Figure size 432x288 with 1 Axes>"
      ]
     },
     "metadata": {
      "needs_background": "light"
     },
     "output_type": "display_data"
    }
   ],
   "source": [
    "# Model Evaluation (AUC)\n",
    "fpr, tpr, thresholds = metrics.roc_curve(y_test, y_pred)\n",
    "roc_auc = metrics.auc(fpr, tpr)\n",
    "print(\"2017년 여성 직장인구 수_Tuning AUC =\", roc_auc)\n",
    "\n",
    "# ROC\n",
    "plt.title('2017년 여성_직장인구 수 _Tuning ROC')\n",
    "plt.xlabel('False Positive Rate(Specificity)')\n",
    "plt.ylabel('True Positive Rate(Sensitivity)')\n",
    "plt.plot(fpr, tpr, 'k', label=roc_auc); \n"
   ]
  },
  {
   "cell_type": "markdown",
   "metadata": {},
   "source": [
    "### 11.2 여성직장인 수 (3년)"
   ]
  },
  {
   "cell_type": "code",
   "execution_count": 116,
   "metadata": {},
   "outputs": [],
   "source": [
    "# 여성직장인구 수 (2019년)\n",
    "X = df_x.values\n",
    "y = df_y_19.여성_직장_인구_수_3년.values\n",
    "\n",
    "# Train, Test Split\n",
    "X_train, X_test, y_train, y_test = train_test_split(X, y, test_size=0.3, random_state=1, stratify=y)"
   ]
  },
  {
   "cell_type": "code",
   "execution_count": 117,
   "metadata": {},
   "outputs": [
    {
     "name": "stdout",
     "output_type": "stream",
     "text": [
      "최적 하이퍼 파라미터:  {'criterion': 'entropy', 'max_depth': 14, 'n_estimators': 400}\n"
     ]
    }
   ],
   "source": [
    "# 하이퍼파라미터 튜닝\n",
    "from sklearn.model_selection import GridSearchCV\n",
    "\n",
    "params = {'n_estimators' :[300,400,500],\n",
    "           'max_depth' : list(range(4, 20)),\n",
    "           'criterion' : ['gini', 'entropy']\n",
    "           }\n",
    "\n",
    "# RandomForestClassifier 객체 생성 후 GridSearchCV 수행\n",
    "rf_clf = RandomForestClassifier(random_state = 0, n_jobs = -1)\n",
    "grid_cv = GridSearchCV(rf_clf, param_grid = params, scoring='roc_auc', cv = 5, n_jobs = -1)\n",
    "grid_cv.fit(X_train, y_train)\n",
    "\n",
    "print('최적 하이퍼 파라미터: ', grid_cv.best_params_)"
   ]
  },
  {
   "cell_type": "code",
   "execution_count": 118,
   "metadata": {},
   "outputs": [
    {
     "name": "stdout",
     "output_type": "stream",
     "text": [
      "예측 정확도: 0.5842\n"
     ]
    }
   ],
   "source": [
    "# 다시 학습 및 예측 성능 측정\n",
    "rf_clf1 = RandomForestClassifier(n_estimators = 400, \n",
    "                                max_depth = 14,\n",
    "                                random_state = 1,\n",
    "                                criterion = 'entropy')\n",
    "rf_clf1.fit(X_train, y_train)\n",
    "y_pred = rf_clf1.predict(X_test)\n",
    "print('예측 정확도: {:.4f}'.format(accuracy_score(y_test,y_pred)))"
   ]
  },
  {
   "cell_type": "code",
   "execution_count": 119,
   "metadata": {},
   "outputs": [
    {
     "name": "stdout",
     "output_type": "stream",
     "text": [
      "2019년 여성 직장인구 수_Tuning AUC = 0.5726190476190476\n"
     ]
    },
    {
     "data": {
      "image/png": "[encoded data removed]",
      "text/plain": [
       "<Figure size 432x288 with 1 Axes>"
      ]
     },
     "metadata": {
      "needs_background": "light"
     },
     "output_type": "display_data"
    }
   ],
   "source": [
    "# Model Evaluation (AUC)\n",
    "fpr, tpr, thresholds = metrics.roc_curve(y_test, y_pred)\n",
    "roc_auc = metrics.auc(fpr, tpr)\n",
    "print(\"2019년 여성 직장인구 수_Tuning AUC =\", roc_auc)\n",
    "\n",
    "# ROC\n",
    "plt.title('2019년 여성 직장인구 수 _Tuning ROC')\n",
    "plt.xlabel('False Positive Rate(Specificity)')\n",
    "plt.ylabel('True Positive Rate(Sensitivity)')\n",
    "plt.plot(fpr, tpr, 'k', label=roc_auc); \n"
   ]
  },
  {
   "cell_type": "markdown",
   "metadata": {},
   "source": [
    "### 12.1 남성 직장 인구수 "
   ]
  },
  {
   "cell_type": "code",
   "execution_count": 120,
   "metadata": {},
   "outputs": [],
   "source": [
    "# 남성직장인구 수 (2017년)\n",
    "\n",
    "X = df_x.values\n",
    "y = df_y_17.남성_직장_인구_수_1년.values\n",
    "\n",
    "# Train, Test Split\n",
    "X_train, X_test, y_train, y_test = train_test_split(X, y, test_size=0.3, random_state=1, stratify=y)"
   ]
  },
  {
   "cell_type": "code",
   "execution_count": 121,
   "metadata": {},
   "outputs": [
    {
     "name": "stdout",
     "output_type": "stream",
     "text": [
      "Fitting 5 folds for each of 12096 candidates, totalling 60480 fits\n"
     ]
    },
    {
     "name": "stderr",
     "output_type": "stream",
     "text": [
      "[Parallel(n_jobs=-1)]: Using backend LokyBackend with 64 concurrent workers.\n",
      "[Parallel(n_jobs=-1)]: Done  72 tasks      | elapsed:    0.2s\n",
      "[Parallel(n_jobs=-1)]: Done 648 tasks      | elapsed:    1.0s\n",
      "[Parallel(n_jobs=-1)]: Done 2048 tasks      | elapsed:    2.6s\n",
      "[Parallel(n_jobs=-1)]: Done 3848 tasks      | elapsed:    4.5s\n",
      "[Parallel(n_jobs=-1)]: Done 6048 tasks      | elapsed:    6.9s\n",
      "[Parallel(n_jobs=-1)]: Done 8648 tasks      | elapsed:    9.5s\n",
      "[Parallel(n_jobs=-1)]: Done 11648 tasks      | elapsed:   12.4s\n",
      "[Parallel(n_jobs=-1)]: Done 15048 tasks      | elapsed:   15.8s\n",
      "[Parallel(n_jobs=-1)]: Done 18848 tasks      | elapsed:   19.4s\n",
      "[Parallel(n_jobs=-1)]: Done 23048 tasks      | elapsed:   23.0s\n",
      "[Parallel(n_jobs=-1)]: Done 27648 tasks      | elapsed:   26.6s\n",
      "[Parallel(n_jobs=-1)]: Done 32648 tasks      | elapsed:   30.3s\n",
      "[Parallel(n_jobs=-1)]: Done 38048 tasks      | elapsed:   33.9s\n",
      "[Parallel(n_jobs=-1)]: Done 43848 tasks      | elapsed:   37.4s\n",
      "[Parallel(n_jobs=-1)]: Done 55424 tasks      | elapsed:   42.4s\n"
     ]
    },
    {
     "name": "stdout",
     "output_type": "stream",
     "text": [
      "[14:02:12] WARNING: ../src/learner.cc:516: \n",
      "Parameters: { n_iter } might not be used.\n",
      "\n",
      "  This may not be accurate due to some parameters are only used in language bindings but\n",
      "  passed down to XGBoost core.  Or some parameters are not used but slip through this\n",
      "  verification. Please open an issue if you find above cases.\n",
      "\n",
      "\n",
      "최적 하이퍼 파라미터:  {'learning_rate': 0.01, 'max_depth': 6, 'n_estimators': 100, 'n_iter': 100}\n",
      "최고 예측 정확도: 0.6579\n"
     ]
    },
    {
     "name": "stderr",
     "output_type": "stream",
     "text": [
      "[Parallel(n_jobs=-1)]: Done 60480 out of 60480 | elapsed:   44.3s finished\n"
     ]
    }
   ],
   "source": [
    "#객체생성 \n",
    "xgb = XGBClassifier(random_state=18)\n",
    "\n",
    "# 하이퍼파라미터 튜닝\n",
    "params = {\n",
    "    'learning_rate': list(np.concatenate([np.arange(1,11)/100, np.arange(2,11)/10, np.arange(2,11)])), 'n_estimators': list(range(100, 400,  100)),\n",
    "    'n_iter': list(range(100, 1000, 100)),\n",
    "    'max_depth': list(range(4, 20)),\n",
    "    }\n",
    "           \n",
    "# XGBClassifier 객체 생성 후 GridSearchCV 수행\n",
    "grid_xgb = GridSearchCV(xgb, param_grid = params, n_jobs = -1, verbose=1, scoring='roc_auc')\n",
    "grid_xgb.fit(X_train, y_train)\n",
    "\n",
    "print('최적 하이퍼 파라미터: ', grid_xgb.best_params_)\n",
    "print('최고 예측 정확도: {:.4f}'.format(grid_xgb.best_score_))"
   ]
  },
  {
   "cell_type": "code",
   "execution_count": 122,
   "metadata": {},
   "outputs": [
    {
     "name": "stdout",
     "output_type": "stream",
     "text": [
      "[14:02:27] WARNING: ../src/learner.cc:516: \n",
      "Parameters: { n_iter } might not be used.\n",
      "\n",
      "  This may not be accurate due to some parameters are only used in language bindings but\n",
      "  passed down to XGBoost core.  Or some parameters are not used but slip through this\n",
      "  verification. Please open an issue if you find above cases.\n",
      "\n",
      "\n",
      "예측 정확도: 0.5743\n"
     ]
    }
   ],
   "source": [
    "xgb1= XGBClassifier(n_estimators = 100, \n",
    "                    max_depth = 6,\n",
    "                    n_iter = 100,\n",
    "                    learning_rate = 0.01,\n",
    "                    random_state = 18,\n",
    "                    n_jobs = -1\n",
    "                    )\n",
    "xgb1.fit(X_train, y_train)\n",
    "y_pred = xgb1.predict(X_test)\n",
    "print('예측 정확도: {:.4f}'.format(accuracy_score(y_test,y_pred)))"
   ]
  },
  {
   "cell_type": "code",
   "execution_count": 123,
   "metadata": {},
   "outputs": [
    {
     "name": "stdout",
     "output_type": "stream",
     "text": [
      "2017년_남성직장인구 수 _Tuning AUC = 0.5361178369652946\n"
     ]
    },
    {
     "data": {
      "image/png": "[encoded data removed]",
      "text/plain": [
       "<Figure size 432x288 with 1 Axes>"
      ]
     },
     "metadata": {
      "needs_background": "light"
     },
     "output_type": "display_data"
    }
   ],
   "source": [
    "# Model Evaluation (AUC)\n",
    "fpr, tpr, thresholds = metrics.roc_curve(y_test, y_pred)\n",
    "roc_auc = metrics.auc(fpr, tpr)\n",
    "print(\"2017년_남성직장인구 수 _Tuning AUC =\", roc_auc)\n",
    "\n",
    "# ROC\n",
    "plt.title('2017년_남성직장인구 수 _Tuning ROC')\n",
    "plt.xlabel('False Positive Rate(Specificity)')\n",
    "plt.ylabel('True Positive Rate(Sensitivity)')\n",
    "plt.plot(fpr, tpr, 'k', label=roc_auc); "
   ]
  },
  {
   "cell_type": "markdown",
   "metadata": {},
   "source": [
    "### 12.2 남성직장인구 (3년)"
   ]
  },
  {
   "cell_type": "code",
   "execution_count": 124,
   "metadata": {},
   "outputs": [],
   "source": [
    "# 남성직장인구 수  (2019년)\n",
    "\n",
    "X = df_x.values\n",
    "y = df_y_19.남성_직장_인구_수_3년.values\n",
    "\n",
    "# Train, Test Split\n",
    "X_train, X_test, y_train, y_test = train_test_split(X, y, test_size=0.3, random_state=1, stratify=y)"
   ]
  },
  {
   "cell_type": "code",
   "execution_count": 125,
   "metadata": {},
   "outputs": [
    {
     "name": "stdout",
     "output_type": "stream",
     "text": [
      "Fitting 5 folds for each of 12096 candidates, totalling 60480 fits\n"
     ]
    },
    {
     "name": "stderr",
     "output_type": "stream",
     "text": [
      "[Parallel(n_jobs=-1)]: Using backend LokyBackend with 64 concurrent workers.\n",
      "[Parallel(n_jobs=-1)]: Done  72 tasks      | elapsed:    0.2s\n",
      "[Parallel(n_jobs=-1)]: Done 648 tasks      | elapsed:    0.9s\n",
      "[Parallel(n_jobs=-1)]: Done 2048 tasks      | elapsed:    2.3s\n",
      "[Parallel(n_jobs=-1)]: Done 3848 tasks      | elapsed:    4.2s\n",
      "[Parallel(n_jobs=-1)]: Done 6048 tasks      | elapsed:    6.5s\n",
      "[Parallel(n_jobs=-1)]: Done 8648 tasks      | elapsed:    9.1s\n",
      "[Parallel(n_jobs=-1)]: Done 11648 tasks      | elapsed:   12.0s\n",
      "[Parallel(n_jobs=-1)]: Done 15048 tasks      | elapsed:   15.4s\n",
      "[Parallel(n_jobs=-1)]: Done 18848 tasks      | elapsed:   18.9s\n",
      "[Parallel(n_jobs=-1)]: Done 23048 tasks      | elapsed:   22.6s\n",
      "[Parallel(n_jobs=-1)]: Done 27648 tasks      | elapsed:   26.2s\n",
      "[Parallel(n_jobs=-1)]: Done 32648 tasks      | elapsed:   29.8s\n",
      "[Parallel(n_jobs=-1)]: Done 38048 tasks      | elapsed:   33.5s\n",
      "[Parallel(n_jobs=-1)]: Done 43848 tasks      | elapsed:   37.0s\n",
      "[Parallel(n_jobs=-1)]: Done 60085 tasks      | elapsed:   43.6s\n",
      "[Parallel(n_jobs=-1)]: Done 60353 out of 60480 | elapsed:   43.7s remaining:    0.1s\n",
      "[Parallel(n_jobs=-1)]: Done 60480 out of 60480 | elapsed:   43.7s finished\n"
     ]
    },
    {
     "name": "stdout",
     "output_type": "stream",
     "text": [
      "[14:03:24] WARNING: ../src/learner.cc:516: \n",
      "Parameters: { n_iter } might not be used.\n",
      "\n",
      "  This may not be accurate due to some parameters are only used in language bindings but\n",
      "  passed down to XGBoost core.  Or some parameters are not used but slip through this\n",
      "  verification. Please open an issue if you find above cases.\n",
      "\n",
      "\n",
      "최적 하이퍼 파라미터:  {'learning_rate': 5.0, 'max_depth': 10, 'n_estimators': 200, 'n_iter': 100}\n",
      "최고 예측 정확도: 0.5885\n"
     ]
    }
   ],
   "source": [
    "#객체생성 \n",
    "xgb = XGBClassifier(random_state=18)\n",
    "\n",
    "# 하이퍼파라미터 튜닝\n",
    "params = {\n",
    "    'learning_rate': list(np.concatenate([np.arange(1,11)/100, np.arange(2,11)/10, np.arange(2,11)])), 'n_estimators': list(range(100, 400,  100)),\n",
    "    'n_iter': list(range(100, 1000, 100)),\n",
    "    'max_depth': list(range(4, 20)),\n",
    "    }\n",
    "           \n",
    "# XGBClassifier 객체 생성 후 GridSearchCV 수행\n",
    "grid_xgb = GridSearchCV(xgb, param_grid = params, n_jobs = -1, verbose=1, scoring='roc_auc')\n",
    "grid_xgb.fit(X_train, y_train)\n",
    "\n",
    "print('최적 하이퍼 파라미터: ', grid_xgb.best_params_)\n",
    "print('최고 예측 정확도: {:.4f}'.format(grid_xgb.best_score_))"
   ]
  },
  {
   "cell_type": "code",
   "execution_count": 130,
   "metadata": {},
   "outputs": [
    {
     "name": "stdout",
     "output_type": "stream",
     "text": [
      "[14:03:48] WARNING: ../src/learner.cc:516: \n",
      "Parameters: { n_iter, scoring } might not be used.\n",
      "\n",
      "  This may not be accurate due to some parameters are only used in language bindings but\n",
      "  passed down to XGBoost core.  Or some parameters are not used but slip through this\n",
      "  verification. Please open an issue if you find above cases.\n",
      "\n",
      "\n",
      "예측 정확도: 0.6238\n"
     ]
    }
   ],
   "source": [
    "xgb1= XGBClassifier(n_estimators = 200, \n",
    "                    max_depth = 10,\n",
    "                    n_iter = 100,\n",
    "                    learning_rate = 5.0,\n",
    "                    random_state = 18,\n",
    "                    n_jobs = -1,\n",
    "                    scoring='roc_auc')\n",
    "xgb1.fit(X_train, y_train)\n",
    "y_pred = xgb1.predict(X_test)\n",
    "print('예측 정확도: {:.4f}'.format(accuracy_score(y_test,y_pred)))"
   ]
  },
  {
   "cell_type": "code",
   "execution_count": 131,
   "metadata": {},
   "outputs": [
    {
     "name": "stdout",
     "output_type": "stream",
     "text": [
      "2019년_남성직장인구 수_Tuning AUC = 0.4975538160469667\n"
     ]
    },
    {
     "data": {
      "image/png": "[encoded data removed]",
      "text/plain": [
       "<Figure size 432x288 with 1 Axes>"
      ]
     },
     "metadata": {
      "needs_background": "light"
     },
     "output_type": "display_data"
    }
   ],
   "source": [
    "# Model Evaluation (AUC)\n",
    "fpr, tpr, thresholds = metrics.roc_curve(y_test, y_pred)\n",
    "roc_auc = metrics.auc(fpr, tpr)\n",
    "print(\"2019년_남성직장인구 수_Tuning AUC =\", roc_auc)\n",
    "\n",
    "# ROC\n",
    "plt.title('2019년_남성직장인구 수 _Tuning ROC')\n",
    "plt.xlabel('False Positive Rate(Specificity)')\n",
    "plt.ylabel('True Positive Rate(Sensitivity)')\n",
    "plt.plot(fpr, tpr, 'k', label=roc_auc); "
   ]
  },
  {
   "cell_type": "markdown",
   "metadata": {},
   "source": [
    "### 13.1 10대 직장 인구 수  (1년)"
   ]
  },
  {
   "cell_type": "code",
   "execution_count": 132,
   "metadata": {},
   "outputs": [],
   "source": [
    "# 10대 직장 인구 수  (2017년)\n",
    "\n",
    "X = df_x.values\n",
    "y = df_y_17.연령대_10_직장_인구_수_1년.values\n",
    "\n",
    "# Train, Test Split\n",
    "X_train, X_test, y_train, y_test = train_test_split(X, y, test_size=0.3, random_state=1, stratify=y)"
   ]
  },
  {
   "cell_type": "code",
   "execution_count": 133,
   "metadata": {},
   "outputs": [
    {
     "data": {
      "text/plain": [
       "array([ 0.01,  0.02,  0.03,  0.04,  0.05,  0.06,  0.07,  0.08,  0.09,\n",
       "        0.1 ,  0.2 ,  0.3 ,  0.4 ,  0.5 ,  0.6 ,  0.7 ,  0.8 ,  0.9 ,\n",
       "        1.  ,  2.  ,  3.  ,  4.  ,  5.  ,  6.  ,  7.  ,  8.  ,  9.  ,\n",
       "       10.  ])"
      ]
     },
     "execution_count": 133,
     "metadata": {},
     "output_type": "execute_result"
    }
   ],
   "source": [
    "np.concatenate([np.arange(1,11)/100, np.arange(2,11)/10, np.arange(2,11)])"
   ]
  },
  {
   "cell_type": "code",
   "execution_count": 134,
   "metadata": {},
   "outputs": [
    {
     "name": "stdout",
     "output_type": "stream",
     "text": [
      "Fitting 5 folds for each of 12096 candidates, totalling 60480 fits\n"
     ]
    },
    {
     "name": "stderr",
     "output_type": "stream",
     "text": [
      "[Parallel(n_jobs=-1)]: Using backend LokyBackend with 64 concurrent workers.\n",
      "[Parallel(n_jobs=-1)]: Done  72 tasks      | elapsed:    0.2s\n",
      "[Parallel(n_jobs=-1)]: Done 648 tasks      | elapsed:    1.0s\n",
      "[Parallel(n_jobs=-1)]: Done 3200 tasks      | elapsed:    3.5s\n",
      "[Parallel(n_jobs=-1)]: Done 6800 tasks      | elapsed:    7.0s\n",
      "[Parallel(n_jobs=-1)]: Done 11200 tasks      | elapsed:   11.3s\n",
      "[Parallel(n_jobs=-1)]: Done 16400 tasks      | elapsed:   15.9s\n",
      "[Parallel(n_jobs=-1)]: Done 22400 tasks      | elapsed:   20.8s\n",
      "[Parallel(n_jobs=-1)]: Done 29200 tasks      | elapsed:   25.7s\n",
      "[Parallel(n_jobs=-1)]: Done 36800 tasks      | elapsed:   30.5s\n",
      "[Parallel(n_jobs=-1)]: Done 45200 tasks      | elapsed:   35.0s\n",
      "[Parallel(n_jobs=-1)]: Done 54400 tasks      | elapsed:   39.2s\n",
      "[Parallel(n_jobs=-1)]: Done 60353 out of 60480 | elapsed:   41.4s remaining:    0.1s\n",
      "[Parallel(n_jobs=-1)]: Done 60480 out of 60480 | elapsed:   41.4s finished\n"
     ]
    },
    {
     "name": "stdout",
     "output_type": "stream",
     "text": [
      "[14:04:44] WARNING: ../src/learner.cc:516: \n",
      "Parameters: { n_iter } might not be used.\n",
      "\n",
      "  This may not be accurate due to some parameters are only used in language bindings but\n",
      "  passed down to XGBoost core.  Or some parameters are not used but slip through this\n",
      "  verification. Please open an issue if you find above cases.\n",
      "\n",
      "\n",
      "최적 하이퍼 파라미터:  {'learning_rate': 2.0, 'max_depth': 6, 'n_estimators': 300, 'n_iter': 100}\n",
      "최고 예측 정확도: 0.6921\n"
     ]
    }
   ],
   "source": [
    "#객체생성 \n",
    "xgb = XGBClassifier(random_state=18)\n",
    "\n",
    "# 하이퍼파라미터 튜닝\n",
    "params = {\n",
    "    'learning_rate': list(np.concatenate([np.arange(1,11)/100, np.arange(2,11)/10, np.arange(2,11)])), 'n_estimators': list(range(100, 400,  100)),\n",
    "    'n_iter': list(range(100, 1000, 100)),\n",
    "    'max_depth': list(range(4, 20)),\n",
    "    }\n",
    "           \n",
    "# XGBClassifier 객체 생성 후 GridSearchCV 수행\n",
    "grid_xgb = GridSearchCV(xgb, param_grid = params, n_jobs = -1, verbose=1, scoring='roc_auc')\n",
    "grid_xgb.fit(X_train, y_train)\n",
    "\n",
    "print('최적 하이퍼 파라미터: ', grid_xgb.best_params_)\n",
    "print('최고 예측 정확도: {:.4f}'.format(grid_xgb.best_score_))"
   ]
  },
  {
   "cell_type": "code",
   "execution_count": 135,
   "metadata": {},
   "outputs": [
    {
     "name": "stdout",
     "output_type": "stream",
     "text": [
      "[14:05:01] WARNING: ../src/learner.cc:516: \n",
      "Parameters: { n_iter } might not be used.\n",
      "\n",
      "  This may not be accurate due to some parameters are only used in language bindings but\n",
      "  passed down to XGBoost core.  Or some parameters are not used but slip through this\n",
      "  verification. Please open an issue if you find above cases.\n",
      "\n",
      "\n",
      "예측 정확도: 0.5644\n"
     ]
    }
   ],
   "source": [
    "xgb1= XGBClassifier(n_estimators = 300, \n",
    "                    max_depth = 6,\n",
    "                    n_iter = 100,\n",
    "                    learning_rate = 2.0,\n",
    "                    random_state = 18,\n",
    "                    n_jobs = -1\n",
    "                    )\n",
    "xgb1.fit(X_train, y_train)\n",
    "y_pred = xgb1.predict(X_test)\n",
    "print('예측 정확도: {:.4f}'.format(accuracy_score(y_test,y_pred)))"
   ]
  },
  {
   "cell_type": "code",
   "execution_count": 136,
   "metadata": {},
   "outputs": [
    {
     "name": "stdout",
     "output_type": "stream",
     "text": [
      "2017년_10대 직장 인구 수 _Tuning AUC = 0.4784735812133072\n"
     ]
    },
    {
     "data": {
      "image/png": "[encoded data removed]",
      "text/plain": [
       "<Figure size 432x288 with 1 Axes>"
      ]
     },
     "metadata": {
      "needs_background": "light"
     },
     "output_type": "display_data"
    }
   ],
   "source": [
    "# Model Evaluation (AUC)\n",
    "fpr, tpr, thresholds = metrics.roc_curve(y_test, y_pred)\n",
    "roc_auc = metrics.auc(fpr, tpr)\n",
    "print(\"2017년_10대 직장 인구 수 _Tuning AUC =\", roc_auc)\n",
    "\n",
    "# ROC\n",
    "plt.title('2017년_10대 직장 인구 수  _Tuning ROC')\n",
    "plt.xlabel('False Positive Rate(Specificity)')\n",
    "plt.ylabel('True Positive Rate(Sensitivity)')\n",
    "plt.plot(fpr, tpr, 'k', label=roc_auc); "
   ]
  },
  {
   "cell_type": "markdown",
   "metadata": {},
   "source": [
    "### 13.2 10대 직장 인구 수 (3년)"
   ]
  },
  {
   "cell_type": "code",
   "execution_count": 137,
   "metadata": {},
   "outputs": [],
   "source": [
    "# 10대 직장 인구 수  (2019년)\n",
    "\n",
    "X = df_x.values\n",
    "y = df_y_19.연령대_10_직장_인구_수_3년.values\n",
    "\n",
    "# Train, Test Split\n",
    "X_train, X_test, y_train, y_test = train_test_split(X, y, test_size=0.3, random_state=1, stratify=y)"
   ]
  },
  {
   "cell_type": "code",
   "execution_count": 138,
   "metadata": {},
   "outputs": [
    {
     "name": "stdout",
     "output_type": "stream",
     "text": [
      "Fitting 5 folds for each of 12096 candidates, totalling 60480 fits\n"
     ]
    },
    {
     "name": "stderr",
     "output_type": "stream",
     "text": [
      "[Parallel(n_jobs=-1)]: Using backend LokyBackend with 64 concurrent workers.\n",
      "[Parallel(n_jobs=-1)]: Done  72 tasks      | elapsed:    0.2s\n",
      "[Parallel(n_jobs=-1)]: Done 648 tasks      | elapsed:    0.9s\n",
      "[Parallel(n_jobs=-1)]: Done 3200 tasks      | elapsed:    3.6s\n",
      "[Parallel(n_jobs=-1)]: Done 6800 tasks      | elapsed:    7.2s\n",
      "[Parallel(n_jobs=-1)]: Done 11200 tasks      | elapsed:   11.5s\n",
      "[Parallel(n_jobs=-1)]: Done 16400 tasks      | elapsed:   16.2s\n",
      "[Parallel(n_jobs=-1)]: Done 22400 tasks      | elapsed:   21.2s\n",
      "[Parallel(n_jobs=-1)]: Done 29200 tasks      | elapsed:   26.2s\n",
      "[Parallel(n_jobs=-1)]: Done 36800 tasks      | elapsed:   31.1s\n",
      "[Parallel(n_jobs=-1)]: Done 45200 tasks      | elapsed:   35.7s\n",
      "[Parallel(n_jobs=-1)]: Done 54400 tasks      | elapsed:   40.2s\n"
     ]
    },
    {
     "name": "stdout",
     "output_type": "stream",
     "text": [
      "[14:06:19] WARNING: ../src/learner.cc:516: \n",
      "Parameters: { n_iter } might not be used.\n",
      "\n",
      "  This may not be accurate due to some parameters are only used in language bindings but\n",
      "  passed down to XGBoost core.  Or some parameters are not used but slip through this\n",
      "  verification. Please open an issue if you find above cases.\n",
      "\n",
      "\n",
      "최적 하이퍼 파라미터:  {'learning_rate': 0.9, 'max_depth': 6, 'n_estimators': 300, 'n_iter': 100}\n",
      "최고 예측 정확도: 0.5988\n"
     ]
    },
    {
     "name": "stderr",
     "output_type": "stream",
     "text": [
      "[Parallel(n_jobs=-1)]: Done 60480 out of 60480 | elapsed:   42.4s finished\n"
     ]
    }
   ],
   "source": [
    "#객체생성 \n",
    "xgb = XGBClassifier(random_state=18)\n",
    "\n",
    "# 하이퍼파라미터 튜닝\n",
    "params = {\n",
    "    'learning_rate': list(np.concatenate([np.arange(1,11)/100, np.arange(2,11)/10, np.arange(2,11)])), 'n_estimators': list(range(100, 400,  100)),\n",
    "    'n_iter': list(range(100, 1000, 100)),\n",
    "    'max_depth': list(range(4, 20)),\n",
    "    }\n",
    "           \n",
    "# XGBClassifier 객체 생성 후 GridSearchCV 수행\n",
    "grid_xgb = GridSearchCV(xgb, param_grid = params, n_jobs = -1, verbose=1, scoring='roc_auc')\n",
    "grid_xgb.fit(X_train, y_train)\n",
    "\n",
    "print('최적 하이퍼 파라미터: ', grid_xgb.best_params_)\n",
    "print('최고 예측 정확도: {:.4f}'.format(grid_xgb.best_score_))"
   ]
  },
  {
   "cell_type": "code",
   "execution_count": 139,
   "metadata": {},
   "outputs": [
    {
     "name": "stdout",
     "output_type": "stream",
     "text": [
      "[14:06:32] WARNING: ../src/learner.cc:516: \n",
      "Parameters: { n_iter } might not be used.\n",
      "\n",
      "  This may not be accurate due to some parameters are only used in language bindings but\n",
      "  passed down to XGBoost core.  Or some parameters are not used but slip through this\n",
      "  verification. Please open an issue if you find above cases.\n",
      "\n",
      "\n",
      "예측 정확도: 0.6139\n"
     ]
    }
   ],
   "source": [
    "xgb1= XGBClassifier(n_estimators = 300 , \n",
    "                    max_depth = 6,\n",
    "                    n_iter = 100,\n",
    "                    learning_rate = 0.9,\n",
    "                    random_state = 18,\n",
    "                    n_jobs = -1\n",
    "                    )\n",
    "xgb1.fit(X_train, y_train)\n",
    "y_pred = xgb1.predict(X_test)\n",
    "print('예측 정확도: {:.4f}'.format(accuracy_score(y_test,y_pred)))"
   ]
  },
  {
   "cell_type": "code",
   "execution_count": 140,
   "metadata": {},
   "outputs": [
    {
     "name": "stdout",
     "output_type": "stream",
     "text": [
      "2017년_10대 직장 인구 수_Tuning AUC = 0.5104723707664884\n"
     ]
    },
    {
     "data": {
      "image/png": "[encoded data removed]",
      "text/plain": [
       "<Figure size 432x288 with 1 Axes>"
      ]
     },
     "metadata": {
      "needs_background": "light"
     },
     "output_type": "display_data"
    }
   ],
   "source": [
    "# Model Evaluation (AUC)\n",
    "fpr, tpr, thresholds = metrics.roc_curve(y_test, y_pred)\n",
    "roc_auc = metrics.auc(fpr, tpr)\n",
    "print(\"2017년_10대 직장 인구 수_Tuning AUC =\", roc_auc)\n",
    "\n",
    "# ROC\n",
    "plt.title('2017년_10대 직장 인구 수 _Tuning ROC')\n",
    "plt.xlabel('False Positive Rate(Specificity)')\n",
    "plt.ylabel('True Positive Rate(Sensitivity)')\n",
    "plt.plot(fpr, tpr, 'k', label=roc_auc); "
   ]
  },
  {
   "cell_type": "markdown",
   "metadata": {},
   "source": [
    "### 14.1 30대 직장 인구 수 (1년)"
   ]
  },
  {
   "cell_type": "code",
   "execution_count": 141,
   "metadata": {},
   "outputs": [],
   "source": [
    "# 30대 직장 인구 수  (2017년)\n",
    "\n",
    "X = df_x.values\n",
    "y = df_y_17.연령대_30_직장_인구_수_1년.values\n",
    "\n",
    "# Train, Test Split\n",
    "X_train, X_test, y_train, y_test = train_test_split(X, y, test_size=0.3, random_state=1, stratify=y)"
   ]
  },
  {
   "cell_type": "code",
   "execution_count": 142,
   "metadata": {},
   "outputs": [
    {
     "name": "stdout",
     "output_type": "stream",
     "text": [
      "Fitting 5 folds for each of 12096 candidates, totalling 60480 fits\n"
     ]
    },
    {
     "name": "stderr",
     "output_type": "stream",
     "text": [
      "[Parallel(n_jobs=-1)]: Using backend LokyBackend with 64 concurrent workers.\n",
      "[Parallel(n_jobs=-1)]: Done  72 tasks      | elapsed:    0.2s\n",
      "[Parallel(n_jobs=-1)]: Done 648 tasks      | elapsed:    1.0s\n",
      "[Parallel(n_jobs=-1)]: Done 3200 tasks      | elapsed:    3.5s\n",
      "[Parallel(n_jobs=-1)]: Done 6800 tasks      | elapsed:    6.9s\n",
      "[Parallel(n_jobs=-1)]: Done 11200 tasks      | elapsed:   11.2s\n",
      "[Parallel(n_jobs=-1)]: Done 16400 tasks      | elapsed:   15.8s\n",
      "[Parallel(n_jobs=-1)]: Done 22400 tasks      | elapsed:   20.8s\n",
      "[Parallel(n_jobs=-1)]: Done 29200 tasks      | elapsed:   25.9s\n",
      "[Parallel(n_jobs=-1)]: Done 36800 tasks      | elapsed:   30.9s\n",
      "[Parallel(n_jobs=-1)]: Done 45200 tasks      | elapsed:   35.4s\n",
      "[Parallel(n_jobs=-1)]: Done 54400 tasks      | elapsed:   39.4s\n"
     ]
    },
    {
     "name": "stdout",
     "output_type": "stream",
     "text": [
      "[14:07:28] WARNING: ../src/learner.cc:516: \n",
      "Parameters: { n_iter } might not be used.\n",
      "\n",
      "  This may not be accurate due to some parameters are only used in language bindings but\n",
      "  passed down to XGBoost core.  Or some parameters are not used but slip through this\n",
      "  verification. Please open an issue if you find above cases.\n",
      "\n",
      "\n",
      "최적 하이퍼 파라미터:  {'learning_rate': 4.0, 'max_depth': 4, 'n_estimators': 100, 'n_iter': 100}\n",
      "최고 예측 정확도: 0.5914\n"
     ]
    },
    {
     "name": "stderr",
     "output_type": "stream",
     "text": [
      "[Parallel(n_jobs=-1)]: Done 60480 out of 60480 | elapsed:   41.6s finished\n"
     ]
    }
   ],
   "source": [
    "#객체생성 \n",
    "xgb = XGBClassifier(random_state=18)\n",
    "\n",
    "# 하이퍼파라미터 튜닝\n",
    "params = {\n",
    "    'learning_rate': list(np.concatenate([np.arange(1,11)/100, np.arange(2,11)/10, np.arange(2,11)])), 'n_estimators': list(range(100, 400,  100)),\n",
    "    'n_iter': list(range(100, 1000, 100)),\n",
    "    'max_depth': list(range(4, 20)),\n",
    "    }\n",
    "           \n",
    "# XGBClassifier 객체 생성 후 GridSearchCV 수행\n",
    "grid_xgb = GridSearchCV(xgb, param_grid = params, n_jobs = -1, verbose=1, scoring='roc_auc')\n",
    "grid_xgb.fit(X_train, y_train)\n",
    "\n",
    "print('최적 하이퍼 파라미터: ', grid_xgb.best_params_)\n",
    "print('최고 예측 정확도: {:.4f}'.format(grid_xgb.best_score_))"
   ]
  },
  {
   "cell_type": "code",
   "execution_count": 144,
   "metadata": {},
   "outputs": [
    {
     "name": "stdout",
     "output_type": "stream",
     "text": [
      "[14:08:37] WARNING: ../src/learner.cc:516: \n",
      "Parameters: { n_iter } might not be used.\n",
      "\n",
      "  This may not be accurate due to some parameters are only used in language bindings but\n",
      "  passed down to XGBoost core.  Or some parameters are not used but slip through this\n",
      "  verification. Please open an issue if you find above cases.\n",
      "\n",
      "\n",
      "예측 정확도: 0.7129\n"
     ]
    }
   ],
   "source": [
    "xgb1= XGBClassifier(n_estimators = 100 , \n",
    "                    max_depth = 4,\n",
    "                    n_iter = 100,\n",
    "                    learning_rate = 0.01,\n",
    "                    random_state = 18,\n",
    "                    n_jobs = -1\n",
    "                    )\n",
    "xgb1.fit(X_train, y_train)\n",
    "y_pred = xgb1.predict(X_test)\n",
    "print('예측 정확도: {:.4f}'.format(accuracy_score(y_test,y_pred)))"
   ]
  },
  {
   "cell_type": "code",
   "execution_count": 145,
   "metadata": {},
   "outputs": [
    {
     "name": "stdout",
     "output_type": "stream",
     "text": [
      "2017년_30대_직장인구 수_Tuning AUC = 0.5720108695652174\n"
     ]
    },
    {
     "data": {
      "image/png": "[encoded data removed]",
      "text/plain": [
       "<Figure size 432x288 with 1 Axes>"
      ]
     },
     "metadata": {
      "needs_background": "light"
     },
     "output_type": "display_data"
    }
   ],
   "source": [
    "# Model Evaluation (AUC)\n",
    "fpr, tpr, thresholds = metrics.roc_curve(y_test, y_pred)\n",
    "roc_auc = metrics.auc(fpr, tpr)\n",
    "print(\"2017년_30대_직장인구 수_Tuning AUC =\", roc_auc)\n",
    "\n",
    "# ROC\n",
    "plt.title('2017년_30대 직장 인구 수 _Tuning ROC')\n",
    "plt.xlabel('False Positive Rate(Specificity)')\n",
    "plt.ylabel('True Positive Rate(Sensitivity)')\n",
    "plt.plot(fpr, tpr, 'k', label=roc_auc); "
   ]
  },
  {
   "cell_type": "markdown",
   "metadata": {},
   "source": [
    "### 14.2 30대 직장 인구 수 (3년)"
   ]
  },
  {
   "cell_type": "code",
   "execution_count": 146,
   "metadata": {},
   "outputs": [],
   "source": [
    "# 30대 직장 인구 수  (2019년)\n",
    "\n",
    "X = df_x.values\n",
    "y = df_y_19.연령대_30_직장_인구_수_3년.values\n",
    "\n",
    "# Train, Test Split\n",
    "X_train, X_test, y_train, y_test = train_test_split(X, y, test_size=0.3, random_state=1, stratify=y)"
   ]
  },
  {
   "cell_type": "code",
   "execution_count": 147,
   "metadata": {},
   "outputs": [
    {
     "name": "stdout",
     "output_type": "stream",
     "text": [
      "Fitting 5 folds for each of 12096 candidates, totalling 60480 fits\n"
     ]
    },
    {
     "name": "stderr",
     "output_type": "stream",
     "text": [
      "[Parallel(n_jobs=-1)]: Using backend LokyBackend with 64 concurrent workers.\n",
      "[Parallel(n_jobs=-1)]: Done  72 tasks      | elapsed:    0.2s\n",
      "[Parallel(n_jobs=-1)]: Done 648 tasks      | elapsed:    1.0s\n",
      "[Parallel(n_jobs=-1)]: Done 3200 tasks      | elapsed:    3.5s\n",
      "[Parallel(n_jobs=-1)]: Done 6800 tasks      | elapsed:    7.1s\n",
      "[Parallel(n_jobs=-1)]: Done 11200 tasks      | elapsed:   11.6s\n",
      "[Parallel(n_jobs=-1)]: Done 16400 tasks      | elapsed:   16.5s\n",
      "[Parallel(n_jobs=-1)]: Done 22400 tasks      | elapsed:   21.7s\n",
      "[Parallel(n_jobs=-1)]: Done 29200 tasks      | elapsed:   26.9s\n",
      "[Parallel(n_jobs=-1)]: Done 36800 tasks      | elapsed:   32.1s\n",
      "[Parallel(n_jobs=-1)]: Done 45200 tasks      | elapsed:   36.8s\n",
      "[Parallel(n_jobs=-1)]: Done 54400 tasks      | elapsed:   40.9s\n"
     ]
    },
    {
     "name": "stdout",
     "output_type": "stream",
     "text": [
      "[14:09:31] WARNING: ../src/learner.cc:516: \n",
      "Parameters: { n_iter } might not be used.\n",
      "\n",
      "  This may not be accurate due to some parameters are only used in language bindings but\n",
      "  passed down to XGBoost core.  Or some parameters are not used but slip through this\n",
      "  verification. Please open an issue if you find above cases.\n",
      "\n",
      "\n",
      "최적 하이퍼 파라미터:  {'learning_rate': 3.0, 'max_depth': 5, 'n_estimators': 300, 'n_iter': 100}\n",
      "최고 예측 정확도: 0.5909\n"
     ]
    },
    {
     "name": "stderr",
     "output_type": "stream",
     "text": [
      "[Parallel(n_jobs=-1)]: Done 60480 out of 60480 | elapsed:   43.2s finished\n"
     ]
    }
   ],
   "source": [
    "#객체생성 \n",
    "xgb = XGBClassifier(random_state=18)\n",
    "\n",
    "# 하이퍼파라미터 튜닝\n",
    "params = {\n",
    "    'learning_rate': list(np.concatenate([np.arange(1,11)/100, np.arange(2,11)/10, np.arange(2,11)])), 'n_estimators': list(range(100, 400,  100)),\n",
    "    'n_iter': list(range(100, 1000, 100)),\n",
    "    'max_depth': list(range(4, 20)),\n",
    "    }\n",
    "           \n",
    "# XGBClassifier 객체 생성 후 GridSearchCV 수행\n",
    "grid_xgb = GridSearchCV(xgb, param_grid = params, n_jobs = -1, verbose=1, scoring='roc_auc')\n",
    "grid_xgb.fit(X_train, y_train)\n",
    "\n",
    "print('최적 하이퍼 파라미터: ', grid_xgb.best_params_)\n",
    "print('최고 예측 정확도: {:.4f}'.format(grid_xgb.best_score_))"
   ]
  },
  {
   "cell_type": "code",
   "execution_count": 148,
   "metadata": {},
   "outputs": [
    {
     "name": "stdout",
     "output_type": "stream",
     "text": [
      "[14:09:58] WARNING: ../src/learner.cc:516: \n",
      "Parameters: { n_iter } might not be used.\n",
      "\n",
      "  This may not be accurate due to some parameters are only used in language bindings but\n",
      "  passed down to XGBoost core.  Or some parameters are not used but slip through this\n",
      "  verification. Please open an issue if you find above cases.\n",
      "\n",
      "\n",
      "예측 정확도: 0.5446\n"
     ]
    }
   ],
   "source": [
    "xgb1= XGBClassifier(n_estimators =300 , \n",
    "                    max_depth =5 ,\n",
    "                    n_iter = 100,\n",
    "                    learning_rate = 3.0,\n",
    "                    random_state = 18,\n",
    "                    n_jobs = -1\n",
    "                    )\n",
    "xgb1.fit(X_train, y_train)\n",
    "y_pred = xgb1.predict(X_test)\n",
    "print('예측 정확도: {:.4f}'.format(accuracy_score(y_test,y_pred)))"
   ]
  },
  {
   "cell_type": "code",
   "execution_count": 149,
   "metadata": {},
   "outputs": [
    {
     "name": "stdout",
     "output_type": "stream",
     "text": [
      "2019년_30대_직장인구 수_Tuning AUC = 0.5\n"
     ]
    },
    {
     "data": {
      "image/png": "[encoded data removed]",
      "text/plain": [
       "<Figure size 432x288 with 1 Axes>"
      ]
     },
     "metadata": {
      "needs_background": "light"
     },
     "output_type": "display_data"
    }
   ],
   "source": [
    "# Model Evaluation (AUC)\n",
    "fpr, tpr, thresholds = metrics.roc_curve(y_test, y_pred)\n",
    "roc_auc = metrics.auc(fpr, tpr)\n",
    "print(\"2019년_30대_직장인구 수_Tuning AUC =\", roc_auc)\n",
    "\n",
    "# ROC\n",
    "plt.title('2019년_30대_직장인구 수 _Tuning ROC')\n",
    "plt.xlabel('False Positive Rate(Specificity)')\n",
    "plt.ylabel('True Positive Rate(Sensitivity)')\n",
    "plt.plot(fpr, tpr, 'k', label=roc_auc); "
   ]
  },
  {
   "cell_type": "markdown",
   "metadata": {},
   "source": [
    "### 15.1 거주 세대 수 (1년)"
   ]
  },
  {
   "cell_type": "code",
   "execution_count": 150,
   "metadata": {},
   "outputs": [],
   "source": [
    "# 거주 세대 수  (2017년)\n",
    "\n",
    "X = df_x.values\n",
    "y = df_y_17.거주_세대_수_1년.values\n",
    "\n",
    "# Train, Test Split\n",
    "X_train, X_test, y_train, y_test = train_test_split(X, y, test_size=0.3, random_state=1, stratify=y)"
   ]
  },
  {
   "cell_type": "code",
   "execution_count": 151,
   "metadata": {},
   "outputs": [
    {
     "name": "stdout",
     "output_type": "stream",
     "text": [
      "Fitting 5 folds for each of 12096 candidates, totalling 60480 fits\n"
     ]
    },
    {
     "name": "stderr",
     "output_type": "stream",
     "text": [
      "[Parallel(n_jobs=-1)]: Using backend LokyBackend with 64 concurrent workers.\n",
      "[Parallel(n_jobs=-1)]: Done  72 tasks      | elapsed:    0.2s\n",
      "[Parallel(n_jobs=-1)]: Done 648 tasks      | elapsed:    1.0s\n",
      "[Parallel(n_jobs=-1)]: Done 3200 tasks      | elapsed:    3.5s\n",
      "[Parallel(n_jobs=-1)]: Done 6800 tasks      | elapsed:    7.0s\n",
      "[Parallel(n_jobs=-1)]: Done 11200 tasks      | elapsed:   11.4s\n",
      "[Parallel(n_jobs=-1)]: Done 16400 tasks      | elapsed:   16.2s\n",
      "[Parallel(n_jobs=-1)]: Done 22400 tasks      | elapsed:   21.3s\n",
      "[Parallel(n_jobs=-1)]: Done 29200 tasks      | elapsed:   26.2s\n",
      "[Parallel(n_jobs=-1)]: Done 36800 tasks      | elapsed:   31.0s\n",
      "[Parallel(n_jobs=-1)]: Done 45200 tasks      | elapsed:   35.4s\n",
      "[Parallel(n_jobs=-1)]: Done 54400 tasks      | elapsed:   39.5s\n"
     ]
    },
    {
     "name": "stdout",
     "output_type": "stream",
     "text": [
      "[14:10:57] WARNING: ../src/learner.cc:516: \n",
      "Parameters: { n_iter } might not be used.\n",
      "\n",
      "  This may not be accurate due to some parameters are only used in language bindings but\n",
      "  passed down to XGBoost core.  Or some parameters are not used but slip through this\n",
      "  verification. Please open an issue if you find above cases.\n",
      "\n",
      "\n",
      "최적 하이퍼 파라미터:  {'learning_rate': 2.0, 'max_depth': 5, 'n_estimators': 300, 'n_iter': 100}\n",
      "최고 예측 정확도: 0.6150\n"
     ]
    },
    {
     "name": "stderr",
     "output_type": "stream",
     "text": [
      "[Parallel(n_jobs=-1)]: Done 60353 out of 60480 | elapsed:   41.6s remaining:    0.1s\n",
      "[Parallel(n_jobs=-1)]: Done 60480 out of 60480 | elapsed:   41.7s finished\n"
     ]
    }
   ],
   "source": [
    "#객체생성 \n",
    "xgb = XGBClassifier(random_state=18)\n",
    "\n",
    "# 하이퍼파라미터 튜닝\n",
    "params = {\n",
    "    'learning_rate': list(np.concatenate([np.arange(1,11)/100, np.arange(2,11)/10, np.arange(2,11)])), 'n_estimators': list(range(100, 400,  100)),\n",
    "    'n_iter': list(range(100, 1000, 100)),\n",
    "    'max_depth': list(range(4, 20)),\n",
    "    }\n",
    "           \n",
    "# XGBClassifier 객체 생성 후 GridSearchCV 수행\n",
    "grid_xgb = GridSearchCV(xgb, param_grid = params, n_jobs = -1, verbose=1, scoring='roc_auc')\n",
    "grid_xgb.fit(X_train, y_train)\n",
    "\n",
    "print('최적 하이퍼 파라미터: ', grid_xgb.best_params_)\n",
    "print('최고 예측 정확도: {:.4f}'.format(grid_xgb.best_score_))"
   ]
  },
  {
   "cell_type": "code",
   "execution_count": 152,
   "metadata": {},
   "outputs": [
    {
     "name": "stdout",
     "output_type": "stream",
     "text": [
      "[14:11:13] WARNING: ../src/learner.cc:516: \n",
      "Parameters: { n_iter } might not be used.\n",
      "\n",
      "  This may not be accurate due to some parameters are only used in language bindings but\n",
      "  passed down to XGBoost core.  Or some parameters are not used but slip through this\n",
      "  verification. Please open an issue if you find above cases.\n",
      "\n",
      "\n",
      "예측 정확도: 0.5743\n"
     ]
    }
   ],
   "source": [
    "xgb1= XGBClassifier(n_estimators = 300, \n",
    "                    max_depth = 5,\n",
    "                    n_iter = 100,\n",
    "                    learning_rate = 2.0,\n",
    "                    random_state = 18,\n",
    "                    n_jobs = -1\n",
    "                    )\n",
    "xgb1.fit(X_train, y_train)\n",
    "y_pred = xgb1.predict(X_test)\n",
    "print('예측 정확도: {:.4f}'.format(accuracy_score(y_test,y_pred)))"
   ]
  },
  {
   "cell_type": "code",
   "execution_count": 153,
   "metadata": {},
   "outputs": [
    {
     "name": "stdout",
     "output_type": "stream",
     "text": [
      "2017년_거주세대 수 _Tuning AUC = 0.541260162601626\n"
     ]
    },
    {
     "data": {
      "image/png": "[encoded data removed]",
      "text/plain": [
       "<Figure size 432x288 with 1 Axes>"
      ]
     },
     "metadata": {
      "needs_background": "light"
     },
     "output_type": "display_data"
    }
   ],
   "source": [
    "# Model Evaluation (AUC)\n",
    "fpr, tpr, thresholds = metrics.roc_curve(y_test, y_pred)\n",
    "roc_auc = metrics.auc(fpr, tpr)\n",
    "print(\"2017년_거주세대 수 _Tuning AUC =\", roc_auc)\n",
    "\n",
    "# ROC\n",
    "plt.title('2017년 거주 세대 수  _Tuning ROC')\n",
    "plt.xlabel('False Positive Rate(Specificity)')\n",
    "plt.ylabel('True Positive Rate(Sensitivity)')\n",
    "plt.plot(fpr, tpr, 'k', label=roc_auc); "
   ]
  },
  {
   "cell_type": "markdown",
   "metadata": {},
   "source": [
    "### 15.2 거주 세대 수 (3년)"
   ]
  },
  {
   "cell_type": "code",
   "execution_count": 154,
   "metadata": {},
   "outputs": [],
   "source": [
    "# 거주 세대 수  (2019년)\n",
    "\n",
    "X = df_x.values\n",
    "y = df_y_19.거주_세대_수_3년.values\n",
    "\n",
    "# Train, Test Split\n",
    "X_train, X_test, y_train, y_test = train_test_split(X, y, test_size=0.3, random_state=1, stratify=y)"
   ]
  },
  {
   "cell_type": "code",
   "execution_count": 155,
   "metadata": {},
   "outputs": [
    {
     "name": "stdout",
     "output_type": "stream",
     "text": [
      "최적 하이퍼 파라미터:  {'criterion': 'gini', 'max_depth': 16, 'n_estimators': 500}\n"
     ]
    }
   ],
   "source": [
    "# 하이퍼파라미터 튜닝\n",
    "from sklearn.model_selection import GridSearchCV\n",
    "\n",
    "params = {'n_estimators' :[300,400,500],\n",
    "           'max_depth' : list(range(4, 20)),\n",
    "           'criterion' : ['gini', 'entropy']\n",
    "           }\n",
    "\n",
    "# RandomForestClassifier 객체 생성 후 GridSearchCV 수행\n",
    "rf_clf = RandomForestClassifier(random_state = 0, n_jobs = -1)\n",
    "grid_cv = GridSearchCV(rf_clf, param_grid = params, scoring='roc_auc', cv = 5, n_jobs = -1)\n",
    "grid_cv.fit(X_train, y_train)\n",
    "\n",
    "print('최적 하이퍼 파라미터: ', grid_cv.best_params_)"
   ]
  },
  {
   "cell_type": "code",
   "execution_count": 151,
   "metadata": {},
   "outputs": [
    {
     "name": "stdout",
     "output_type": "stream",
     "text": [
      "예측 정확도: 0.5842\n"
     ]
    }
   ],
   "source": [
    "# 다시 학습 및 예측 성능 측정\n",
    "rf_clf1 = RandomForestClassifier(n_estimators = 500, \n",
    "                                max_depth = 14,\n",
    "                                random_state = 1 ,\n",
    "                                criterion = 'entropy')\n",
    "rf_clf1.fit(X_train, y_train)\n",
    "y_pred = rf_clf1.predict(X_test)\n",
    "print('예측 정확도: {:.4f}'.format(accuracy_score(y_test,y_pred)))"
   ]
  },
  {
   "cell_type": "code",
   "execution_count": 152,
   "metadata": {},
   "outputs": [
    {
     "name": "stdout",
     "output_type": "stream",
     "text": [
      "2019년_거주 세대 수 _Tuning AUC = 0.5801886792452831\n"
     ]
    },
    {
     "data": {
      "image/png": "[encoded data removed]",
      "text/plain": [
       "<Figure size 432x288 with 1 Axes>"
      ]
     },
     "metadata": {
      "needs_background": "light"
     },
     "output_type": "display_data"
    }
   ],
   "source": [
    "# Model Evaluation (AUC)\n",
    "fpr, tpr, thresholds = metrics.roc_curve(y_test, y_pred)\n",
    "roc_auc = metrics.auc(fpr, tpr)\n",
    "print(\"2019년_거주 세대 수 _Tuning AUC =\", roc_auc)\n",
    "\n",
    "# ROC\n",
    "plt.title('2019년_거주 세대 수  _Tuning ROC')\n",
    "plt.xlabel('False Positive Rate(Specificity)')\n",
    "plt.ylabel('True Positive Rate(Sensitivity)')\n",
    "plt.plot(fpr, tpr, 'k', label=roc_auc); "
   ]
  },
  {
   "cell_type": "markdown",
   "metadata": {},
   "source": [
    "### 16.1 지출 총 금액 (1년)"
   ]
  },
  {
   "cell_type": "code",
   "execution_count": 6,
   "metadata": {},
   "outputs": [],
   "source": [
    "# 지출 총금액   (2017년)\n",
    "X = df_x.values\n",
    "y = df_y_17.지출_총금액_1년.values\n",
    "\n",
    "# Train, Test Split\n",
    "X_train, X_test, y_train, y_test = train_test_split(X, y, test_size=0.3, random_state=1, stratify=y)"
   ]
  },
  {
   "cell_type": "code",
   "execution_count": 178,
   "metadata": {},
   "outputs": [
    {
     "name": "stdout",
     "output_type": "stream",
     "text": [
      "최적 하이퍼 파라미터:  {'C': 2.0}\n",
      "최고 예측 정확도: 0.6240\n"
     ]
    }
   ],
   "source": [
    "log_reg = LogisticRegression()\n",
    "\n",
    "# 하이퍼파라미터 튜닝\n",
    "params = {'C':list(np.concatenate([np.arange(0.01,1,0.01), np.arange(1,10,1)]))}\n",
    "           \n",
    "# Logistic Regression 객체 생성 후 GridSearchCV 수행\n",
    "grid_log = GridSearchCV(log_reg, params, cv=5)\n",
    "grid_log.fit(X_train, y_train)\n",
    "\n",
    "print('최적 하이퍼 파라미터: ', grid_log.best_params_)\n",
    "print('최고 예측 정확도: {:.4f}'.format(grid_log.best_score_))"
   ]
  },
  {
   "cell_type": "code",
   "execution_count": 179,
   "metadata": {},
   "outputs": [
    {
     "name": "stdout",
     "output_type": "stream",
     "text": [
      "예측 정확도: 0.5941\n"
     ]
    }
   ],
   "source": [
    "# 다시 학습 및 예측 성능 측정\n",
    "lg_clf = LogisticRegression(C= 2.0,\n",
    "                                n_jobs=-1,\n",
    "                                random_state=18,\n",
    "                                verbose=0)\n",
    "lg_clf.fit(X_train, y_train)\n",
    "y_pred = lg_clf.predict(X_test)\n",
    "print('예측 정확도: {:.4f}'.format(accuracy_score(y_test,y_pred)))"
   ]
  },
  {
   "cell_type": "code",
   "execution_count": 180,
   "metadata": {},
   "outputs": [
    {
     "name": "stdout",
     "output_type": "stream",
     "text": [
      "2017년 지출 총금액_Tuning AUC = 0.5124069478908189\n"
     ]
    },
    {
     "data": {
      "image/png": "[encoded data removed]",
      "text/plain": [
       "<Figure size 432x288 with 1 Axes>"
      ]
     },
     "metadata": {
      "needs_background": "light"
     },
     "output_type": "display_data"
    }
   ],
   "source": [
    "# Model Evaluation (AUC)\n",
    "fpr, tpr, thresholds = metrics.roc_curve(y_test, y_pred)\n",
    "roc_auc = metrics.auc(fpr, tpr)\n",
    "print(\"2017년 지출 총금액_Tuning AUC =\", roc_auc)\n",
    "\n",
    "# ROC\n",
    "plt.title('2017년 지출 총금액_Tuning ROC')\n",
    "plt.xlabel('False Positive Rate(Specificity)')\n",
    "plt.ylabel('True Positive Rate(Sensitivity)')\n",
    "plt.plot(fpr, tpr, 'k', label=roc_auc); "
   ]
  },
  {
   "cell_type": "markdown",
   "metadata": {},
   "source": [
    "### 16.2 지출 총 금액  (3년)"
   ]
  },
  {
   "cell_type": "code",
   "execution_count": 157,
   "metadata": {},
   "outputs": [],
   "source": [
    "# 지출_총금액_3년  (2019년)\n",
    "X = df_x.values\n",
    "y = df_y_19.지출_총금액_3년.values\n",
    "\n",
    "# Train, Test Split\n",
    "X_train, X_test, y_train, y_test = train_test_split(X, y, test_size=0.3, random_state=1, stratify=y)"
   ]
  },
  {
   "cell_type": "code",
   "execution_count": 158,
   "metadata": {},
   "outputs": [
    {
     "name": "stdout",
     "output_type": "stream",
     "text": [
      "최적 하이퍼 파라미터:  {'criterion': 'entropy', 'max_depth': 14, 'n_estimators': 300}\n"
     ]
    }
   ],
   "source": [
    "# 하이퍼파라미터 튜닝\n",
    "from sklearn.model_selection import GridSearchCV\n",
    "\n",
    "params = {'n_estimators' :[300,400,500],\n",
    "           'max_depth' : list(range(4, 20)),\n",
    "           'criterion' : ['gini', 'entropy']\n",
    "           }\n",
    "\n",
    "# RandomForestClassifier 객체 생성 후 GridSearchCV 수행\n",
    "rf_clf = RandomForestClassifier(random_state = 0, n_jobs = -1)\n",
    "grid_cv = GridSearchCV(rf_clf, param_grid = params, cv = 5, scoring='roc_auc', n_jobs = -1)\n",
    "grid_cv.fit(X_train, y_train)\n",
    "\n",
    "print('최적 하이퍼 파라미터: ', grid_cv.best_params_)"
   ]
  },
  {
   "cell_type": "code",
   "execution_count": 159,
   "metadata": {},
   "outputs": [
    {
     "name": "stdout",
     "output_type": "stream",
     "text": [
      "예측 정확도: 0.6436\n"
     ]
    }
   ],
   "source": [
    "# 다시 학습 및 예측 성능 측정\n",
    "rf_clf1 = RandomForestClassifier(n_estimators = 300, \n",
    "                                max_depth = 14,\n",
    "                                random_state = 1,\n",
    "                                criterion = 'entropy')\n",
    "rf_clf1.fit(X_train, y_train)\n",
    "y_pred = rf_clf1.predict(X_test)\n",
    "print('예측 정확도: {:.4f}'.format(accuracy_score(y_test,y_pred)))"
   ]
  },
  {
   "cell_type": "code",
   "execution_count": 160,
   "metadata": {},
   "outputs": [
    {
     "name": "stdout",
     "output_type": "stream",
     "text": [
      "2019년 지출 총금액_Tuning AUC = 0.5325311942959002\n"
     ]
    },
    {
     "data": {
      "image/png": "[encoded data removed]",
      "text/plain": [
       "<Figure size 432x288 with 1 Axes>"
      ]
     },
     "metadata": {
      "needs_background": "light"
     },
     "output_type": "display_data"
    }
   ],
   "source": [
    "# Model Evaluation (AUC)\n",
    "fpr, tpr, thresholds = metrics.roc_curve(y_test, y_pred)\n",
    "roc_auc = metrics.auc(fpr, tpr)\n",
    "print(\"2019년 지출 총금액_Tuning AUC =\", roc_auc)\n",
    "\n",
    "# ROC\n",
    "plt.title('2017년 지출 총금액_Tuning ROC')\n",
    "plt.xlabel('False Positive Rate(Specificity)')\n",
    "plt.ylabel('True Positive Rate(Sensitivity)')\n",
    "plt.plot(fpr, tpr, 'k', label=roc_auc); "
   ]
  },
  {
   "cell_type": "markdown",
   "metadata": {},
   "source": [
    "### 17.1 의류, 신발  지출 총금액 (1년)"
   ]
  },
  {
   "cell_type": "code",
   "execution_count": 161,
   "metadata": {},
   "outputs": [],
   "source": [
    "# 의류, 신발 지출 총금액  (2017년)\n",
    "X = df_x.values\n",
    "y = df_y_17.의류_신발_지출_총금액_1년.values\n",
    "\n",
    "# Train, Test Split\n",
    "X_train, X_test, y_train, y_test = train_test_split(X, y, test_size=0.3, random_state=1, stratify=y)"
   ]
  },
  {
   "cell_type": "code",
   "execution_count": 162,
   "metadata": {},
   "outputs": [
    {
     "name": "stdout",
     "output_type": "stream",
     "text": [
      "최적 하이퍼 파라미터:  {'criterion': 'gini', 'max_depth': 17, 'n_estimators': 400}\n"
     ]
    }
   ],
   "source": [
    "# 하이퍼파라미터 튜닝\n",
    "from sklearn.model_selection import GridSearchCV\n",
    "\n",
    "params = {'n_estimators' :[300,400,500],\n",
    "           'max_depth' : list(range(4, 20)),\n",
    "           'criterion' : ['gini', 'entropy']\n",
    "           }\n",
    "\n",
    "# RandomForestClassifier 객체 생성 후 GridSearchCV 수행\n",
    "rf_clf = RandomForestClassifier(random_state = 0, n_jobs = -1)\n",
    "grid_cv = GridSearchCV(rf_clf, param_grid = params, scoring='roc_auc', cv = 5, n_jobs = -1)\n",
    "grid_cv.fit(X_train, y_train)\n",
    "\n",
    "print('최적 하이퍼 파라미터: ', grid_cv.best_params_)"
   ]
  },
  {
   "cell_type": "code",
   "execution_count": 163,
   "metadata": {},
   "outputs": [
    {
     "name": "stdout",
     "output_type": "stream",
     "text": [
      "예측 정확도: 0.5743\n"
     ]
    }
   ],
   "source": [
    "# 다시 학습 및 예측 성능 측정\n",
    "rf_clf1 = RandomForestClassifier(n_estimators = 400, \n",
    "                                max_depth = 17,\n",
    "                                random_state = 1,\n",
    "                                criterion = 'gini')\n",
    "rf_clf1.fit(X_train, y_train)\n",
    "y_pred = rf_clf1.predict(X_test)\n",
    "print('예측 정확도: {:.4f}'.format(accuracy_score(y_test,y_pred)))"
   ]
  },
  {
   "cell_type": "code",
   "execution_count": 164,
   "metadata": {},
   "outputs": [
    {
     "name": "stdout",
     "output_type": "stream",
     "text": [
      "2017년 의류_신발_지출_총금액_Tuning AUC = 0.5057899090157154\n"
     ]
    },
    {
     "data": {
      "image/png": "[encoded data removed]",
      "text/plain": [
       "<Figure size 432x288 with 1 Axes>"
      ]
     },
     "metadata": {
      "needs_background": "light"
     },
     "output_type": "display_data"
    }
   ],
   "source": [
    "# Model Evaluation (AUC)\n",
    "fpr, tpr, thresholds = metrics.roc_curve(y_test, y_pred)\n",
    "roc_auc = metrics.auc(fpr, tpr)\n",
    "print(\"2017년 의류_신발_지출_총금액_Tuning AUC =\", roc_auc)\n",
    "\n",
    "# ROC\n",
    "plt.title('2017년 의류_신발_지출_총금액  _Tuning ROC')\n",
    "plt.xlabel('False Positive Rate(Specificity)')\n",
    "plt.ylabel('True Positive Rate(Sensitivity)')\n",
    "plt.plot(fpr, tpr, 'k', label=roc_auc); \n"
   ]
  },
  {
   "cell_type": "markdown",
   "metadata": {},
   "source": [
    "### 17.2 의류 , 신발 지출 총금 액 (3년)"
   ]
  },
  {
   "cell_type": "code",
   "execution_count": 165,
   "metadata": {},
   "outputs": [],
   "source": [
    "# 의류, 신발 지출 총금액   (2019년)\n",
    "X = df_x.values\n",
    "y = df_y_19.의류_신발_지출_총금액_3년.values\n",
    "\n",
    "# Train, Test Split\n",
    "X_train, X_test, y_train, y_test = train_test_split(X, y, test_size=0.3, random_state=1, stratify=y)"
   ]
  },
  {
   "cell_type": "code",
   "execution_count": 166,
   "metadata": {},
   "outputs": [
    {
     "name": "stdout",
     "output_type": "stream",
     "text": [
      "Fitting 5 folds for each of 12096 candidates, totalling 60480 fits\n"
     ]
    },
    {
     "name": "stderr",
     "output_type": "stream",
     "text": [
      "[Parallel(n_jobs=-1)]: Using backend LokyBackend with 64 concurrent workers.\n",
      "[Parallel(n_jobs=-1)]: Done  72 tasks      | elapsed:    0.2s\n",
      "[Parallel(n_jobs=-1)]: Done 648 tasks      | elapsed:    1.0s\n",
      "[Parallel(n_jobs=-1)]: Done 2048 tasks      | elapsed:    2.4s\n",
      "[Parallel(n_jobs=-1)]: Done 3848 tasks      | elapsed:    4.2s\n",
      "[Parallel(n_jobs=-1)]: Done 6048 tasks      | elapsed:    6.6s\n",
      "[Parallel(n_jobs=-1)]: Done 8648 tasks      | elapsed:    9.2s\n",
      "[Parallel(n_jobs=-1)]: Done 11648 tasks      | elapsed:   12.0s\n",
      "[Parallel(n_jobs=-1)]: Done 15048 tasks      | elapsed:   15.3s\n",
      "[Parallel(n_jobs=-1)]: Done 18848 tasks      | elapsed:   18.8s\n",
      "[Parallel(n_jobs=-1)]: Done 23048 tasks      | elapsed:   22.3s\n",
      "[Parallel(n_jobs=-1)]: Done 27648 tasks      | elapsed:   25.8s\n",
      "[Parallel(n_jobs=-1)]: Done 32648 tasks      | elapsed:   29.3s\n",
      "[Parallel(n_jobs=-1)]: Done 38048 tasks      | elapsed:   32.8s\n",
      "[Parallel(n_jobs=-1)]: Done 43848 tasks      | elapsed:   36.5s\n",
      "[Parallel(n_jobs=-1)]: Done 56192 tasks      | elapsed:   41.6s\n"
     ]
    },
    {
     "name": "stdout",
     "output_type": "stream",
     "text": [
      "[14:17:13] WARNING: ../src/learner.cc:516: \n",
      "Parameters: { n_iter } might not be used.\n",
      "\n",
      "  This may not be accurate due to some parameters are only used in language bindings but\n",
      "  passed down to XGBoost core.  Or some parameters are not used but slip through this\n",
      "  verification. Please open an issue if you find above cases.\n",
      "\n",
      "\n",
      "최적 하이퍼 파라미터:  {'learning_rate': 0.9, 'max_depth': 8, 'n_estimators': 300, 'n_iter': 100}\n",
      "최고 예측 정확도: 0.6702\n"
     ]
    },
    {
     "name": "stderr",
     "output_type": "stream",
     "text": [
      "[Parallel(n_jobs=-1)]: Done 60480 out of 60480 | elapsed:   43.2s finished\n"
     ]
    }
   ],
   "source": [
    "#객체생성 \n",
    "xgb = XGBClassifier(random_state=18)\n",
    "\n",
    "# 하이퍼파라미터 튜닝\n",
    "params = {\n",
    "    'learning_rate': list(np.concatenate([np.arange(1,11)/100, np.arange(2,11)/10, np.arange(2,11)])), 'n_estimators': list(range(100, 400,  100)),\n",
    "    'n_iter': list(range(100, 1000, 100)),\n",
    "    'max_depth': list(range(4, 20)),\n",
    "    }\n",
    "           \n",
    "# XGBClassifier 객체 생성 후 GridSearchCV 수행\n",
    "grid_xgb = GridSearchCV(xgb, param_grid = params, n_jobs = -1, verbose=1, scoring='roc_auc')\n",
    "grid_xgb.fit(X_train, y_train)\n",
    "\n",
    "print('최적 하이퍼 파라미터: ', grid_xgb.best_params_)\n",
    "print('최고 예측 정확도: {:.4f}'.format(grid_xgb.best_score_))"
   ]
  },
  {
   "cell_type": "code",
   "execution_count": 167,
   "metadata": {},
   "outputs": [
    {
     "name": "stdout",
     "output_type": "stream",
     "text": [
      "[14:17:35] WARNING: ../src/learner.cc:516: \n",
      "Parameters: { n_iter } might not be used.\n",
      "\n",
      "  This may not be accurate due to some parameters are only used in language bindings but\n",
      "  passed down to XGBoost core.  Or some parameters are not used but slip through this\n",
      "  verification. Please open an issue if you find above cases.\n",
      "\n",
      "\n",
      "예측 정확도: 0.6337\n"
     ]
    }
   ],
   "source": [
    "xgb1= XGBClassifier(n_estimators = 300, \n",
    "                    max_depth = 8,\n",
    "                    n_iter = 100,\n",
    "                    learning_rate = 0.9,\n",
    "                    random_state = 18,\n",
    "                    n_jobs = -1\n",
    "                    )\n",
    "xgb1.fit(X_train, y_train)\n",
    "y_pred = xgb1.predict(X_test)\n",
    "print('예측 정확도: {:.4f}'.format(accuracy_score(y_test,y_pred)))"
   ]
  },
  {
   "cell_type": "code",
   "execution_count": 168,
   "metadata": {},
   "outputs": [
    {
     "name": "stdout",
     "output_type": "stream",
     "text": [
      "2019년 의류,신발 지출 총금액_Tuning AUC = 0.5790166812993854\n"
     ]
    },
    {
     "data": {
      "image/png": "[encoded data removed]",
      "text/plain": [
       "<Figure size 432x288 with 1 Axes>"
      ]
     },
     "metadata": {
      "needs_background": "light"
     },
     "output_type": "display_data"
    }
   ],
   "source": [
    "# Model Evaluation (AUC)\n",
    "fpr, tpr, thresholds = metrics.roc_curve(y_test, y_pred)\n",
    "roc_auc = metrics.auc(fpr, tpr)\n",
    "print(\"2019년 의류,신발 지출 총금액_Tuning AUC =\", roc_auc)\n",
    "\n",
    "# ROC\n",
    "plt.title('2019년 의류,신발 지출 총금액   _Tuning ROC')\n",
    "plt.xlabel('False Positive Rate(Specificity)')\n",
    "plt.ylabel('True Positive Rate(Sensitivity)')\n",
    "plt.plot(fpr, tpr, 'k', label=roc_auc); \n"
   ]
  },
  {
   "cell_type": "markdown",
   "metadata": {},
   "source": [
    "### 18.1 의료비 지출 (1년)"
   ]
  },
  {
   "cell_type": "code",
   "execution_count": 181,
   "metadata": {},
   "outputs": [],
   "source": [
    "# 의료비_지출_총금액_1년  (2017년)\n",
    "\n",
    "X = df_x.values\n",
    "y = df_y_17.의료비_지출_총금액_1년.values\n",
    "\n",
    "# Train, Test Split\n",
    "X_train, X_test, y_train, y_test = train_test_split(X, y, test_size=0.3, random_state=1, stratify=y)"
   ]
  },
  {
   "cell_type": "code",
   "execution_count": 170,
   "metadata": {},
   "outputs": [
    {
     "name": "stdout",
     "output_type": "stream",
     "text": [
      "Fitting 5 folds for each of 12096 candidates, totalling 60480 fits\n"
     ]
    },
    {
     "name": "stderr",
     "output_type": "stream",
     "text": [
      "[Parallel(n_jobs=-1)]: Using backend LokyBackend with 64 concurrent workers.\n",
      "[Parallel(n_jobs=-1)]: Done  72 tasks      | elapsed:    0.2s\n",
      "[Parallel(n_jobs=-1)]: Done 648 tasks      | elapsed:    1.0s\n",
      "[Parallel(n_jobs=-1)]: Done 3200 tasks      | elapsed:    3.6s\n",
      "[Parallel(n_jobs=-1)]: Done 6800 tasks      | elapsed:    7.4s\n",
      "[Parallel(n_jobs=-1)]: Done 11200 tasks      | elapsed:   11.8s\n",
      "[Parallel(n_jobs=-1)]: Done 16400 tasks      | elapsed:   16.8s\n",
      "[Parallel(n_jobs=-1)]: Done 22400 tasks      | elapsed:   21.8s\n",
      "[Parallel(n_jobs=-1)]: Done 29200 tasks      | elapsed:   26.9s\n",
      "[Parallel(n_jobs=-1)]: Done 36800 tasks      | elapsed:   31.7s\n",
      "[Parallel(n_jobs=-1)]: Done 45200 tasks      | elapsed:   36.3s\n",
      "[Parallel(n_jobs=-1)]: Done 54400 tasks      | elapsed:   40.5s\n"
     ]
    },
    {
     "name": "stdout",
     "output_type": "stream",
     "text": [
      "[14:18:31] WARNING: ../src/learner.cc:516: \n",
      "Parameters: { n_iter } might not be used.\n",
      "\n",
      "  This may not be accurate due to some parameters are only used in language bindings but\n",
      "  passed down to XGBoost core.  Or some parameters are not used but slip through this\n",
      "  verification. Please open an issue if you find above cases.\n",
      "\n",
      "\n",
      "최적 하이퍼 파라미터:  {'learning_rate': 1.0, 'max_depth': 8, 'n_estimators': 100, 'n_iter': 100}\n",
      "최고 예측 정확도: 0.6413\n"
     ]
    },
    {
     "name": "stderr",
     "output_type": "stream",
     "text": [
      "[Parallel(n_jobs=-1)]: Done 60480 out of 60480 | elapsed:   42.6s finished\n"
     ]
    }
   ],
   "source": [
    "#객체생성 \n",
    "xgb = XGBClassifier(random_state=18)\n",
    "\n",
    "# 하이퍼파라미터 튜닝\n",
    "params = {\n",
    "    'learning_rate': list(np.concatenate([np.arange(1,11)/100, np.arange(2,11)/10, np.arange(2,11)])), 'n_estimators': list(range(100, 400,  100)),\n",
    "    'n_iter': list(range(100, 1000, 100)),\n",
    "    'max_depth': list(range(4, 20)),\n",
    "    }\n",
    "           \n",
    "# XGBClassifier 객체 생성 후 GridSearchCV 수행\n",
    "grid_xgb = GridSearchCV(xgb, param_grid = params, n_jobs = -1, verbose=1, scoring='roc_auc')\n",
    "grid_xgb.fit(X_train, y_train)\n",
    "\n",
    "print('최적 하이퍼 파라미터: ', grid_xgb.best_params_)\n",
    "print('최고 예측 정확도: {:.4f}'.format(grid_xgb.best_score_))"
   ]
  },
  {
   "cell_type": "code",
   "execution_count": 182,
   "metadata": {},
   "outputs": [
    {
     "name": "stdout",
     "output_type": "stream",
     "text": [
      "[14:21:36] WARNING: ../src/learner.cc:516: \n",
      "Parameters: { n_iter } might not be used.\n",
      "\n",
      "  This may not be accurate due to some parameters are only used in language bindings but\n",
      "  passed down to XGBoost core.  Or some parameters are not used but slip through this\n",
      "  verification. Please open an issue if you find above cases.\n",
      "\n",
      "\n",
      "예측 정확도: 0.5941\n"
     ]
    }
   ],
   "source": [
    "xgb1= XGBClassifier(n_estimators = 100, \n",
    "                    max_depth = 8,\n",
    "                    n_iter = 100,\n",
    "                    learning_rate = 1.0,\n",
    "                    random_state = 18,\n",
    "                    n_jobs = -1\n",
    "                    )\n",
    "xgb1.fit(X_train, y_train)\n",
    "y_pred = xgb1.predict(X_test)\n",
    "print('예측 정확도: {:.4f}'.format(accuracy_score(y_test,y_pred)))"
   ]
  },
  {
   "cell_type": "code",
   "execution_count": 183,
   "metadata": {},
   "outputs": [
    {
     "name": "stdout",
     "output_type": "stream",
     "text": [
      "2017년_의료비 지출 총금액Tuning AUC = 0.5599273607748183\n"
     ]
    },
    {
     "data": {
      "image/png": "[encoded data removed]",
      "text/plain": [
       "<Figure size 432x288 with 1 Axes>"
      ]
     },
     "metadata": {
      "needs_background": "light"
     },
     "output_type": "display_data"
    }
   ],
   "source": [
    "# Model Evaluation (AUC)\n",
    "fpr, tpr, thresholds = metrics.roc_curve(y_test, y_pred)\n",
    "roc_auc = metrics.auc(fpr, tpr)\n",
    "print(\"2017년_의료비 지출 총금액Tuning AUC =\", roc_auc)\n",
    "\n",
    "# ROC\n",
    "plt.title('2017년_의료비 지출 충금액_Tuning ROC')\n",
    "plt.xlabel('False Positive Rate(Specificity)')\n",
    "plt.ylabel('True Positive Rate(Sensitivity)')\n",
    "plt.plot(fpr, tpr, 'k', label=roc_auc); "
   ]
  },
  {
   "cell_type": "markdown",
   "metadata": {},
   "source": [
    "### 18.2 의료비 지출 (3년)"
   ]
  },
  {
   "cell_type": "code",
   "execution_count": 184,
   "metadata": {},
   "outputs": [],
   "source": [
    "# 의료비_지출_총금액_3년 (2019년)\n",
    "\n",
    "X = df_x.values\n",
    "y = df_y_19.의료비_지출_총금액_3년.values\n",
    "\n",
    "# Train, Test Split\n",
    "X_train, X_test, y_train, y_test = train_test_split(X, y, test_size=0.3, random_state=1, stratify=y)"
   ]
  },
  {
   "cell_type": "code",
   "execution_count": 185,
   "metadata": {},
   "outputs": [
    {
     "name": "stdout",
     "output_type": "stream",
     "text": [
      "Fitting 5 folds for each of 12096 candidates, totalling 60480 fits\n"
     ]
    },
    {
     "name": "stderr",
     "output_type": "stream",
     "text": [
      "[Parallel(n_jobs=-1)]: Using backend LokyBackend with 64 concurrent workers.\n",
      "[Parallel(n_jobs=-1)]: Done  72 tasks      | elapsed:    0.2s\n",
      "[Parallel(n_jobs=-1)]: Done 648 tasks      | elapsed:    1.0s\n",
      "[Parallel(n_jobs=-1)]: Done 2048 tasks      | elapsed:    2.4s\n",
      "[Parallel(n_jobs=-1)]: Done 3848 tasks      | elapsed:    4.2s\n",
      "[Parallel(n_jobs=-1)]: Done 6048 tasks      | elapsed:    6.5s\n",
      "[Parallel(n_jobs=-1)]: Done 8648 tasks      | elapsed:    9.1s\n",
      "[Parallel(n_jobs=-1)]: Done 11648 tasks      | elapsed:   11.8s\n",
      "[Parallel(n_jobs=-1)]: Done 15048 tasks      | elapsed:   15.2s\n",
      "[Parallel(n_jobs=-1)]: Done 18848 tasks      | elapsed:   18.7s\n",
      "[Parallel(n_jobs=-1)]: Done 23048 tasks      | elapsed:   22.2s\n",
      "[Parallel(n_jobs=-1)]: Done 27648 tasks      | elapsed:   25.7s\n",
      "[Parallel(n_jobs=-1)]: Done 32648 tasks      | elapsed:   29.3s\n",
      "[Parallel(n_jobs=-1)]: Done 38592 tasks      | elapsed:   33.3s\n",
      "[Parallel(n_jobs=-1)]: Done 50192 tasks      | elapsed:   38.7s\n",
      "[Parallel(n_jobs=-1)]: Done 60352 tasks      | elapsed:   42.7s\n",
      "[Parallel(n_jobs=-1)]: Done 60480 out of 60480 | elapsed:   42.7s finished\n"
     ]
    },
    {
     "name": "stdout",
     "output_type": "stream",
     "text": [
      "[14:22:38] WARNING: ../src/learner.cc:516: \n",
      "Parameters: { n_iter } might not be used.\n",
      "\n",
      "  This may not be accurate due to some parameters are only used in language bindings but\n",
      "  passed down to XGBoost core.  Or some parameters are not used but slip through this\n",
      "  verification. Please open an issue if you find above cases.\n",
      "\n",
      "\n",
      "최적 하이퍼 파라미터:  {'learning_rate': 1.0, 'max_depth': 7, 'n_estimators': 300, 'n_iter': 100}\n",
      "최고 예측 정확도: 0.6375\n"
     ]
    }
   ],
   "source": [
    "#객체생성 \n",
    "xgb = XGBClassifier(random_state=18)\n",
    "\n",
    "# 하이퍼파라미터 튜닝\n",
    "params = {\n",
    "    'learning_rate': list(np.concatenate([np.arange(1,11)/100, np.arange(2,11)/10, np.arange(2,11)])), 'n_estimators': list(range(100, 400,  100)),\n",
    "    'n_iter': list(range(100, 1000, 100)),\n",
    "    'max_depth': list(range(4, 20)),\n",
    "    }\n",
    "           \n",
    "# XGBClassifier 객체 생성 후 GridSearchCV 수행\n",
    "grid_xgb = GridSearchCV(xgb, param_grid = params, n_jobs = -1, verbose=1, scoring='roc_auc')\n",
    "grid_xgb.fit(X_train, y_train)\n",
    "\n",
    "print('최적 하이퍼 파라미터: ', grid_xgb.best_params_)\n",
    "print('최고 예측 정확도: {:.4f}'.format(grid_xgb.best_score_))"
   ]
  },
  {
   "cell_type": "code",
   "execution_count": 186,
   "metadata": {},
   "outputs": [
    {
     "name": "stdout",
     "output_type": "stream",
     "text": [
      "[14:22:54] WARNING: ../src/learner.cc:516: \n",
      "Parameters: { n_iter } might not be used.\n",
      "\n",
      "  This may not be accurate due to some parameters are only used in language bindings but\n",
      "  passed down to XGBoost core.  Or some parameters are not used but slip through this\n",
      "  verification. Please open an issue if you find above cases.\n",
      "\n",
      "\n",
      "예측 정확도: 0.6040\n"
     ]
    }
   ],
   "source": [
    "xgb1= XGBClassifier(n_estimators = 300 , \n",
    "                    max_depth = 7,\n",
    "                    n_iter = 100,\n",
    "                    learning_rate = 1.0,\n",
    "                    random_state = 18,\n",
    "                    n_jobs = -1\n",
    "                    )\n",
    "xgb1.fit(X_train, y_train)\n",
    "y_pred = xgb1.predict(X_test)\n",
    "print('예측 정확도: {:.4f}'.format(accuracy_score(y_test,y_pred)))"
   ]
  },
  {
   "cell_type": "code",
   "execution_count": 187,
   "metadata": {},
   "outputs": [
    {
     "name": "stdout",
     "output_type": "stream",
     "text": [
      "2019년_의료비_지출_총금액_3년_Tuning AUC = 0.5560606060606061\n"
     ]
    },
    {
     "data": {
      "image/png": "[encoded data removed]",
      "text/plain": [
       "<Figure size 432x288 with 1 Axes>"
      ]
     },
     "metadata": {
      "needs_background": "light"
     },
     "output_type": "display_data"
    }
   ],
   "source": [
    "# Model Evaluation (AUC)\n",
    "fpr, tpr, thresholds = metrics.roc_curve(y_test, y_pred)\n",
    "roc_auc = metrics.auc(fpr, tpr)\n",
    "print(\"2019년_의료비_지출_총금액_3년_Tuning AUC =\", roc_auc)\n",
    "\n",
    "# ROC\n",
    "plt.title('2019년_의료비_지출_총금액_3년_Tuning ROC')\n",
    "plt.xlabel('False Positive Rate(Specificity)')\n",
    "plt.ylabel('True Positive Rate(Sensitivity)')\n",
    "plt.plot(fpr, tpr, 'k', label=roc_auc); "
   ]
  },
  {
   "cell_type": "markdown",
   "metadata": {},
   "source": [
    "### 19.1 생활용품 지출 (1년)"
   ]
  },
  {
   "cell_type": "code",
   "execution_count": 188,
   "metadata": {},
   "outputs": [],
   "source": [
    "# 생활용품_지출_총금액_3년  (2017년)\n",
    "\n",
    "X = df_x.values\n",
    "y = df_y_17.생활용품_지출_총금액_1년.values\n",
    "\n",
    "# Train, Test Split\n",
    "X_train, X_test, y_train, y_test = train_test_split(X, y, test_size=0.3, random_state=1, stratify=y)"
   ]
  },
  {
   "cell_type": "code",
   "execution_count": 175,
   "metadata": {},
   "outputs": [
    {
     "name": "stdout",
     "output_type": "stream",
     "text": [
      "최적 하이퍼 파라미터:  {'C': 2.0}\n",
      "최고 예측 정확도: 0.6240\n"
     ]
    }
   ],
   "source": [
    "log_reg = LogisticRegression()\n",
    "\n",
    "# 하이퍼파라미터 튜닝\n",
    "params = {'C':list(np.concatenate([np.arange(0.01,1,0.01), np.arange(1,10,1)]))}\n",
    "           \n",
    "# Logistic Regression 객체 생성 후 GridSearchCV 수행\n",
    "grid_log = GridSearchCV(log_reg, params, cv=5)\n",
    "grid_log.fit(X_train, y_train)\n",
    "\n",
    "print('최적 하이퍼 파라미터: ', grid_log.best_params_)\n",
    "print('최고 예측 정확도: {:.4f}'.format(grid_log.best_score_))"
   ]
  },
  {
   "cell_type": "code",
   "execution_count": 176,
   "metadata": {},
   "outputs": [
    {
     "name": "stdout",
     "output_type": "stream",
     "text": [
      "예측 정확도: 0.5941\n"
     ]
    }
   ],
   "source": [
    "# 다시 학습 및 예측 성능 측정\n",
    "lg_clf = LogisticRegression(C= 2.0,\n",
    "                                n_jobs=-1,\n",
    "                                random_state=18,\n",
    "                                verbose=0)\n",
    "lg_clf.fit(X_train, y_train)\n",
    "y_pred = lg_clf.predict(X_test)\n",
    "print('예측 정확도: {:.4f}'.format(accuracy_score(y_test,y_pred)))"
   ]
  },
  {
   "cell_type": "code",
   "execution_count": 177,
   "metadata": {},
   "outputs": [
    {
     "name": "stdout",
     "output_type": "stream",
     "text": [
      "2017년 지출 총금액_Tuning AUC = 0.5124069478908189\n"
     ]
    },
    {
     "data": {
      "image/png": "[encoded data removed]",
      "text/plain": [
       "<Figure size 432x288 with 1 Axes>"
      ]
     },
     "metadata": {
      "needs_background": "light"
     },
     "output_type": "display_data"
    }
   ],
   "source": [
    "# Model Evaluation (AUC)\n",
    "fpr, tpr, thresholds = metrics.roc_curve(y_test, y_pred)\n",
    "roc_auc = metrics.auc(fpr, tpr)\n",
    "print(\"2017년 지출 총금액_Tuning AUC =\", roc_auc)\n",
    "\n",
    "# ROC\n",
    "plt.title('2017년 지출 총금액_Tuning ROC')\n",
    "plt.xlabel('False Positive Rate(Specificity)')\n",
    "plt.ylabel('True Positive Rate(Sensitivity)')\n",
    "plt.plot(fpr, tpr, 'k', label=roc_auc); "
   ]
  },
  {
   "cell_type": "markdown",
   "metadata": {},
   "source": [
    "### 19.2 생활용출 지출 (3년)"
   ]
  },
  {
   "cell_type": "code",
   "execution_count": 189,
   "metadata": {},
   "outputs": [],
   "source": [
    "# 거주 세대 수  (2017년)\n",
    "\n",
    "X = df_x.values\n",
    "y = df_y_19.생활용품_지출_총금액_3년.values\n",
    "\n",
    "# Train, Test Split\n",
    "X_train, X_test, y_train, y_test = train_test_split(X, y, test_size=0.3, random_state=1, stratify=y)"
   ]
  },
  {
   "cell_type": "code",
   "execution_count": 190,
   "metadata": {},
   "outputs": [
    {
     "name": "stdout",
     "output_type": "stream",
     "text": [
      "Fitting 5 folds for each of 12096 candidates, totalling 60480 fits\n"
     ]
    },
    {
     "name": "stderr",
     "output_type": "stream",
     "text": [
      "[Parallel(n_jobs=-1)]: Using backend LokyBackend with 64 concurrent workers.\n",
      "[Parallel(n_jobs=-1)]: Done  72 tasks      | elapsed:    0.2s\n",
      "[Parallel(n_jobs=-1)]: Done 648 tasks      | elapsed:    1.0s\n",
      "[Parallel(n_jobs=-1)]: Done 3200 tasks      | elapsed:    3.4s\n",
      "[Parallel(n_jobs=-1)]: Done 6800 tasks      | elapsed:    7.0s\n",
      "[Parallel(n_jobs=-1)]: Done 11200 tasks      | elapsed:   11.3s\n",
      "[Parallel(n_jobs=-1)]: Done 16400 tasks      | elapsed:   15.9s\n",
      "[Parallel(n_jobs=-1)]: Done 22400 tasks      | elapsed:   20.9s\n",
      "[Parallel(n_jobs=-1)]: Done 29200 tasks      | elapsed:   25.8s\n",
      "[Parallel(n_jobs=-1)]: Done 36800 tasks      | elapsed:   30.5s\n",
      "[Parallel(n_jobs=-1)]: Done 45200 tasks      | elapsed:   34.9s\n",
      "[Parallel(n_jobs=-1)]: Done 54400 tasks      | elapsed:   38.9s\n"
     ]
    },
    {
     "name": "stdout",
     "output_type": "stream",
     "text": [
      "[14:24:08] WARNING: ../src/learner.cc:516: \n",
      "Parameters: { n_iter } might not be used.\n",
      "\n",
      "  This may not be accurate due to some parameters are only used in language bindings but\n",
      "  passed down to XGBoost core.  Or some parameters are not used but slip through this\n",
      "  verification. Please open an issue if you find above cases.\n",
      "\n",
      "\n",
      "최적 하이퍼 파라미터:  {'learning_rate': 2.0, 'max_depth': 8, 'n_estimators': 200, 'n_iter': 100}\n",
      "최고 예측 정확도: 0.7058\n"
     ]
    },
    {
     "name": "stderr",
     "output_type": "stream",
     "text": [
      "[Parallel(n_jobs=-1)]: Done 60480 out of 60480 | elapsed:   41.1s finished\n"
     ]
    }
   ],
   "source": [
    "#객체생성 \n",
    "xgb = XGBClassifier(random_state=18)\n",
    "\n",
    "# 하이퍼파라미터 튜닝\n",
    "params = {\n",
    "    'learning_rate': list(np.concatenate([np.arange(1,11)/100, np.arange(2,11)/10, np.arange(2,11)])), 'n_estimators': list(range(100, 400,  100)),\n",
    "    'n_iter': list(range(100, 1000, 100)),\n",
    "    'max_depth': list(range(4, 20)),\n",
    "    }\n",
    "           \n",
    "# XGBClassifier 객체 생성 후 GridSearchCV 수행\n",
    "grid_xgb = GridSearchCV(xgb, param_grid = params, n_jobs = -1, verbose=1, scoring='roc_auc')\n",
    "grid_xgb.fit(X_train, y_train)\n",
    "\n",
    "print('최적 하이퍼 파라미터: ', grid_xgb.best_params_)\n",
    "print('최고 예측 정확도: {:.4f}'.format(grid_xgb.best_score_))"
   ]
  },
  {
   "cell_type": "code",
   "execution_count": 193,
   "metadata": {},
   "outputs": [
    {
     "name": "stdout",
     "output_type": "stream",
     "text": [
      "[14:24:40] WARNING: ../src/learner.cc:516: \n",
      "Parameters: { n_iter } might not be used.\n",
      "\n",
      "  This may not be accurate due to some parameters are only used in language bindings but\n",
      "  passed down to XGBoost core.  Or some parameters are not used but slip through this\n",
      "  verification. Please open an issue if you find above cases.\n",
      "\n",
      "\n",
      "예측 정확도: 0.6733\n"
     ]
    }
   ],
   "source": [
    "xgb1= XGBClassifier(n_estimators = 200, \n",
    "                    max_depth = 10,\n",
    "                    n_iter = 100,\n",
    "                    learning_rate = 2.0,\n",
    "                    random_state = 18,\n",
    "                    n_jobs = -1\n",
    "                    )\n",
    "xgb1.fit(X_train, y_train)\n",
    "y_pred = xgb1.predict(X_test)\n",
    "print('예측 정확도: {:.4f}'.format(accuracy_score(y_test,y_pred)))"
   ]
  },
  {
   "cell_type": "code",
   "execution_count": 194,
   "metadata": {},
   "outputs": [
    {
     "name": "stdout",
     "output_type": "stream",
     "text": [
      "2019년_생활용품_지출_총금액__Tuning AUC = 0.6158008658008658\n"
     ]
    },
    {
     "data": {
      "image/png": "[encoded data removed]",
      "text/plain": [
       "<Figure size 432x288 with 1 Axes>"
      ]
     },
     "metadata": {
      "needs_background": "light"
     },
     "output_type": "display_data"
    }
   ],
   "source": [
    "# Model Evaluation (AUC)\n",
    "fpr, tpr, thresholds = metrics.roc_curve(y_test, y_pred)\n",
    "roc_auc = metrics.auc(fpr, tpr)\n",
    "print(\"2019년_생활용품_지출_총금액__Tuning AUC =\", roc_auc)\n",
    "\n",
    "# ROC\n",
    "plt.title('2019년_생활용품_지출_총금액_Tuning ROC')\n",
    "plt.xlabel('False Positive Rate(Specificity)')\n",
    "plt.ylabel('True Positive Rate(Sensitivity)')\n",
    "plt.plot(fpr, tpr, 'k', label=roc_auc); "
   ]
  },
  {
   "cell_type": "markdown",
   "metadata": {},
   "source": [
    "### 20.1 여가 지출 (1년)"
   ]
  },
  {
   "cell_type": "code",
   "execution_count": 195,
   "metadata": {},
   "outputs": [],
   "source": [
    "# 여가_지출_총금액_1년  (2017년)\n",
    "\n",
    "X = df_x.values\n",
    "y = df_y_17.여가_지출_총금액_1년.values\n",
    "\n",
    "# Train, Test Split\n",
    "X_train, X_test, y_train, y_test = train_test_split(X, y, test_size=0.3, random_state=1, stratify=y)"
   ]
  },
  {
   "cell_type": "code",
   "execution_count": 196,
   "metadata": {},
   "outputs": [
    {
     "name": "stdout",
     "output_type": "stream",
     "text": [
      "최적 하이퍼 파라미터:  {'criterion': 'entropy', 'max_depth': 17, 'n_estimators': 400}\n"
     ]
    }
   ],
   "source": [
    "# 하이퍼파라미터 튜닝\n",
    "from sklearn.model_selection import GridSearchCV\n",
    "\n",
    "params = {'n_estimators' :[300,400,500],\n",
    "           'max_depth' : list(range(4, 20)),\n",
    "           'criterion' : ['gini', 'entropy']\n",
    "           }\n",
    "\n",
    "# RandomForestClassifier 객체 생성 후 GridSearchCV 수행\n",
    "rf_clf = RandomForestClassifier(random_state = 0, n_jobs = -1)\n",
    "grid_cv = GridSearchCV(rf_clf, param_grid = params, scoring='roc_auc', cv = 5, n_jobs = -1)\n",
    "grid_cv.fit(X_train, y_train)\n",
    "\n",
    "print('최적 하이퍼 파라미터: ', grid_cv.best_params_)"
   ]
  },
  {
   "cell_type": "code",
   "execution_count": 197,
   "metadata": {},
   "outputs": [
    {
     "name": "stdout",
     "output_type": "stream",
     "text": [
      "예측 정확도: 0.5248\n"
     ]
    }
   ],
   "source": [
    "# 다시 학습 및 예측 성능 측정\n",
    "rf_clf1 = RandomForestClassifier(n_estimators = 400, \n",
    "                                max_depth = 17,\n",
    "                                random_state = 1,\n",
    "                                criterion = 'entropy')\n",
    "rf_clf1.fit(X_train, y_train)\n",
    "y_pred = rf_clf1.predict(X_test)\n",
    "print('예측 정확도: {:.4f}'.format(accuracy_score(y_test,y_pred)))"
   ]
  },
  {
   "cell_type": "code",
   "execution_count": 198,
   "metadata": {},
   "outputs": [
    {
     "name": "stdout",
     "output_type": "stream",
     "text": [
      "2017년_여가_지출_총금액_Tuning AUC = 0.4749793217535153\n"
     ]
    },
    {
     "data": {
      "image/png": "[encoded data removed]",
      "text/plain": [
       "<Figure size 432x288 with 1 Axes>"
      ]
     },
     "metadata": {
      "needs_background": "light"
     },
     "output_type": "display_data"
    }
   ],
   "source": [
    "# Model Evaluation (AUC)\n",
    "fpr, tpr, thresholds = metrics.roc_curve(y_test, y_pred)\n",
    "roc_auc = metrics.auc(fpr, tpr)\n",
    "print(\"2017년_여가_지출_총금액_Tuning AUC =\", roc_auc)\n",
    "\n",
    "# ROC\n",
    "plt.title('2017년_여가_지출_총금액_Tuning ROC')\n",
    "plt.xlabel('False Positive Rate(Specificity)')\n",
    "plt.ylabel('True Positive Rate(Sensitivity)')\n",
    "plt.plot(fpr, tpr, 'k', label=roc_auc); "
   ]
  },
  {
   "cell_type": "markdown",
   "metadata": {},
   "source": [
    "### 20.2 여가 지출 (3년)"
   ]
  },
  {
   "cell_type": "code",
   "execution_count": 199,
   "metadata": {},
   "outputs": [],
   "source": [
    "# 여가_지출_총금액_3년  (2019년)\n",
    "\n",
    "X = df_x.values\n",
    "y = df_y_19.여가_지출_총금액_3년.values\n",
    "\n",
    "# Train, Test Split\n",
    "X_train, X_test, y_train, y_test = train_test_split(X, y, test_size=0.3, random_state=1, stratify=y)"
   ]
  },
  {
   "cell_type": "code",
   "execution_count": 200,
   "metadata": {},
   "outputs": [
    {
     "name": "stdout",
     "output_type": "stream",
     "text": [
      "Fitting 5 folds for each of 12096 candidates, totalling 60480 fits\n"
     ]
    },
    {
     "name": "stderr",
     "output_type": "stream",
     "text": [
      "[Parallel(n_jobs=-1)]: Using backend LokyBackend with 64 concurrent workers.\n",
      "[Parallel(n_jobs=-1)]: Done  72 tasks      | elapsed:    0.2s\n",
      "[Parallel(n_jobs=-1)]: Done 648 tasks      | elapsed:    1.0s\n",
      "[Parallel(n_jobs=-1)]: Done 2048 tasks      | elapsed:    2.6s\n",
      "[Parallel(n_jobs=-1)]: Done 3848 tasks      | elapsed:    4.3s\n",
      "[Parallel(n_jobs=-1)]: Done 6048 tasks      | elapsed:    6.7s\n",
      "[Parallel(n_jobs=-1)]: Done 8648 tasks      | elapsed:    9.2s\n",
      "[Parallel(n_jobs=-1)]: Done 11648 tasks      | elapsed:   12.0s\n",
      "[Parallel(n_jobs=-1)]: Done 15048 tasks      | elapsed:   15.3s\n",
      "[Parallel(n_jobs=-1)]: Done 18848 tasks      | elapsed:   18.8s\n",
      "[Parallel(n_jobs=-1)]: Done 23048 tasks      | elapsed:   22.3s\n",
      "[Parallel(n_jobs=-1)]: Done 27648 tasks      | elapsed:   25.7s\n",
      "[Parallel(n_jobs=-1)]: Done 32648 tasks      | elapsed:   29.2s\n",
      "[Parallel(n_jobs=-1)]: Done 38592 tasks      | elapsed:   33.0s\n",
      "[Parallel(n_jobs=-1)]: Done 50192 tasks      | elapsed:   38.4s\n",
      "[Parallel(n_jobs=-1)]: Done 60352 tasks      | elapsed:   42.4s\n",
      "[Parallel(n_jobs=-1)]: Done 60480 out of 60480 | elapsed:   42.4s finished\n"
     ]
    },
    {
     "name": "stdout",
     "output_type": "stream",
     "text": [
      "[14:26:08] WARNING: ../src/learner.cc:516: \n",
      "Parameters: { n_iter } might not be used.\n",
      "\n",
      "  This may not be accurate due to some parameters are only used in language bindings but\n",
      "  passed down to XGBoost core.  Or some parameters are not used but slip through this\n",
      "  verification. Please open an issue if you find above cases.\n",
      "\n",
      "\n",
      "최적 하이퍼 파라미터:  {'learning_rate': 0.8, 'max_depth': 5, 'n_estimators': 200, 'n_iter': 100}\n",
      "최고 예측 정확도: 0.7074\n"
     ]
    }
   ],
   "source": [
    "#객체생성 \n",
    "xgb = XGBClassifier(random_state=18)\n",
    "\n",
    "# 하이퍼파라미터 튜닝\n",
    "params = {\n",
    "    'learning_rate': list(np.concatenate([np.arange(1,11)/100, np.arange(2,11)/10, np.arange(2,11)])), 'n_estimators': list(range(100, 400,  100)),\n",
    "    'n_iter': list(range(100, 1000, 100)),\n",
    "    'max_depth': list(range(4, 20)),\n",
    "    }\n",
    "           \n",
    "# XGBClassifier 객체 생성 후 GridSearchCV 수행\n",
    "grid_xgb = GridSearchCV(xgb, param_grid = params, n_jobs = -1, verbose=1, scoring='roc_auc')\n",
    "grid_xgb.fit(X_train, y_train)\n",
    "\n",
    "print('최적 하이퍼 파라미터: ', grid_xgb.best_params_)\n",
    "print('최고 예측 정확도: {:.4f}'.format(grid_xgb.best_score_))"
   ]
  },
  {
   "cell_type": "code",
   "execution_count": 201,
   "metadata": {},
   "outputs": [
    {
     "name": "stdout",
     "output_type": "stream",
     "text": [
      "[14:26:28] WARNING: ../src/learner.cc:516: \n",
      "Parameters: { n_iter } might not be used.\n",
      "\n",
      "  This may not be accurate due to some parameters are only used in language bindings but\n",
      "  passed down to XGBoost core.  Or some parameters are not used but slip through this\n",
      "  verification. Please open an issue if you find above cases.\n",
      "\n",
      "\n",
      "예측 정확도: 0.6634\n"
     ]
    }
   ],
   "source": [
    "xgb1= XGBClassifier(n_estimators = 200, \n",
    "                    max_depth = 6,\n",
    "                    n_iter = 100,\n",
    "                    learning_rate = 0.8,\n",
    "                    random_state = 18,\n",
    "                    n_jobs = -1\n",
    "                    )\n",
    "xgb1.fit(X_train, y_train)\n",
    "y_pred = xgb1.predict(X_test)\n",
    "print('예측 정확도: {:.4f}'.format(accuracy_score(y_test,y_pred)))"
   ]
  },
  {
   "cell_type": "code",
   "execution_count": 202,
   "metadata": {},
   "outputs": [
    {
     "name": "stdout",
     "output_type": "stream",
     "text": [
      "2019년_여가_지출_총금액_Tuning AUC = 0.6352459016393442\n"
     ]
    },
    {
     "data": {
      "image/png": "[encoded data removed]",
      "text/plain": [
       "<Figure size 432x288 with 1 Axes>"
      ]
     },
     "metadata": {
      "needs_background": "light"
     },
     "output_type": "display_data"
    }
   ],
   "source": [
    "# Model Evaluation (AUC)\n",
    "fpr, tpr, thresholds = metrics.roc_curve(y_test, y_pred)\n",
    "roc_auc = metrics.auc(fpr, tpr)\n",
    "print(\"2019년_여가_지출_총금액_Tuning AUC =\", roc_auc)\n",
    "\n",
    "# ROC\n",
    "plt.title('2019년_여가_지출_총금액_Tuning ROC')\n",
    "plt.xlabel('False Positive Rate(Specificity)')\n",
    "plt.ylabel('True Positive Rate(Sensitivity)')\n",
    "plt.plot(fpr, tpr, 'k', label=roc_auc); "
   ]
  },
  {
   "cell_type": "markdown",
   "metadata": {},
   "source": [
    "### 21.1 식료품 지출 (1년)"
   ]
  },
  {
   "cell_type": "code",
   "execution_count": 203,
   "metadata": {},
   "outputs": [],
   "source": [
    "# 식료품_지출_총금액_1년  (2017년)\n",
    "\n",
    "X = df_x.values\n",
    "y = df_y_17.식료품_지출_총금액_1년.values\n",
    "\n",
    "# Train, Test Split\n",
    "X_train, X_test, y_train, y_test = train_test_split(X, y, test_size=0.3, random_state=1, stratify=y)"
   ]
  },
  {
   "cell_type": "code",
   "execution_count": 204,
   "metadata": {},
   "outputs": [
    {
     "name": "stdout",
     "output_type": "stream",
     "text": [
      "Fitting 5 folds for each of 12096 candidates, totalling 60480 fits\n"
     ]
    },
    {
     "name": "stderr",
     "output_type": "stream",
     "text": [
      "[Parallel(n_jobs=-1)]: Using backend LokyBackend with 64 concurrent workers.\n",
      "[Parallel(n_jobs=-1)]: Done  72 tasks      | elapsed:    0.2s\n",
      "[Parallel(n_jobs=-1)]: Done 648 tasks      | elapsed:    1.0s\n",
      "[Parallel(n_jobs=-1)]: Done 3200 tasks      | elapsed:    3.6s\n",
      "[Parallel(n_jobs=-1)]: Done 6800 tasks      | elapsed:    7.2s\n",
      "[Parallel(n_jobs=-1)]: Done 11200 tasks      | elapsed:   11.4s\n",
      "[Parallel(n_jobs=-1)]: Done 16400 tasks      | elapsed:   16.1s\n",
      "[Parallel(n_jobs=-1)]: Done 22400 tasks      | elapsed:   21.0s\n",
      "[Parallel(n_jobs=-1)]: Done 29200 tasks      | elapsed:   26.2s\n",
      "[Parallel(n_jobs=-1)]: Done 36800 tasks      | elapsed:   30.9s\n",
      "[Parallel(n_jobs=-1)]: Done 45200 tasks      | elapsed:   35.2s\n",
      "[Parallel(n_jobs=-1)]: Done 54400 tasks      | elapsed:   39.4s\n"
     ]
    },
    {
     "name": "stdout",
     "output_type": "stream",
     "text": [
      "[14:27:23] WARNING: ../src/learner.cc:516: \n",
      "Parameters: { n_iter } might not be used.\n",
      "\n",
      "  This may not be accurate due to some parameters are only used in language bindings but\n",
      "  passed down to XGBoost core.  Or some parameters are not used but slip through this\n",
      "  verification. Please open an issue if you find above cases.\n",
      "\n",
      "\n",
      "최적 하이퍼 파라미터:  {'learning_rate': 1.0, 'max_depth': 9, 'n_estimators': 200, 'n_iter': 100}\n",
      "최고 예측 정확도: 0.7267\n"
     ]
    },
    {
     "name": "stderr",
     "output_type": "stream",
     "text": [
      "[Parallel(n_jobs=-1)]: Done 60480 out of 60480 | elapsed:   41.7s finished\n"
     ]
    }
   ],
   "source": [
    "#객체생성 \n",
    "xgb = XGBClassifier(random_state=18)\n",
    "\n",
    "# 하이퍼파라미터 튜닝\n",
    "params = {\n",
    "    'learning_rate': list(np.concatenate([np.arange(1,11)/100, np.arange(2,11)/10, np.arange(2,11)])), 'n_estimators': list(range(100, 400,  100)),\n",
    "    'n_iter': list(range(100, 1000, 100)),\n",
    "    'max_depth': list(range(4, 20)),\n",
    "    }\n",
    "           \n",
    "# XGBClassifier 객체 생성 후 GridSearchCV 수행\n",
    "grid_xgb = GridSearchCV(xgb, param_grid = params, n_jobs = -1, verbose=1, scoring='roc_auc')\n",
    "grid_xgb.fit(X_train, y_train)\n",
    "\n",
    "print('최적 하이퍼 파라미터: ', grid_xgb.best_params_)\n",
    "print('최고 예측 정확도: {:.4f}'.format(grid_xgb.best_score_))"
   ]
  },
  {
   "cell_type": "code",
   "execution_count": 205,
   "metadata": {},
   "outputs": [
    {
     "name": "stdout",
     "output_type": "stream",
     "text": [
      "[14:27:42] WARNING: ../src/learner.cc:516: \n",
      "Parameters: { n_iter } might not be used.\n",
      "\n",
      "  This may not be accurate due to some parameters are only used in language bindings but\n",
      "  passed down to XGBoost core.  Or some parameters are not used but slip through this\n",
      "  verification. Please open an issue if you find above cases.\n",
      "\n",
      "\n",
      "예측 정확도: 0.5644\n"
     ]
    }
   ],
   "source": [
    "xgb1= XGBClassifier(n_estimators = 200, \n",
    "                    max_depth = 9,\n",
    "                    n_iter = 100,\n",
    "                    learning_rate = 1.0 ,\n",
    "                    random_state = 18,\n",
    "                    n_jobs = -1\n",
    "                    )\n",
    "xgb1.fit(X_train, y_train)\n",
    "y_pred = xgb1.predict(X_test)\n",
    "print('예측 정확도: {:.4f}'.format(accuracy_score(y_test,y_pred)))"
   ]
  },
  {
   "cell_type": "code",
   "execution_count": 206,
   "metadata": {},
   "outputs": [
    {
     "name": "stdout",
     "output_type": "stream",
     "text": [
      "2017년_식료품_지출_총금액_Tuning AUC = 0.5357733664185277\n"
     ]
    },
    {
     "data": {
      "image/png": "[encoded data removed]",
      "text/plain": [
       "<Figure size 432x288 with 1 Axes>"
      ]
     },
     "metadata": {
      "needs_background": "light"
     },
     "output_type": "display_data"
    }
   ],
   "source": [
    "# Model Evaluation (AUC)\n",
    "fpr, tpr, thresholds = metrics.roc_curve(y_test, y_pred)\n",
    "roc_auc = metrics.auc(fpr, tpr)\n",
    "print(\"2017년_식료품_지출_총금액_Tuning AUC =\", roc_auc)\n",
    "\n",
    "# ROC\n",
    "plt.title('2017년_식료품_지출_총금액_Tuning ROC')\n",
    "plt.xlabel('False Positive Rate(Specificity)')\n",
    "plt.ylabel('True Positive Rate(Sensitivity)')\n",
    "plt.plot(fpr, tpr, 'k', label=roc_auc); "
   ]
  },
  {
   "cell_type": "markdown",
   "metadata": {},
   "source": [
    "### 21.2 식료품 지출 (3년)"
   ]
  },
  {
   "cell_type": "code",
   "execution_count": 207,
   "metadata": {},
   "outputs": [],
   "source": [
    "# 여가_지출_총금액_1년  (2017년)\n",
    "\n",
    "X = df_x.values\n",
    "y = df_y_19.식료품_지출_총금액_3년.values\n",
    "\n",
    "# Train, Test Split\n",
    "X_train, X_test, y_train, y_test = train_test_split(X, y, test_size=0.3, random_state=1, stratify=y)"
   ]
  },
  {
   "cell_type": "code",
   "execution_count": 208,
   "metadata": {},
   "outputs": [
    {
     "name": "stdout",
     "output_type": "stream",
     "text": [
      "최적 하이퍼 파라미터:  {'criterion': 'entropy', 'max_depth': 6, 'n_estimators': 300}\n"
     ]
    }
   ],
   "source": [
    "# 하이퍼파라미터 튜닝\n",
    "from sklearn.model_selection import GridSearchCV\n",
    "\n",
    "params = {'n_estimators' :[300,400,500],\n",
    "           'max_depth' : list(range(4, 20)),\n",
    "           'criterion' : ['gini', 'entropy']\n",
    "           }\n",
    "\n",
    "# RandomForestClassifier 객체 생성 후 GridSearchCV 수행\n",
    "rf_clf = RandomForestClassifier(random_state = 0, n_jobs = -1)\n",
    "grid_cv = GridSearchCV(rf_clf, param_grid = params, scoring='roc_auc', cv = 5, n_jobs = -1)\n",
    "grid_cv.fit(X_train, y_train)\n",
    "\n",
    "print('최적 하이퍼 파라미터: ', grid_cv.best_params_)"
   ]
  },
  {
   "cell_type": "code",
   "execution_count": 209,
   "metadata": {},
   "outputs": [
    {
     "name": "stdout",
     "output_type": "stream",
     "text": [
      "예측 정확도: 0.6436\n"
     ]
    }
   ],
   "source": [
    "# 다시 학습 및 예측 성능 측정\n",
    "rf_clf1 = RandomForestClassifier(n_estimators = 300, \n",
    "                                max_depth = 6,\n",
    "                                random_state = 1,\n",
    "                                criterion = 'entropy')\n",
    "rf_clf1.fit(X_train, y_train)\n",
    "y_pred = rf_clf1.predict(X_test)\n",
    "print('예측 정확도: {:.4f}'.format(accuracy_score(y_test,y_pred)))"
   ]
  },
  {
   "cell_type": "code",
   "execution_count": 210,
   "metadata": {},
   "outputs": [
    {
     "name": "stdout",
     "output_type": "stream",
     "text": [
      "2019년_식료품_지출_총금액_Tuning AUC = 0.49353832442067735\n"
     ]
    },
    {
     "data": {
      "image/png": "[encoded data removed]",
      "text/plain": [
       "<Figure size 432x288 with 1 Axes>"
      ]
     },
     "metadata": {
      "needs_background": "light"
     },
     "output_type": "display_data"
    }
   ],
   "source": [
    "# Model Evaluation (AUC)\n",
    "fpr, tpr, thresholds = metrics.roc_curve(y_test, y_pred)\n",
    "roc_auc = metrics.auc(fpr, tpr)\n",
    "print(\"2019년_식료품_지출_총금액_Tuning AUC =\", roc_auc)\n",
    "\n",
    "# ROC\n",
    "plt.title('2019년_식료품_지출_총금액_Tuning ROC')\n",
    "plt.xlabel('False Positive Rate(Specificity)')\n",
    "plt.ylabel('True Positive Rate(Sensitivity)')\n",
    "plt.plot(fpr, tpr, 'k', label=roc_auc); "
   ]
  }
 ],
 "metadata": {
  "kernelspec": {
   "display_name": "Python 3",
   "language": "python",
   "name": "python3"
  },
  "language_info": {
   "codemirror_mode": {
    "name": "ipython",
    "version": 3
   },
   "file_extension": ".py",
   "mimetype": "text/x-python",
   "name": "python",
   "nbconvert_exporter": "python",
   "pygments_lexer": "ipython3",
   "version": "3.7.6"
  }
 },
 "nbformat": 4,
 "nbformat_minor": 4
}
